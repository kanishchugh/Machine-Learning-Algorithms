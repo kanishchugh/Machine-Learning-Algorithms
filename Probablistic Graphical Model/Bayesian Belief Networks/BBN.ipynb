{
 "cells": [
  {
   "cell_type": "markdown",
   "metadata": {},
   "source": [
    "# Bayesian Belief Networks(BBN)\n",
    "---\n",
    "While Naive Bayes is built on the assumption that all variables are independent, which is often not true.\n",
    "In some cases you may want to build a model where you can specify which variables are dependent, independent, or ***conditionally independent***  (semi-supervised). \n",
    "\n",
    "We simply define how different nodes in the network ar linked together.\n",
    "\n",
    "Bayesian Belief Network (BBN) is a probabilistic graphical method(PGM) that represents a set of variables and their conditional dependencies via a Directed Acrylic graph(DAG)"
   ]
  },
  {
   "cell_type": "code",
   "execution_count": 6,
   "metadata": {},
   "outputs": [],
   "source": [
    "import pandas as pd\n",
    "import networkx as nx\n",
    "import matplotlib.pyplot as plt\n",
    "\n",
    "from pybbn.graph.dag import Bbn\n",
    "from pybbn.graph.edge import Edge, EdgeType\n",
    "from pybbn.graph.jointree import EvidenceBuilder\n",
    "from pybbn.graph.node import BbnNode\n",
    "from pybbn.graph.variable import Variable\n",
    "from pybbn.pptc.inferencecontroller import InferenceController"
   ]
  },
  {
   "cell_type": "code",
   "execution_count": 14,
   "metadata": {},
   "outputs": [],
   "source": [
    "df = pd.read_csv('../data/weatherAUS.csv')\n",
    "\n",
    "df=df[pd.isnull(df['RainTomorrow'])==False]\n",
    "\n",
    "df=df.fillna(df.mean())\n",
    "\n",
    "df['WindGustSpeedCat']=df['WindGustSpeed'].apply(lambda x: '0.<=40'   if x<=40 else\n",
    "                                                            '1.40-50' if 40<x<=50 else '2.>50')\n",
    "df['Humidity9amCat']=df['Humidity9am'].apply(lambda x: '1.>60' if x>60 else '0.<=60')\n",
    "df['Humidity3pmCat']=df['Humidity3pm'].apply(lambda x: '1.>60' if x>60 else '0.<=60')\n"
   ]
  },
  {
   "cell_type": "code",
   "execution_count": 15,
   "metadata": {},
   "outputs": [],
   "source": [
    "H9am = BbnNode(Variable(0, 'H9am', ['<=60', '>60']), [0.30658, 0.69342])\n",
    "H3pm = BbnNode(Variable(1, 'H3pm', ['<=60', '>60']), [0.92827, 0.07173, \n",
    "                                                      0.55760, 0.44240])\n",
    "W = BbnNode(Variable(2, 'W', ['<=40', '40-50', '>50']), [0.58660, 0.24040, 0.17300])\n",
    "RT = BbnNode(Variable(3, 'RT', ['No', 'Yes']), [0.92314, 0.07686, \n",
    "                                                0.89072, 0.10928, \n",
    "                                                0.76008, 0.23992, \n",
    "                                                0.64250, 0.35750, \n",
    "                                                0.49168, 0.50832, \n",
    "                                                0.32182, 0.67818])"
   ]
  },
  {
   "cell_type": "code",
   "execution_count": 16,
   "metadata": {},
   "outputs": [],
   "source": [
    "def probs(data, child, parent1=None, parent2=None):\n",
    "    if parent1==None:\n",
    "        prob=pd.crosstab(data[child], 'Empty', margins=False, normalize='columns').sort_index().to_numpy().reshape(-1).tolist()\n",
    "    elif parent1!=None:\n",
    "            if parent2==None:\n",
    "                prob=pd.crosstab(data[parent1],data[child], margins=False, normalize='index').sort_index().to_numpy().reshape(-1).tolist()\n",
    "            else:    \n",
    "                prob=pd.crosstab([data[parent1],data[parent2]],data[child], margins=False, normalize='index').sort_index().to_numpy().reshape(-1).tolist()\n",
    "    else: print(\"Error in Probability Frequency Calculations\")\n",
    "    return prob  "
   ]
  },
  {
   "cell_type": "code",
   "execution_count": 17,
   "metadata": {},
   "outputs": [],
   "source": [
    "H9am = BbnNode(Variable(0, 'H9am', ['<=60', '>60']), probs(df, child='Humidity9amCat'))\n",
    "H3pm = BbnNode(Variable(1, 'H3pm', ['<=60', '>60']), probs(df, child='Humidity3pmCat', parent1='Humidity9amCat'))\n",
    "W = BbnNode(Variable(2, 'W', ['<=40', '40-50', '>50']), probs(df, child='WindGustSpeedCat'))\n",
    "RT = BbnNode(Variable(3, 'RT', ['No', 'Yes']), probs(df, child='RainTomorrow', parent1='Humidity3pmCat', parent2='WindGustSpeedCat'))\n",
    "\n",
    "bbn = Bbn() \\\n",
    "    .add_node(H9am) \\\n",
    "    .add_node(H3pm) \\\n",
    "    .add_node(W) \\\n",
    "    .add_node(RT) \\\n",
    "    .add_edge(Edge(H9am, H3pm, EdgeType.DIRECTED)) \\\n",
    "    .add_edge(Edge(H3pm, RT, EdgeType.DIRECTED)) \\\n",
    "    .add_edge(Edge(W, RT, EdgeType.DIRECTED))\n",
    "\n",
    "join_tree = InferenceController.apply(bbn)"
   ]
  },
  {
   "cell_type": "code",
   "execution_count": 22,
   "metadata": {},
   "outputs": [
    {
     "data": {
      "image/png": "[encoded data removed]",
      "text/plain": [
       "<Figure size 432x288 with 1 Axes>"
      ]
     },
     "metadata": {},
     "output_type": "display_data"
    }
   ],
   "source": [
    "pos = {0: (-1, 2), 1: (-1, 0.5), 2: (1, 0.5), 3: (0, -1)}\n",
    "\n",
    "options = {\n",
    "    \"font_size\": 16,\n",
    "    \"node_size\": 4000,\n",
    "    \"node_color\": \"white\",\n",
    "    \"edgecolors\": \"black\",\n",
    "    \"edge_color\": \"red\",\n",
    "    \"linewidths\": 5,\n",
    "    \"width\": 5,}\n",
    "    \n",
    "n, d = bbn.to_nx_graph()\n",
    "nx.draw(n, with_labels=True, labels=d, pos=pos, **options)\n",
    "\n",
    "ax = plt.gca()\n",
    "ax.margins(0.10)\n",
    "plt.axis(\"off\")\n",
    "plt.show()"
   ]
  },
  {
   "cell_type": "code",
   "execution_count": 23,
   "metadata": {},
   "outputs": [
    {
     "name": "stdout",
     "output_type": "stream",
     "text": [
      "Node: 1|H3pm|<=60,>60\n",
      "Values:\n",
      "1=<=60|0.00000\n",
      "1=>60|1.00000\n",
      "----------------\n",
      "Node: 0|H9am|<=60,>60\n",
      "Values:\n",
      "0=<=60|0.00000\n",
      "0=>60|1.00000\n",
      "----------------\n",
      "Node: 2|W|<=40,40-50,>50\n",
      "Values:\n",
      "2=<=40|0.00000\n",
      "2=40-50|0.00000\n",
      "2=>50|1.00000\n",
      "----------------\n",
      "Node: 3|RT|No,Yes\n",
      "Values:\n",
      "3=No|0.32182\n",
      "3=Yes|0.67818\n",
      "----------------\n"
     ]
    }
   ],
   "source": [
    "def print_probs():\n",
    "    for node in join_tree.get_bbn_nodes():\n",
    "        potential = join_tree.get_bbn_potential(node)\n",
    "        print(\"Node:\", node)\n",
    "        print(\"Values:\")\n",
    "        print(potential)\n",
    "        print('----------------')\n",
    "        \n",
    "print_probs()"
   ]
  },
  {
   "cell_type": "code",
   "execution_count": 24,
   "metadata": {},
   "outputs": [
    {
     "name": "stdout",
     "output_type": "stream",
     "text": [
      "Node: 1|H3pm|<=60,>60\n",
      "Values:\n",
      "1=<=60|0.00000\n",
      "1=>60|1.00000\n",
      "----------------\n",
      "Node: 0|H9am|<=60,>60\n",
      "Values:\n",
      "0=<=60|0.06689\n",
      "0=>60|0.93311\n",
      "----------------\n",
      "Node: 2|W|<=40,40-50,>50\n",
      "Values:\n",
      "2=<=40|0.00000\n",
      "2=40-50|0.00000\n",
      "2=>50|1.00000\n",
      "----------------\n",
      "Node: 3|RT|No,Yes\n",
      "Values:\n",
      "3=No|0.32182\n",
      "3=Yes|0.67818\n",
      "----------------\n"
     ]
    }
   ],
   "source": [
    "def evidence(ev, nod, cat, val):\n",
    "    ev = EvidenceBuilder() \\\n",
    "    .with_node(join_tree.get_bbn_node_by_name(nod)) \\\n",
    "    .with_evidence(cat, val) \\\n",
    "    .build()\n",
    "    join_tree.set_observation(ev)\n",
    "    \n",
    "evidence('ev1', 'H9am', '>60', 1.0)\n",
    "\n",
    "print_probs()"
   ]
  },
  {
   "cell_type": "code",
   "execution_count": 26,
   "metadata": {},
   "outputs": [
    {
     "name": "stdout",
     "output_type": "stream",
     "text": [
      "Node: 1|H3pm|<=60,>60\n",
      "Values:\n",
      "1=<=60|0.00000\n",
      "1=>60|1.00000\n",
      "----------------\n",
      "Node: 0|H9am|<=60,>60\n",
      "Values:\n",
      "0=<=60|0.06689\n",
      "0=>60|0.93311\n",
      "----------------\n",
      "Node: 2|W|<=40,40-50,>50\n",
      "Values:\n",
      "2=<=40|0.00000\n",
      "2=40-50|0.00000\n",
      "2=>50|1.00000\n",
      "----------------\n",
      "Node: 3|RT|No,Yes\n",
      "Values:\n",
      "3=No|0.32182\n",
      "3=Yes|0.67818\n",
      "----------------\n"
     ]
    }
   ],
   "source": [
    "evidence('ev1', 'H3pm', '>60', 1.0)\n",
    "evidence('ev2', 'W', '>50', 1.0)\n",
    "print_probs()"
   ]
  }
 ],
 "metadata": {
  "interpreter": {
   "hash": "ae1140af140338a4ac7f59ecaec629984b550fb1d67e11ebb3090ffc1bf53e72"
  },
  "kernelspec": {
   "display_name": "Python 3.8.3 ('base')",
   "language": "python",
   "name": "python3"
  },
  "language_info": {
   "codemirror_mode": {
    "name": "ipython",
    "version": 3
   },
   "file_extension": ".py",
   "mimetype": "text/x-python",
   "name": "python",
   "nbconvert_exporter": "python",
   "pygments_lexer": "ipython3",
   "version": "3.8.3"
  },
  "orig_nbformat": 4
 },
 "nbformat": 4,
 "nbformat_minor": 2
}
