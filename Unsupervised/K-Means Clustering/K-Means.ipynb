{
 "cells": [
  {
   "cell_type": "markdown",
   "metadata": {},
   "source": [
    "# K-Means Clustering \n",
    "---\n",
    "K-Means is one of the most well known as most commonly used algorithms due to its simplicity and speed.\n",
    "#### Steps for K-Means:-\n",
    "1. The first step for the algorithm is to initialize a defined number of centroids.\n",
    "2. The distance between each point and each centroid is calculated, and then points are assigned  to the nearest centroid.\n",
    "3. Each centroid is then assigned a new position based on mean of all points in the same group.\n",
    "4. The process then repeats with points re-assigned based on new centroid positions and a new mean calculated, leading to new positions for centroid.\n",
    "5. The iterations continue until the centroids no longer change their position or the defined number of max iterations is reached.\n",
    "\n",
    "## K-Means limitations:-\n",
    "#### Defining the number of clusters-\n",
    "To define the number of clusters we might need to visually analyze the data to define the clusters. which is not ideal especially if we have multiple dimensions\n",
    "#### How to solve this issue?\n",
    "We can use the 'elbow method. for this we need to run K-Means algoritm  multiple times trying a different number of clusters each time and record the values of WCSS.\n",
    "#### Centroid initialization-\n",
    "The basic K-Means algo initializes centroids randomly. Hence the result may differ based on the initial position of your centroids and may not be optimal\n",
    "\n",
    "#### How to solve this issue?\n",
    "1. initialize centroids multiple times and pick the best run(lowest WCSS)\n",
    "2. Use smart initialization available with k-means++\n",
    "\n",
    "#### Distance-based algorithm-\n",
    "K-Means uses the euclidean distance between different points in space to indentify which ones belong together. due to this we need to be aware of the following:\n",
    "\n",
    "1. You can only use numeric attributes in the K-Means algo. if you want to use categorial data we need to convert them to neumerical values using ordinal encoder or onehotencoder.\n",
    "2. We also need to be mindful of the scale and distribution od the attributes that we use in our clusters. we might need to remove outliners using Power Transformation or MinMax scaling.\n",
    "3. we might prefer to use a density-based  algorithm instead of a distance-based one."
   ]
  },
  {
   "cell_type": "code",
   "execution_count": 7,
   "metadata": {},
   "outputs": [],
   "source": [
    "import pandas as pd \n",
    "from geopy.geocoders import Nominatim\n",
    "from progressbar import ProgressBar\n",
    "import time\n",
    "\n",
    "from sklearn.cluster import KMeans\n",
    "\n",
    "import matplotlib.pyplot as plt\n",
    "import plotly.graph_objects as go "
   ]
  },
  {
   "cell_type": "code",
   "execution_count": 8,
   "metadata": {},
   "outputs": [],
   "source": [
    "df = pd.read_csv('../data/weatherAUS.csv', encoding = 'utf-8')\n",
    "df=df[pd.isnull(df['RainTomorrow'])==False]\n",
    "df=df.fillna(df.mean())\n",
    "\n",
    "df['Location2']=df['Location'].str.replace( r\"([A-Z])\", r\" \\1\").str.strip()\n",
    "df['Location2']=df['Location2'].apply(lambda x: 'Pearce, Bullsbrook' if x=='Pearce R A A F' else x)\n",
    "\n",
    "df['RainTodayFlag']=df['RainToday'].apply(lambda x: 1 if x=='Yes' else 0)\n",
    "df['RainTomorrowFlag']=df['RainTomorrow'].apply(lambda x: 1 if x=='Yes' else 0)"
   ]
  },
  {
   "cell_type": "code",
   "execution_count": 11,
   "metadata": {},
   "outputs": [
    {
     "name": "stderr",
     "output_type": "stream",
     "text": [
      "100% |########################################################################|\n"
     ]
    },
    {
     "data": {
      "text/html": [
       "<div>\n",
       "<style scoped>\n",
       "    .dataframe tbody tr th:only-of-type {\n",
       "        vertical-align: middle;\n",
       "    }\n",
       "\n",
       "    .dataframe tbody tr th {\n",
       "        vertical-align: top;\n",
       "    }\n",
       "\n",
       "    .dataframe thead th {\n",
       "        text-align: right;\n",
       "    }\n",
       "</style>\n",
       "<table border=\"1\" class=\"dataframe\">\n",
       "  <thead>\n",
       "    <tr style=\"text-align: right;\">\n",
       "      <th></th>\n",
       "      <th>Loc</th>\n",
       "      <th>Latitude</th>\n",
       "      <th>Longitude</th>\n",
       "    </tr>\n",
       "  </thead>\n",
       "  <tbody>\n",
       "    <tr>\n",
       "      <th>0</th>\n",
       "      <td>Albury</td>\n",
       "      <td>-36.080477</td>\n",
       "      <td>146.916280</td>\n",
       "    </tr>\n",
       "    <tr>\n",
       "      <th>1</th>\n",
       "      <td>Badgerys Creek</td>\n",
       "      <td>-33.881667</td>\n",
       "      <td>150.744163</td>\n",
       "    </tr>\n",
       "    <tr>\n",
       "      <th>2</th>\n",
       "      <td>Cobar</td>\n",
       "      <td>-31.498333</td>\n",
       "      <td>145.834444</td>\n",
       "    </tr>\n",
       "    <tr>\n",
       "      <th>3</th>\n",
       "      <td>Coffs Harbour</td>\n",
       "      <td>-30.296241</td>\n",
       "      <td>153.113529</td>\n",
       "    </tr>\n",
       "    <tr>\n",
       "      <th>4</th>\n",
       "      <td>Moree</td>\n",
       "      <td>-29.461720</td>\n",
       "      <td>149.840715</td>\n",
       "    </tr>\n",
       "    <tr>\n",
       "      <th>5</th>\n",
       "      <td>Newcastle</td>\n",
       "      <td>-32.919295</td>\n",
       "      <td>151.779535</td>\n",
       "    </tr>\n",
       "    <tr>\n",
       "      <th>6</th>\n",
       "      <td>Norah Head</td>\n",
       "      <td>-33.281667</td>\n",
       "      <td>151.567778</td>\n",
       "    </tr>\n",
       "    <tr>\n",
       "      <th>7</th>\n",
       "      <td>Norfolk Island</td>\n",
       "      <td>-29.028958</td>\n",
       "      <td>167.958729</td>\n",
       "    </tr>\n",
       "    <tr>\n",
       "      <th>8</th>\n",
       "      <td>Penrith</td>\n",
       "      <td>-33.751079</td>\n",
       "      <td>150.694168</td>\n",
       "    </tr>\n",
       "    <tr>\n",
       "      <th>9</th>\n",
       "      <td>Richmond</td>\n",
       "      <td>-37.820395</td>\n",
       "      <td>145.002515</td>\n",
       "    </tr>\n",
       "    <tr>\n",
       "      <th>10</th>\n",
       "      <td>Sydney</td>\n",
       "      <td>-33.854816</td>\n",
       "      <td>151.216454</td>\n",
       "    </tr>\n",
       "    <tr>\n",
       "      <th>11</th>\n",
       "      <td>Sydney Airport</td>\n",
       "      <td>-33.935309</td>\n",
       "      <td>151.165582</td>\n",
       "    </tr>\n",
       "    <tr>\n",
       "      <th>12</th>\n",
       "      <td>Wagga Wagga</td>\n",
       "      <td>-35.115000</td>\n",
       "      <td>147.367778</td>\n",
       "    </tr>\n",
       "    <tr>\n",
       "      <th>13</th>\n",
       "      <td>Williamtown</td>\n",
       "      <td>-32.815000</td>\n",
       "      <td>151.842778</td>\n",
       "    </tr>\n",
       "    <tr>\n",
       "      <th>14</th>\n",
       "      <td>Wollongong</td>\n",
       "      <td>-34.424394</td>\n",
       "      <td>150.893850</td>\n",
       "    </tr>\n",
       "    <tr>\n",
       "      <th>15</th>\n",
       "      <td>Canberra</td>\n",
       "      <td>-35.297591</td>\n",
       "      <td>149.101268</td>\n",
       "    </tr>\n",
       "    <tr>\n",
       "      <th>16</th>\n",
       "      <td>Tuggeranong</td>\n",
       "      <td>-35.420977</td>\n",
       "      <td>149.092134</td>\n",
       "    </tr>\n",
       "    <tr>\n",
       "      <th>17</th>\n",
       "      <td>Mount Ginini</td>\n",
       "      <td>-35.529720</td>\n",
       "      <td>148.772635</td>\n",
       "    </tr>\n",
       "    <tr>\n",
       "      <th>18</th>\n",
       "      <td>Ballarat</td>\n",
       "      <td>-37.562303</td>\n",
       "      <td>143.860565</td>\n",
       "    </tr>\n",
       "    <tr>\n",
       "      <th>19</th>\n",
       "      <td>Bendigo</td>\n",
       "      <td>-36.758877</td>\n",
       "      <td>144.282593</td>\n",
       "    </tr>\n",
       "    <tr>\n",
       "      <th>20</th>\n",
       "      <td>Sale</td>\n",
       "      <td>-38.105036</td>\n",
       "      <td>147.064790</td>\n",
       "    </tr>\n",
       "    <tr>\n",
       "      <th>21</th>\n",
       "      <td>Melbourne Airport</td>\n",
       "      <td>-37.666951</td>\n",
       "      <td>144.833493</td>\n",
       "    </tr>\n",
       "    <tr>\n",
       "      <th>22</th>\n",
       "      <td>Melbourne</td>\n",
       "      <td>-37.814218</td>\n",
       "      <td>144.963161</td>\n",
       "    </tr>\n",
       "    <tr>\n",
       "      <th>23</th>\n",
       "      <td>Mildura</td>\n",
       "      <td>-34.184726</td>\n",
       "      <td>142.162497</td>\n",
       "    </tr>\n",
       "    <tr>\n",
       "      <th>24</th>\n",
       "      <td>Nhil</td>\n",
       "      <td>-35.471309</td>\n",
       "      <td>141.306236</td>\n",
       "    </tr>\n",
       "    <tr>\n",
       "      <th>25</th>\n",
       "      <td>Portland</td>\n",
       "      <td>-38.345623</td>\n",
       "      <td>141.604230</td>\n",
       "    </tr>\n",
       "    <tr>\n",
       "      <th>26</th>\n",
       "      <td>Watsonia</td>\n",
       "      <td>-37.711002</td>\n",
       "      <td>145.083635</td>\n",
       "    </tr>\n",
       "    <tr>\n",
       "      <th>27</th>\n",
       "      <td>Dartmoor</td>\n",
       "      <td>-37.922544</td>\n",
       "      <td>141.276655</td>\n",
       "    </tr>\n",
       "    <tr>\n",
       "      <th>28</th>\n",
       "      <td>Brisbane</td>\n",
       "      <td>-27.468968</td>\n",
       "      <td>153.023499</td>\n",
       "    </tr>\n",
       "    <tr>\n",
       "      <th>29</th>\n",
       "      <td>Cairns</td>\n",
       "      <td>-16.920666</td>\n",
       "      <td>145.772185</td>\n",
       "    </tr>\n",
       "    <tr>\n",
       "      <th>30</th>\n",
       "      <td>Gold Coast</td>\n",
       "      <td>-28.002373</td>\n",
       "      <td>153.414599</td>\n",
       "    </tr>\n",
       "    <tr>\n",
       "      <th>31</th>\n",
       "      <td>Townsville</td>\n",
       "      <td>-19.256939</td>\n",
       "      <td>146.823954</td>\n",
       "    </tr>\n",
       "    <tr>\n",
       "      <th>32</th>\n",
       "      <td>Adelaide</td>\n",
       "      <td>-34.928181</td>\n",
       "      <td>138.599931</td>\n",
       "    </tr>\n",
       "    <tr>\n",
       "      <th>33</th>\n",
       "      <td>Mount Gambier</td>\n",
       "      <td>-37.824670</td>\n",
       "      <td>140.782007</td>\n",
       "    </tr>\n",
       "    <tr>\n",
       "      <th>34</th>\n",
       "      <td>Nuriootpa</td>\n",
       "      <td>-34.469335</td>\n",
       "      <td>138.993901</td>\n",
       "    </tr>\n",
       "    <tr>\n",
       "      <th>35</th>\n",
       "      <td>Woomera</td>\n",
       "      <td>-31.199914</td>\n",
       "      <td>136.825353</td>\n",
       "    </tr>\n",
       "    <tr>\n",
       "      <th>36</th>\n",
       "      <td>Albany</td>\n",
       "      <td>-35.024782</td>\n",
       "      <td>117.883608</td>\n",
       "    </tr>\n",
       "    <tr>\n",
       "      <th>37</th>\n",
       "      <td>Witchcliffe</td>\n",
       "      <td>-34.026335</td>\n",
       "      <td>115.100477</td>\n",
       "    </tr>\n",
       "    <tr>\n",
       "      <th>38</th>\n",
       "      <td>Pearce, Bullsbrook</td>\n",
       "      <td>-31.673960</td>\n",
       "      <td>116.017544</td>\n",
       "    </tr>\n",
       "    <tr>\n",
       "      <th>39</th>\n",
       "      <td>Perth Airport</td>\n",
       "      <td>-31.940610</td>\n",
       "      <td>115.967608</td>\n",
       "    </tr>\n",
       "    <tr>\n",
       "      <th>40</th>\n",
       "      <td>Perth</td>\n",
       "      <td>-31.952712</td>\n",
       "      <td>115.860480</td>\n",
       "    </tr>\n",
       "    <tr>\n",
       "      <th>41</th>\n",
       "      <td>Salmon Gums</td>\n",
       "      <td>-32.981535</td>\n",
       "      <td>121.643942</td>\n",
       "    </tr>\n",
       "    <tr>\n",
       "      <th>42</th>\n",
       "      <td>Walpole</td>\n",
       "      <td>-34.977680</td>\n",
       "      <td>116.731006</td>\n",
       "    </tr>\n",
       "    <tr>\n",
       "      <th>43</th>\n",
       "      <td>Hobart</td>\n",
       "      <td>-42.882509</td>\n",
       "      <td>147.328123</td>\n",
       "    </tr>\n",
       "    <tr>\n",
       "      <th>44</th>\n",
       "      <td>Launceston</td>\n",
       "      <td>-41.434081</td>\n",
       "      <td>147.137350</td>\n",
       "    </tr>\n",
       "    <tr>\n",
       "      <th>45</th>\n",
       "      <td>Alice Springs</td>\n",
       "      <td>-23.698388</td>\n",
       "      <td>133.881289</td>\n",
       "    </tr>\n",
       "    <tr>\n",
       "      <th>46</th>\n",
       "      <td>Darwin</td>\n",
       "      <td>-12.460440</td>\n",
       "      <td>130.841047</td>\n",
       "    </tr>\n",
       "    <tr>\n",
       "      <th>47</th>\n",
       "      <td>Katherine</td>\n",
       "      <td>-14.464616</td>\n",
       "      <td>132.263599</td>\n",
       "    </tr>\n",
       "    <tr>\n",
       "      <th>48</th>\n",
       "      <td>Uluru</td>\n",
       "      <td>-25.344857</td>\n",
       "      <td>131.032517</td>\n",
       "    </tr>\n",
       "  </tbody>\n",
       "</table>\n",
       "</div>"
      ],
      "text/plain": [
       "                   Loc   Latitude   Longitude\n",
       "0               Albury -36.080477  146.916280\n",
       "1       Badgerys Creek -33.881667  150.744163\n",
       "2                Cobar -31.498333  145.834444\n",
       "3        Coffs Harbour -30.296241  153.113529\n",
       "4                Moree -29.461720  149.840715\n",
       "5            Newcastle -32.919295  151.779535\n",
       "6           Norah Head -33.281667  151.567778\n",
       "7       Norfolk Island -29.028958  167.958729\n",
       "8              Penrith -33.751079  150.694168\n",
       "9             Richmond -37.820395  145.002515\n",
       "10              Sydney -33.854816  151.216454\n",
       "11      Sydney Airport -33.935309  151.165582\n",
       "12         Wagga Wagga -35.115000  147.367778\n",
       "13         Williamtown -32.815000  151.842778\n",
       "14          Wollongong -34.424394  150.893850\n",
       "15            Canberra -35.297591  149.101268\n",
       "16         Tuggeranong -35.420977  149.092134\n",
       "17        Mount Ginini -35.529720  148.772635\n",
       "18            Ballarat -37.562303  143.860565\n",
       "19             Bendigo -36.758877  144.282593\n",
       "20                Sale -38.105036  147.064790\n",
       "21   Melbourne Airport -37.666951  144.833493\n",
       "22           Melbourne -37.814218  144.963161\n",
       "23             Mildura -34.184726  142.162497\n",
       "24                Nhil -35.471309  141.306236\n",
       "25            Portland -38.345623  141.604230\n",
       "26            Watsonia -37.711002  145.083635\n",
       "27            Dartmoor -37.922544  141.276655\n",
       "28            Brisbane -27.468968  153.023499\n",
       "29              Cairns -16.920666  145.772185\n",
       "30          Gold Coast -28.002373  153.414599\n",
       "31          Townsville -19.256939  146.823954\n",
       "32            Adelaide -34.928181  138.599931\n",
       "33       Mount Gambier -37.824670  140.782007\n",
       "34           Nuriootpa -34.469335  138.993901\n",
       "35             Woomera -31.199914  136.825353\n",
       "36              Albany -35.024782  117.883608\n",
       "37         Witchcliffe -34.026335  115.100477\n",
       "38  Pearce, Bullsbrook -31.673960  116.017544\n",
       "39       Perth Airport -31.940610  115.967608\n",
       "40               Perth -31.952712  115.860480\n",
       "41         Salmon Gums -32.981535  121.643942\n",
       "42             Walpole -34.977680  116.731006\n",
       "43              Hobart -42.882509  147.328123\n",
       "44          Launceston -41.434081  147.137350\n",
       "45       Alice Springs -23.698388  133.881289\n",
       "46              Darwin -12.460440  130.841047\n",
       "47           Katherine -14.464616  132.263599\n",
       "48               Uluru -25.344857  131.032517"
      ]
     },
     "execution_count": 11,
     "metadata": {},
     "output_type": "execute_result"
    }
   ],
   "source": [
    "loc_list = list(df.Location2.unique())\n",
    "\n",
    "geolocator = Nominatim(user_agent='Mozilla/5.0 (platform; rv:geckoversion) Gecko/geckotrail Firefox/firefoxversion')\n",
    "country = \"Australia\"\n",
    "loc_res = []\n",
    "\n",
    "pbar = ProgressBar()\n",
    "for city in pbar(loc_list):\n",
    "    loc = geolocator.geocode(city+','+ country)\n",
    "    res = [city, loc.latitude, loc.longitude]\n",
    "    loc_res = loc_res + [res]\n",
    "    time.sleep(1)\n",
    "\n",
    "df_loc = pd.DataFrame(loc_res, columns=['Loc', 'Latitude', 'Longitude'])\n",
    "\n",
    "df_loc"
   ]
  },
  {
   "cell_type": "code",
   "execution_count": 12,
   "metadata": {},
   "outputs": [
    {
     "data": {
      "application/vnd.plotly.v1+json": {
       "config": {
        "plotlyServerURL": "https://plot.ly"
       },
       "data": [
        {
         "hovertext": [
          "Albury",
          "Badgerys Creek",
          "Cobar",
          "Coffs Harbour",
          "Moree",
          "Newcastle",
          "Norah Head",
          "Norfolk Island",
          "Penrith",
          "Richmond",
          "Sydney",
          "Sydney Airport",
          "Wagga Wagga",
          "Williamtown",
          "Wollongong",
          "Canberra",
          "Tuggeranong",
          "Mount Ginini",
          "Ballarat",
          "Bendigo",
          "Sale",
          "Melbourne Airport",
          "Melbourne",
          "Mildura",
          "Nhil",
          "Portland",
          "Watsonia",
          "Dartmoor",
          "Brisbane",
          "Cairns",
          "Gold Coast",
          "Townsville",
          "Adelaide",
          "Mount Gambier",
          "Nuriootpa",
          "Woomera",
          "Albany",
          "Witchcliffe",
          "Pearce, Bullsbrook",
          "Perth Airport",
          "Perth",
          "Salmon Gums",
          "Walpole",
          "Hobart",
          "Launceston",
          "Alice Springs",
          "Darwin",
          "Katherine",
          "Uluru"
         ],
         "lat": [
          -36.0804766,
          -33.8816671,
          -31.4983333,
          -30.2962407,
          -29.4617202,
          -32.9192953,
          -33.2816667,
          -29.0289575,
          -33.7510792,
          -37.8203955,
          -33.8548157,
          -33.935309,
          -35.115,
          -32.815,
          -34.4243941,
          -35.2975906,
          -35.4209771,
          -35.5297196,
          -37.5623025,
          -36.7588767,
          -38.1050358,
          -37.66695115,
          -37.8142176,
          -34.1847265,
          -35.4713087,
          -38.3456231,
          -37.7110022,
          -37.9225444,
          -27.4689682,
          -16.9206657,
          -28.0023731,
          -19.2569391,
          -34.9281805,
          -37.8246698,
          -34.4693354,
          -31.1999142,
          -35.0247822,
          -34.0263348,
          -31.6739604,
          -31.9406095,
          -31.9527121,
          -32.9815347,
          -34.9776796,
          -42.8825088,
          -41.4340813,
          -23.6983884,
          -12.46044,
          -14.4646157,
          -25.344857
         ],
         "lon": [
          146.9162795,
          150.7441627,
          145.8344444,
          153.1135293,
          149.8407153,
          151.7795348,
          151.5677778,
          167.9587289126371,
          150.6941684,
          145.0025153,
          151.2164539,
          151.1655825,
          147.3677778,
          151.8427778,
          150.89385,
          149.1012676,
          149.0921341,
          148.7726345,
          143.8605649,
          144.2825931,
          147.0647902,
          144.83349270120272,
          144.9631608,
          142.1624972,
          141.3062355,
          141.6042304,
          145.083635,
          141.2766551,
          153.0234991,
          145.7721854,
          153.4145987,
          146.8239537,
          138.5999312,
          140.7820067624113,
          138.9939006,
          136.8253532,
          117.883608,
          115.1004768,
          116.01754351808195,
          115.96760765137932,
          115.8604796,
          121.6439417,
          116.7310063,
          147.3281233,
          147.1373496,
          133.8812885,
          130.8410469,
          132.2635993,
          131.0325171
         ],
         "marker": {
          "color": "black"
         },
         "mode": "markers",
         "type": "scattergeo"
        }
       ],
       "layout": {
        "geo": {
         "center": {
          "lat": -23.69839,
          "lon": 133.8813
         },
         "landcolor": "rgb(250, 250, 250)",
         "projection": {
          "scale": 5,
          "type": "miller"
         },
         "scope": "world"
        },
        "height": 600,
        "margin": {
         "b": 0,
         "l": 0,
         "r": 10,
         "t": 30
        },
        "template": {
         "data": {
          "bar": [
           {
            "error_x": {
             "color": "#2a3f5f"
            },
            "error_y": {
             "color": "#2a3f5f"
            },
            "marker": {
             "line": {
              "color": "#E5ECF6",
              "width": 0.5
             },
             "pattern": {
              "fillmode": "overlay",
              "size": 10,
              "solidity": 0.2
             }
            },
            "type": "bar"
           }
          ],
          "barpolar": [
           {
            "marker": {
             "line": {
              "color": "#E5ECF6",
              "width": 0.5
             },
             "pattern": {
              "fillmode": "overlay",
              "size": 10,
              "solidity": 0.2
             }
            },
            "type": "barpolar"
           }
          ],
          "carpet": [
           {
            "aaxis": {
             "endlinecolor": "#2a3f5f",
             "gridcolor": "white",
             "linecolor": "white",
             "minorgridcolor": "white",
             "startlinecolor": "#2a3f5f"
            },
            "baxis": {
             "endlinecolor": "#2a3f5f",
             "gridcolor": "white",
             "linecolor": "white",
             "minorgridcolor": "white",
             "startlinecolor": "#2a3f5f"
            },
            "type": "carpet"
           }
          ],
          "choropleth": [
           {
            "colorbar": {
             "outlinewidth": 0,
             "ticks": ""
            },
            "type": "choropleth"
           }
          ],
          "contour": [
           {
            "colorbar": {
             "outlinewidth": 0,
             "ticks": ""
            },
            "colorscale": [
             [
              0,
              "#0d0887"
             ],
             [
              0.1111111111111111,
              "#46039f"
             ],
             [
              0.2222222222222222,
              "#7201a8"
             ],
             [
              0.3333333333333333,
              "#9c179e"
             ],
             [
              0.4444444444444444,
              "#bd3786"
             ],
             [
              0.5555555555555556,
              "#d8576b"
             ],
             [
              0.6666666666666666,
              "#ed7953"
             ],
             [
              0.7777777777777778,
              "#fb9f3a"
             ],
             [
              0.8888888888888888,
              "#fdca26"
             ],
             [
              1,
              "#f0f921"
             ]
            ],
            "type": "contour"
           }
          ],
          "contourcarpet": [
           {
            "colorbar": {
             "outlinewidth": 0,
             "ticks": ""
            },
            "type": "contourcarpet"
           }
          ],
          "heatmap": [
           {
            "colorbar": {
             "outlinewidth": 0,
             "ticks": ""
            },
            "colorscale": [
             [
              0,
              "#0d0887"
             ],
             [
              0.1111111111111111,
              "#46039f"
             ],
             [
              0.2222222222222222,
              "#7201a8"
             ],
             [
              0.3333333333333333,
              "#9c179e"
             ],
             [
              0.4444444444444444,
              "#bd3786"
             ],
             [
              0.5555555555555556,
              "#d8576b"
             ],
             [
              0.6666666666666666,
              "#ed7953"
             ],
             [
              0.7777777777777778,
              "#fb9f3a"
             ],
             [
              0.8888888888888888,
              "#fdca26"
             ],
             [
              1,
              "#f0f921"
             ]
            ],
            "type": "heatmap"
           }
          ],
          "heatmapgl": [
           {
            "colorbar": {
             "outlinewidth": 0,
             "ticks": ""
            },
            "colorscale": [
             [
              0,
              "#0d0887"
             ],
             [
              0.1111111111111111,
              "#46039f"
             ],
             [
              0.2222222222222222,
              "#7201a8"
             ],
             [
              0.3333333333333333,
              "#9c179e"
             ],
             [
              0.4444444444444444,
              "#bd3786"
             ],
             [
              0.5555555555555556,
              "#d8576b"
             ],
             [
              0.6666666666666666,
              "#ed7953"
             ],
             [
              0.7777777777777778,
              "#fb9f3a"
             ],
             [
              0.8888888888888888,
              "#fdca26"
             ],
             [
              1,
              "#f0f921"
             ]
            ],
            "type": "heatmapgl"
           }
          ],
          "histogram": [
           {
            "marker": {
             "pattern": {
              "fillmode": "overlay",
              "size": 10,
              "solidity": 0.2
             }
            },
            "type": "histogram"
           }
          ],
          "histogram2d": [
           {
            "colorbar": {
             "outlinewidth": 0,
             "ticks": ""
            },
            "colorscale": [
             [
              0,
              "#0d0887"
             ],
             [
              0.1111111111111111,
              "#46039f"
             ],
             [
              0.2222222222222222,
              "#7201a8"
             ],
             [
              0.3333333333333333,
              "#9c179e"
             ],
             [
              0.4444444444444444,
              "#bd3786"
             ],
             [
              0.5555555555555556,
              "#d8576b"
             ],
             [
              0.6666666666666666,
              "#ed7953"
             ],
             [
              0.7777777777777778,
              "#fb9f3a"
             ],
             [
              0.8888888888888888,
              "#fdca26"
             ],
             [
              1,
              "#f0f921"
             ]
            ],
            "type": "histogram2d"
           }
          ],
          "histogram2dcontour": [
           {
            "colorbar": {
             "outlinewidth": 0,
             "ticks": ""
            },
            "colorscale": [
             [
              0,
              "#0d0887"
             ],
             [
              0.1111111111111111,
              "#46039f"
             ],
             [
              0.2222222222222222,
              "#7201a8"
             ],
             [
              0.3333333333333333,
              "#9c179e"
             ],
             [
              0.4444444444444444,
              "#bd3786"
             ],
             [
              0.5555555555555556,
              "#d8576b"
             ],
             [
              0.6666666666666666,
              "#ed7953"
             ],
             [
              0.7777777777777778,
              "#fb9f3a"
             ],
             [
              0.8888888888888888,
              "#fdca26"
             ],
             [
              1,
              "#f0f921"
             ]
            ],
            "type": "histogram2dcontour"
           }
          ],
          "mesh3d": [
           {
            "colorbar": {
             "outlinewidth": 0,
             "ticks": ""
            },
            "type": "mesh3d"
           }
          ],
          "parcoords": [
           {
            "line": {
             "colorbar": {
              "outlinewidth": 0,
              "ticks": ""
             }
            },
            "type": "parcoords"
           }
          ],
          "pie": [
           {
            "automargin": true,
            "type": "pie"
           }
          ],
          "scatter": [
           {
            "marker": {
             "colorbar": {
              "outlinewidth": 0,
              "ticks": ""
             }
            },
            "type": "scatter"
           }
          ],
          "scatter3d": [
           {
            "line": {
             "colorbar": {
              "outlinewidth": 0,
              "ticks": ""
             }
            },
            "marker": {
             "colorbar": {
              "outlinewidth": 0,
              "ticks": ""
             }
            },
            "type": "scatter3d"
           }
          ],
          "scattercarpet": [
           {
            "marker": {
             "colorbar": {
              "outlinewidth": 0,
              "ticks": ""
             }
            },
            "type": "scattercarpet"
           }
          ],
          "scattergeo": [
           {
            "marker": {
             "colorbar": {
              "outlinewidth": 0,
              "ticks": ""
             }
            },
            "type": "scattergeo"
           }
          ],
          "scattergl": [
           {
            "marker": {
             "colorbar": {
              "outlinewidth": 0,
              "ticks": ""
             }
            },
            "type": "scattergl"
           }
          ],
          "scattermapbox": [
           {
            "marker": {
             "colorbar": {
              "outlinewidth": 0,
              "ticks": ""
             }
            },
            "type": "scattermapbox"
           }
          ],
          "scatterpolar": [
           {
            "marker": {
             "colorbar": {
              "outlinewidth": 0,
              "ticks": ""
             }
            },
            "type": "scatterpolar"
           }
          ],
          "scatterpolargl": [
           {
            "marker": {
             "colorbar": {
              "outlinewidth": 0,
              "ticks": ""
             }
            },
            "type": "scatterpolargl"
           }
          ],
          "scatterternary": [
           {
            "marker": {
             "colorbar": {
              "outlinewidth": 0,
              "ticks": ""
             }
            },
            "type": "scatterternary"
           }
          ],
          "surface": [
           {
            "colorbar": {
             "outlinewidth": 0,
             "ticks": ""
            },
            "colorscale": [
             [
              0,
              "#0d0887"
             ],
             [
              0.1111111111111111,
              "#46039f"
             ],
             [
              0.2222222222222222,
              "#7201a8"
             ],
             [
              0.3333333333333333,
              "#9c179e"
             ],
             [
              0.4444444444444444,
              "#bd3786"
             ],
             [
              0.5555555555555556,
              "#d8576b"
             ],
             [
              0.6666666666666666,
              "#ed7953"
             ],
             [
              0.7777777777777778,
              "#fb9f3a"
             ],
             [
              0.8888888888888888,
              "#fdca26"
             ],
             [
              1,
              "#f0f921"
             ]
            ],
            "type": "surface"
           }
          ],
          "table": [
           {
            "cells": {
             "fill": {
              "color": "#EBF0F8"
             },
             "line": {
              "color": "white"
             }
            },
            "header": {
             "fill": {
              "color": "#C8D4E3"
             },
             "line": {
              "color": "white"
             }
            },
            "type": "table"
           }
          ]
         },
         "layout": {
          "annotationdefaults": {
           "arrowcolor": "#2a3f5f",
           "arrowhead": 0,
           "arrowwidth": 1
          },
          "autotypenumbers": "strict",
          "coloraxis": {
           "colorbar": {
            "outlinewidth": 0,
            "ticks": ""
           }
          },
          "colorscale": {
           "diverging": [
            [
             0,
             "#8e0152"
            ],
            [
             0.1,
             "#c51b7d"
            ],
            [
             0.2,
             "#de77ae"
            ],
            [
             0.3,
             "#f1b6da"
            ],
            [
             0.4,
             "#fde0ef"
            ],
            [
             0.5,
             "#f7f7f7"
            ],
            [
             0.6,
             "#e6f5d0"
            ],
            [
             0.7,
             "#b8e186"
            ],
            [
             0.8,
             "#7fbc41"
            ],
            [
             0.9,
             "#4d9221"
            ],
            [
             1,
             "#276419"
            ]
           ],
           "sequential": [
            [
             0,
             "#0d0887"
            ],
            [
             0.1111111111111111,
             "#46039f"
            ],
            [
             0.2222222222222222,
             "#7201a8"
            ],
            [
             0.3333333333333333,
             "#9c179e"
            ],
            [
             0.4444444444444444,
             "#bd3786"
            ],
            [
             0.5555555555555556,
             "#d8576b"
            ],
            [
             0.6666666666666666,
             "#ed7953"
            ],
            [
             0.7777777777777778,
             "#fb9f3a"
            ],
            [
             0.8888888888888888,
             "#fdca26"
            ],
            [
             1,
             "#f0f921"
            ]
           ],
           "sequentialminus": [
            [
             0,
             "#0d0887"
            ],
            [
             0.1111111111111111,
             "#46039f"
            ],
            [
             0.2222222222222222,
             "#7201a8"
            ],
            [
             0.3333333333333333,
             "#9c179e"
            ],
            [
             0.4444444444444444,
             "#bd3786"
            ],
            [
             0.5555555555555556,
             "#d8576b"
            ],
            [
             0.6666666666666666,
             "#ed7953"
            ],
            [
             0.7777777777777778,
             "#fb9f3a"
            ],
            [
             0.8888888888888888,
             "#fdca26"
            ],
            [
             1,
             "#f0f921"
            ]
           ]
          },
          "colorway": [
           "#636efa",
           "#EF553B",
           "#00cc96",
           "#ab63fa",
           "#FFA15A",
           "#19d3f3",
           "#FF6692",
           "#B6E880",
           "#FF97FF",
           "#FECB52"
          ],
          "font": {
           "color": "#2a3f5f"
          },
          "geo": {
           "bgcolor": "white",
           "lakecolor": "white",
           "landcolor": "#E5ECF6",
           "showlakes": true,
           "showland": true,
           "subunitcolor": "white"
          },
          "hoverlabel": {
           "align": "left"
          },
          "hovermode": "closest",
          "mapbox": {
           "style": "light"
          },
          "paper_bgcolor": "white",
          "plot_bgcolor": "#E5ECF6",
          "polar": {
           "angularaxis": {
            "gridcolor": "white",
            "linecolor": "white",
            "ticks": ""
           },
           "bgcolor": "#E5ECF6",
           "radialaxis": {
            "gridcolor": "white",
            "linecolor": "white",
            "ticks": ""
           }
          },
          "scene": {
           "xaxis": {
            "backgroundcolor": "#E5ECF6",
            "gridcolor": "white",
            "gridwidth": 2,
            "linecolor": "white",
            "showbackground": true,
            "ticks": "",
            "zerolinecolor": "white"
           },
           "yaxis": {
            "backgroundcolor": "#E5ECF6",
            "gridcolor": "white",
            "gridwidth": 2,
            "linecolor": "white",
            "showbackground": true,
            "ticks": "",
            "zerolinecolor": "white"
           },
           "zaxis": {
            "backgroundcolor": "#E5ECF6",
            "gridcolor": "white",
            "gridwidth": 2,
            "linecolor": "white",
            "showbackground": true,
            "ticks": "",
            "zerolinecolor": "white"
           }
          },
          "shapedefaults": {
           "line": {
            "color": "#2a3f5f"
           }
          },
          "ternary": {
           "aaxis": {
            "gridcolor": "white",
            "linecolor": "white",
            "ticks": ""
           },
           "baxis": {
            "gridcolor": "white",
            "linecolor": "white",
            "ticks": ""
           },
           "bgcolor": "#E5ECF6",
           "caxis": {
            "gridcolor": "white",
            "linecolor": "white",
            "ticks": ""
           }
          },
          "title": {
           "x": 0.05
          },
          "xaxis": {
           "automargin": true,
           "gridcolor": "white",
           "linecolor": "white",
           "ticks": "",
           "title": {
            "standoff": 15
           },
           "zerolinecolor": "white",
           "zerolinewidth": 2
          },
          "yaxis": {
           "automargin": true,
           "gridcolor": "white",
           "linecolor": "white",
           "ticks": "",
           "title": {
            "standoff": 15
           },
           "zerolinecolor": "white",
           "zerolinewidth": 2
          }
         }
        },
        "title": {
         "text": "Mapping Australian cities"
        },
        "width": 1000
       }
      }
     },
     "metadata": {},
     "output_type": "display_data"
    }
   ],
   "source": [
    "fig = go.Figure(data=go.Scattergeo(\n",
    "        lat=df_loc['Latitude'],\n",
    "        lon=df_loc['Longitude'],\n",
    "        hovertext=df_loc['Loc'], \n",
    "        mode = 'markers',\n",
    "        marker_color = 'black',\n",
    "        ))\n",
    "\n",
    "fig.update_layout(\n",
    "        title = 'Mapping Australian cities',\n",
    "        width=1000,\n",
    "        height=600,\n",
    "        margin={\"r\":10,\"t\":30,\"l\":0,\"b\":0},\n",
    "        geo = dict(\n",
    "            scope='world',\n",
    "            projection_type='miller',\n",
    "            landcolor = \"rgb(250, 250, 250)\",\n",
    "            center=dict(lat=-23.69839, lon=133.8813), # focus point\n",
    "            projection_scale=5 # zoom in on\n",
    "        ),\n",
    "    )\n",
    "fig.show()"
   ]
  },
  {
   "cell_type": "code",
   "execution_count": 14,
   "metadata": {},
   "outputs": [
    {
     "data": {
      "image/png": "[encoded data removed]",
      "text/plain": [
       "<Figure size 4800x2400 with 1 Axes>"
      ]
     },
     "metadata": {
      "needs_background": "light"
     },
     "output_type": "display_data"
    }
   ],
   "source": [
    "WCSS = []\n",
    "K = range(1,10)\n",
    "for k in K:\n",
    "    kmod = KMeans(n_clusters=k)\n",
    "    kmod.fit(df_loc[['Latitude', 'Longitude']])\n",
    "    WCSS.append(kmod.inertia_)\n",
    "\n",
    "plt.figure(figsize=(16,8), dpi=300)\n",
    "plt.plot(K, WCSS, 'bo-', color='black')\n",
    "plt.xlabel('k')\n",
    "plt.ylabel('WCSS')\n",
    "plt.title('Identify the number of clusters using Elbow method (WCSS)')\n",
    "plt.show()"
   ]
  },
  {
   "cell_type": "code",
   "execution_count": 15,
   "metadata": {},
   "outputs": [
    {
     "name": "stdout",
     "output_type": "stream",
     "text": [
      "*************** 3 Cluster Model ***************\n",
      "Cluster centers:  [[-34.83792384 147.37352644]\n",
      " [-33.22537333 117.02923765]\n",
      " [-18.69098432 136.76909848]]\n",
      "Inertia (WCSS):  2015.7707892933856\n",
      "No. of iterations:  2\n",
      "\n",
      "*************** 4 Cluster Model ***************\n",
      "Cluster centers:  [[-36.7397742  143.56127683]\n",
      " [-33.22537333 117.02923765]\n",
      " [-18.69098432 136.76909848]\n",
      " [-32.46061088 152.13883846]]\n",
      "Inertia (WCSS):  1199.0081018798107\n",
      "No. of iterations:  4\n"
     ]
    }
   ],
   "source": [
    "X = df_loc[['Latitude', 'Longitude']]\n",
    "\n",
    "model3 = KMeans(n_clusters=3,\n",
    "                init='k-means++',\n",
    "                n_init=10,\n",
    "                max_iter=100)\n",
    "\n",
    "model4 = KMeans(n_clusters=4,\n",
    "                init='k-means++',\n",
    "                n_init=10,\n",
    "                max_iter=100)\n",
    "\n",
    "clust3 = model3.fit(X)\n",
    "clust4 = model4.fit(X)\n",
    "\n",
    "print('*************** 3 Cluster Model ***************')\n",
    "print('Cluster centers: ', clust3.cluster_centers_)\n",
    "print('Inertia (WCSS): ', clust3.inertia_)\n",
    "print('No. of iterations: ', clust3.n_iter_)\n",
    "print()\n",
    "\n",
    "print('*************** 4 Cluster Model ***************')\n",
    "print('Cluster centers: ', clust4.cluster_centers_)\n",
    "print('Inertia (WCSS): ', clust4.inertia_)\n",
    "print('No. of iterations: ', clust4.n_iter_)"
   ]
  },
  {
   "cell_type": "code",
   "execution_count": 16,
   "metadata": {},
   "outputs": [
    {
     "data": {
      "application/vnd.plotly.v1+json": {
       "config": {
        "plotlyServerURL": "https://plot.ly"
       },
       "data": [
        {
         "hovertext": [
          [
           "Albury",
           0
          ],
          [
           "Badgerys Creek",
           0
          ],
          [
           "Cobar",
           0
          ],
          [
           "Coffs Harbour",
           0
          ],
          [
           "Moree",
           0
          ],
          [
           "Newcastle",
           0
          ],
          [
           "Norah Head",
           0
          ],
          [
           "Norfolk Island",
           0
          ],
          [
           "Penrith",
           0
          ],
          [
           "Richmond",
           0
          ],
          [
           "Sydney",
           0
          ],
          [
           "Sydney Airport",
           0
          ],
          [
           "Wagga Wagga",
           0
          ],
          [
           "Williamtown",
           0
          ],
          [
           "Wollongong",
           0
          ],
          [
           "Canberra",
           0
          ],
          [
           "Tuggeranong",
           0
          ],
          [
           "Mount Ginini",
           0
          ],
          [
           "Ballarat",
           0
          ],
          [
           "Bendigo",
           0
          ],
          [
           "Sale",
           0
          ],
          [
           "Melbourne Airport",
           0
          ],
          [
           "Melbourne",
           0
          ],
          [
           "Mildura",
           0
          ],
          [
           "Nhil",
           0
          ],
          [
           "Portland",
           0
          ],
          [
           "Watsonia",
           0
          ],
          [
           "Dartmoor",
           0
          ],
          [
           "Brisbane",
           0
          ],
          [
           "Cairns",
           2
          ],
          [
           "Gold Coast",
           0
          ],
          [
           "Townsville",
           2
          ],
          [
           "Adelaide",
           0
          ],
          [
           "Mount Gambier",
           0
          ],
          [
           "Nuriootpa",
           0
          ],
          [
           "Woomera",
           0
          ],
          [
           "Albany",
           1
          ],
          [
           "Witchcliffe",
           1
          ],
          [
           "Pearce, Bullsbrook",
           1
          ],
          [
           "Perth Airport",
           1
          ],
          [
           "Perth",
           1
          ],
          [
           "Salmon Gums",
           1
          ],
          [
           "Walpole",
           1
          ],
          [
           "Hobart",
           0
          ],
          [
           "Launceston",
           0
          ],
          [
           "Alice Springs",
           2
          ],
          [
           "Darwin",
           2
          ],
          [
           "Katherine",
           2
          ],
          [
           "Uluru",
           2
          ]
         ],
         "lat": [
          -36.0804766,
          -33.8816671,
          -31.4983333,
          -30.2962407,
          -29.4617202,
          -32.9192953,
          -33.2816667,
          -29.0289575,
          -33.7510792,
          -37.8203955,
          -33.8548157,
          -33.935309,
          -35.115,
          -32.815,
          -34.4243941,
          -35.2975906,
          -35.4209771,
          -35.5297196,
          -37.5623025,
          -36.7588767,
          -38.1050358,
          -37.66695115,
          -37.8142176,
          -34.1847265,
          -35.4713087,
          -38.3456231,
          -37.7110022,
          -37.9225444,
          -27.4689682,
          -16.9206657,
          -28.0023731,
          -19.2569391,
          -34.9281805,
          -37.8246698,
          -34.4693354,
          -31.1999142,
          -35.0247822,
          -34.0263348,
          -31.6739604,
          -31.9406095,
          -31.9527121,
          -32.9815347,
          -34.9776796,
          -42.8825088,
          -41.4340813,
          -23.6983884,
          -12.46044,
          -14.4646157,
          -25.344857
         ],
         "lon": [
          146.9162795,
          150.7441627,
          145.8344444,
          153.1135293,
          149.8407153,
          151.7795348,
          151.5677778,
          167.9587289126371,
          150.6941684,
          145.0025153,
          151.2164539,
          151.1655825,
          147.3677778,
          151.8427778,
          150.89385,
          149.1012676,
          149.0921341,
          148.7726345,
          143.8605649,
          144.2825931,
          147.0647902,
          144.83349270120272,
          144.9631608,
          142.1624972,
          141.3062355,
          141.6042304,
          145.083635,
          141.2766551,
          153.0234991,
          145.7721854,
          153.4145987,
          146.8239537,
          138.5999312,
          140.7820067624113,
          138.9939006,
          136.8253532,
          117.883608,
          115.1004768,
          116.01754351808195,
          115.96760765137932,
          115.8604796,
          121.6439417,
          116.7310063,
          147.3281233,
          147.1373496,
          133.8812885,
          130.8410469,
          132.2635993,
          131.0325171
         ],
         "marker": {
          "color": [
           0,
           0,
           0,
           0,
           0,
           0,
           0,
           0,
           0,
           0,
           0,
           0,
           0,
           0,
           0,
           0,
           0,
           0,
           0,
           0,
           0,
           0,
           0,
           0,
           0,
           0,
           0,
           0,
           0,
           2,
           0,
           2,
           0,
           0,
           0,
           0,
           1,
           1,
           1,
           1,
           1,
           1,
           1,
           0,
           0,
           2,
           2,
           2,
           2
          ],
          "colorscale": [
           [
            0,
            "blue"
           ],
           [
            0.5,
            "red"
           ],
           [
            1,
            "#34eb34"
           ]
          ]
         },
         "mode": "markers",
         "type": "scattergeo"
        },
        {
         "lat": [
          -34.8379238375,
          -33.22537332857143,
          -18.69098431666667
         ],
         "lon": [
          147.37352644378475,
          117.02923765278018,
          136.76909848333335
         ],
         "marker": {
          "color": [
           "red",
           "blue",
           "#34eb34"
          ],
          "line": {
           "color": "black",
           "width": 1
          },
          "size": 12,
          "symbol": "x"
         },
         "mode": "markers",
         "type": "scattergeo"
        }
       ],
       "layout": {
        "geo": {
         "center": {
          "lat": -23.69839,
          "lon": 133.8813
         },
         "landcolor": "rgb(250, 250, 250)",
         "projection": {
          "scale": 5,
          "type": "miller"
         },
         "scope": "world"
        },
        "height": 600,
        "margin": {
         "b": 0,
         "l": 0,
         "r": 10,
         "t": 30
        },
        "showlegend": false,
        "template": {
         "data": {
          "bar": [
           {
            "error_x": {
             "color": "#2a3f5f"
            },
            "error_y": {
             "color": "#2a3f5f"
            },
            "marker": {
             "line": {
              "color": "#E5ECF6",
              "width": 0.5
             },
             "pattern": {
              "fillmode": "overlay",
              "size": 10,
              "solidity": 0.2
             }
            },
            "type": "bar"
           }
          ],
          "barpolar": [
           {
            "marker": {
             "line": {
              "color": "#E5ECF6",
              "width": 0.5
             },
             "pattern": {
              "fillmode": "overlay",
              "size": 10,
              "solidity": 0.2
             }
            },
            "type": "barpolar"
           }
          ],
          "carpet": [
           {
            "aaxis": {
             "endlinecolor": "#2a3f5f",
             "gridcolor": "white",
             "linecolor": "white",
             "minorgridcolor": "white",
             "startlinecolor": "#2a3f5f"
            },
            "baxis": {
             "endlinecolor": "#2a3f5f",
             "gridcolor": "white",
             "linecolor": "white",
             "minorgridcolor": "white",
             "startlinecolor": "#2a3f5f"
            },
            "type": "carpet"
           }
          ],
          "choropleth": [
           {
            "colorbar": {
             "outlinewidth": 0,
             "ticks": ""
            },
            "type": "choropleth"
           }
          ],
          "contour": [
           {
            "colorbar": {
             "outlinewidth": 0,
             "ticks": ""
            },
            "colorscale": [
             [
              0,
              "#0d0887"
             ],
             [
              0.1111111111111111,
              "#46039f"
             ],
             [
              0.2222222222222222,
              "#7201a8"
             ],
             [
              0.3333333333333333,
              "#9c179e"
             ],
             [
              0.4444444444444444,
              "#bd3786"
             ],
             [
              0.5555555555555556,
              "#d8576b"
             ],
             [
              0.6666666666666666,
              "#ed7953"
             ],
             [
              0.7777777777777778,
              "#fb9f3a"
             ],
             [
              0.8888888888888888,
              "#fdca26"
             ],
             [
              1,
              "#f0f921"
             ]
            ],
            "type": "contour"
           }
          ],
          "contourcarpet": [
           {
            "colorbar": {
             "outlinewidth": 0,
             "ticks": ""
            },
            "type": "contourcarpet"
           }
          ],
          "heatmap": [
           {
            "colorbar": {
             "outlinewidth": 0,
             "ticks": ""
            },
            "colorscale": [
             [
              0,
              "#0d0887"
             ],
             [
              0.1111111111111111,
              "#46039f"
             ],
             [
              0.2222222222222222,
              "#7201a8"
             ],
             [
              0.3333333333333333,
              "#9c179e"
             ],
             [
              0.4444444444444444,
              "#bd3786"
             ],
             [
              0.5555555555555556,
              "#d8576b"
             ],
             [
              0.6666666666666666,
              "#ed7953"
             ],
             [
              0.7777777777777778,
              "#fb9f3a"
             ],
             [
              0.8888888888888888,
              "#fdca26"
             ],
             [
              1,
              "#f0f921"
             ]
            ],
            "type": "heatmap"
           }
          ],
          "heatmapgl": [
           {
            "colorbar": {
             "outlinewidth": 0,
             "ticks": ""
            },
            "colorscale": [
             [
              0,
              "#0d0887"
             ],
             [
              0.1111111111111111,
              "#46039f"
             ],
             [
              0.2222222222222222,
              "#7201a8"
             ],
             [
              0.3333333333333333,
              "#9c179e"
             ],
             [
              0.4444444444444444,
              "#bd3786"
             ],
             [
              0.5555555555555556,
              "#d8576b"
             ],
             [
              0.6666666666666666,
              "#ed7953"
             ],
             [
              0.7777777777777778,
              "#fb9f3a"
             ],
             [
              0.8888888888888888,
              "#fdca26"
             ],
             [
              1,
              "#f0f921"
             ]
            ],
            "type": "heatmapgl"
           }
          ],
          "histogram": [
           {
            "marker": {
             "pattern": {
              "fillmode": "overlay",
              "size": 10,
              "solidity": 0.2
             }
            },
            "type": "histogram"
           }
          ],
          "histogram2d": [
           {
            "colorbar": {
             "outlinewidth": 0,
             "ticks": ""
            },
            "colorscale": [
             [
              0,
              "#0d0887"
             ],
             [
              0.1111111111111111,
              "#46039f"
             ],
             [
              0.2222222222222222,
              "#7201a8"
             ],
             [
              0.3333333333333333,
              "#9c179e"
             ],
             [
              0.4444444444444444,
              "#bd3786"
             ],
             [
              0.5555555555555556,
              "#d8576b"
             ],
             [
              0.6666666666666666,
              "#ed7953"
             ],
             [
              0.7777777777777778,
              "#fb9f3a"
             ],
             [
              0.8888888888888888,
              "#fdca26"
             ],
             [
              1,
              "#f0f921"
             ]
            ],
            "type": "histogram2d"
           }
          ],
          "histogram2dcontour": [
           {
            "colorbar": {
             "outlinewidth": 0,
             "ticks": ""
            },
            "colorscale": [
             [
              0,
              "#0d0887"
             ],
             [
              0.1111111111111111,
              "#46039f"
             ],
             [
              0.2222222222222222,
              "#7201a8"
             ],
             [
              0.3333333333333333,
              "#9c179e"
             ],
             [
              0.4444444444444444,
              "#bd3786"
             ],
             [
              0.5555555555555556,
              "#d8576b"
             ],
             [
              0.6666666666666666,
              "#ed7953"
             ],
             [
              0.7777777777777778,
              "#fb9f3a"
             ],
             [
              0.8888888888888888,
              "#fdca26"
             ],
             [
              1,
              "#f0f921"
             ]
            ],
            "type": "histogram2dcontour"
           }
          ],
          "mesh3d": [
           {
            "colorbar": {
             "outlinewidth": 0,
             "ticks": ""
            },
            "type": "mesh3d"
           }
          ],
          "parcoords": [
           {
            "line": {
             "colorbar": {
              "outlinewidth": 0,
              "ticks": ""
             }
            },
            "type": "parcoords"
           }
          ],
          "pie": [
           {
            "automargin": true,
            "type": "pie"
           }
          ],
          "scatter": [
           {
            "marker": {
             "colorbar": {
              "outlinewidth": 0,
              "ticks": ""
             }
            },
            "type": "scatter"
           }
          ],
          "scatter3d": [
           {
            "line": {
             "colorbar": {
              "outlinewidth": 0,
              "ticks": ""
             }
            },
            "marker": {
             "colorbar": {
              "outlinewidth": 0,
              "ticks": ""
             }
            },
            "type": "scatter3d"
           }
          ],
          "scattercarpet": [
           {
            "marker": {
             "colorbar": {
              "outlinewidth": 0,
              "ticks": ""
             }
            },
            "type": "scattercarpet"
           }
          ],
          "scattergeo": [
           {
            "marker": {
             "colorbar": {
              "outlinewidth": 0,
              "ticks": ""
             }
            },
            "type": "scattergeo"
           }
          ],
          "scattergl": [
           {
            "marker": {
             "colorbar": {
              "outlinewidth": 0,
              "ticks": ""
             }
            },
            "type": "scattergl"
           }
          ],
          "scattermapbox": [
           {
            "marker": {
             "colorbar": {
              "outlinewidth": 0,
              "ticks": ""
             }
            },
            "type": "scattermapbox"
           }
          ],
          "scatterpolar": [
           {
            "marker": {
             "colorbar": {
              "outlinewidth": 0,
              "ticks": ""
             }
            },
            "type": "scatterpolar"
           }
          ],
          "scatterpolargl": [
           {
            "marker": {
             "colorbar": {
              "outlinewidth": 0,
              "ticks": ""
             }
            },
            "type": "scatterpolargl"
           }
          ],
          "scatterternary": [
           {
            "marker": {
             "colorbar": {
              "outlinewidth": 0,
              "ticks": ""
             }
            },
            "type": "scatterternary"
           }
          ],
          "surface": [
           {
            "colorbar": {
             "outlinewidth": 0,
             "ticks": ""
            },
            "colorscale": [
             [
              0,
              "#0d0887"
             ],
             [
              0.1111111111111111,
              "#46039f"
             ],
             [
              0.2222222222222222,
              "#7201a8"
             ],
             [
              0.3333333333333333,
              "#9c179e"
             ],
             [
              0.4444444444444444,
              "#bd3786"
             ],
             [
              0.5555555555555556,
              "#d8576b"
             ],
             [
              0.6666666666666666,
              "#ed7953"
             ],
             [
              0.7777777777777778,
              "#fb9f3a"
             ],
             [
              0.8888888888888888,
              "#fdca26"
             ],
             [
              1,
              "#f0f921"
             ]
            ],
            "type": "surface"
           }
          ],
          "table": [
           {
            "cells": {
             "fill": {
              "color": "#EBF0F8"
             },
             "line": {
              "color": "white"
             }
            },
            "header": {
             "fill": {
              "color": "#C8D4E3"
             },
             "line": {
              "color": "white"
             }
            },
            "type": "table"
           }
          ]
         },
         "layout": {
          "annotationdefaults": {
           "arrowcolor": "#2a3f5f",
           "arrowhead": 0,
           "arrowwidth": 1
          },
          "autotypenumbers": "strict",
          "coloraxis": {
           "colorbar": {
            "outlinewidth": 0,
            "ticks": ""
           }
          },
          "colorscale": {
           "diverging": [
            [
             0,
             "#8e0152"
            ],
            [
             0.1,
             "#c51b7d"
            ],
            [
             0.2,
             "#de77ae"
            ],
            [
             0.3,
             "#f1b6da"
            ],
            [
             0.4,
             "#fde0ef"
            ],
            [
             0.5,
             "#f7f7f7"
            ],
            [
             0.6,
             "#e6f5d0"
            ],
            [
             0.7,
             "#b8e186"
            ],
            [
             0.8,
             "#7fbc41"
            ],
            [
             0.9,
             "#4d9221"
            ],
            [
             1,
             "#276419"
            ]
           ],
           "sequential": [
            [
             0,
             "#0d0887"
            ],
            [
             0.1111111111111111,
             "#46039f"
            ],
            [
             0.2222222222222222,
             "#7201a8"
            ],
            [
             0.3333333333333333,
             "#9c179e"
            ],
            [
             0.4444444444444444,
             "#bd3786"
            ],
            [
             0.5555555555555556,
             "#d8576b"
            ],
            [
             0.6666666666666666,
             "#ed7953"
            ],
            [
             0.7777777777777778,
             "#fb9f3a"
            ],
            [
             0.8888888888888888,
             "#fdca26"
            ],
            [
             1,
             "#f0f921"
            ]
           ],
           "sequentialminus": [
            [
             0,
             "#0d0887"
            ],
            [
             0.1111111111111111,
             "#46039f"
            ],
            [
             0.2222222222222222,
             "#7201a8"
            ],
            [
             0.3333333333333333,
             "#9c179e"
            ],
            [
             0.4444444444444444,
             "#bd3786"
            ],
            [
             0.5555555555555556,
             "#d8576b"
            ],
            [
             0.6666666666666666,
             "#ed7953"
            ],
            [
             0.7777777777777778,
             "#fb9f3a"
            ],
            [
             0.8888888888888888,
             "#fdca26"
            ],
            [
             1,
             "#f0f921"
            ]
           ]
          },
          "colorway": [
           "#636efa",
           "#EF553B",
           "#00cc96",
           "#ab63fa",
           "#FFA15A",
           "#19d3f3",
           "#FF6692",
           "#B6E880",
           "#FF97FF",
           "#FECB52"
          ],
          "font": {
           "color": "#2a3f5f"
          },
          "geo": {
           "bgcolor": "white",
           "lakecolor": "white",
           "landcolor": "#E5ECF6",
           "showlakes": true,
           "showland": true,
           "subunitcolor": "white"
          },
          "hoverlabel": {
           "align": "left"
          },
          "hovermode": "closest",
          "mapbox": {
           "style": "light"
          },
          "paper_bgcolor": "white",
          "plot_bgcolor": "#E5ECF6",
          "polar": {
           "angularaxis": {
            "gridcolor": "white",
            "linecolor": "white",
            "ticks": ""
           },
           "bgcolor": "#E5ECF6",
           "radialaxis": {
            "gridcolor": "white",
            "linecolor": "white",
            "ticks": ""
           }
          },
          "scene": {
           "xaxis": {
            "backgroundcolor": "#E5ECF6",
            "gridcolor": "white",
            "gridwidth": 2,
            "linecolor": "white",
            "showbackground": true,
            "ticks": "",
            "zerolinecolor": "white"
           },
           "yaxis": {
            "backgroundcolor": "#E5ECF6",
            "gridcolor": "white",
            "gridwidth": 2,
            "linecolor": "white",
            "showbackground": true,
            "ticks": "",
            "zerolinecolor": "white"
           },
           "zaxis": {
            "backgroundcolor": "#E5ECF6",
            "gridcolor": "white",
            "gridwidth": 2,
            "linecolor": "white",
            "showbackground": true,
            "ticks": "",
            "zerolinecolor": "white"
           }
          },
          "shapedefaults": {
           "line": {
            "color": "#2a3f5f"
           }
          },
          "ternary": {
           "aaxis": {
            "gridcolor": "white",
            "linecolor": "white",
            "ticks": ""
           },
           "baxis": {
            "gridcolor": "white",
            "linecolor": "white",
            "ticks": ""
           },
           "bgcolor": "#E5ECF6",
           "caxis": {
            "gridcolor": "white",
            "linecolor": "white",
            "ticks": ""
           }
          },
          "title": {
           "x": 0.05
          },
          "xaxis": {
           "automargin": true,
           "gridcolor": "white",
           "linecolor": "white",
           "ticks": "",
           "title": {
            "standoff": 15
           },
           "zerolinecolor": "white",
           "zerolinewidth": 2
          },
          "yaxis": {
           "automargin": true,
           "gridcolor": "white",
           "linecolor": "white",
           "ticks": "",
           "title": {
            "standoff": 15
           },
           "zerolinecolor": "white",
           "zerolinewidth": 2
          }
         }
        },
        "title": {
         "font": {
          "color": "black"
         },
         "text": "Mapping Australian cities"
        },
        "width": 1000
       }
      }
     },
     "metadata": {},
     "output_type": "display_data"
    }
   ],
   "source": [
    "df_loc['Clust3']=clust3.labels_\n",
    "df_loc['Clust4']=clust4.labels_\n",
    "fig = go.Figure(data=go.Scattergeo(\n",
    "        lat=df_loc['Latitude'],\n",
    "        lon=df_loc['Longitude'],\n",
    "        hovertext=df_loc[['Loc', 'Clust3']], \n",
    "        mode = 'markers',\n",
    "        marker=dict(colorscale=['blue', 'red', '#34eb34']),\n",
    "        marker_color = df_loc['Clust3'],\n",
    "        ))\n",
    "\n",
    "fig.add_trace(go.Scattergeo(lat=model3.cluster_centers_[:,0], lon=model3.cluster_centers_[:,1], \n",
    "                            mode='markers', marker_symbol='x', marker_size=12, \n",
    "                            marker_color=['red', 'blue', '#34eb34'],\n",
    "                            marker_line_color='black',\n",
    "                            marker_line_width=1\n",
    "                           ))\n",
    "\n",
    "fig.update_layout(\n",
    "        title = 'Mapping Australian cities',\n",
    "        title_font_color='black',\n",
    "        showlegend=False,\n",
    "        width=1000,\n",
    "        height=600,\n",
    "        margin={\"r\":10,\"t\":30,\"l\":0,\"b\":0},\n",
    "        geo = dict(\n",
    "            scope='world',\n",
    "            projection_type='miller',\n",
    "            landcolor = \"rgb(250, 250, 250)\",\n",
    "            center=dict(lat=-23.69839, lon=133.8813),\n",
    "            projection_scale=5 \n",
    "        ),\n",
    "    )\n",
    "\n",
    "fig.show()"
   ]
  }
 ],
 "metadata": {
  "interpreter": {
   "hash": "ae1140af140338a4ac7f59ecaec629984b550fb1d67e11ebb3090ffc1bf53e72"
  },
  "kernelspec": {
   "display_name": "Python 3.8.3 ('base')",
   "language": "python",
   "name": "python3"
  },
  "language_info": {
   "codemirror_mode": {
    "name": "ipython",
    "version": 3
   },
   "file_extension": ".py",
   "mimetype": "text/x-python",
   "name": "python",
   "nbconvert_exporter": "python",
   "pygments_lexer": "ipython3",
   "version": "3.8.3"
  },
  "orig_nbformat": 4
 },
 "nbformat": 4,
 "nbformat_minor": 2
}
