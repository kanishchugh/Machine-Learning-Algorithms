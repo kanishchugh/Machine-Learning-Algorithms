{
 "cells": [
  {
   "cell_type": "markdown",
   "metadata": {},
   "source": [
    "# LOWESS(Locally Weighted Scatterplot Smoothing)\n",
    "---\n",
    "LOWESS is a ***non-parametric*** fitting technique, which means that we do noot need to assume that data follows any specific distribution.\n",
    "\n",
    "We do not need to assume that data follows any speicific distribution. \n",
    "one important addition to LOWESS over OLS(ordinary least squares) is that it uses **weights**.\n",
    "\n",
    "The algorithm uses a tri-cube weight function-\n",
    "\n",
    "$W(x) = (1 - |d|^{3})^{3}$\n",
    "where d is the distance of a given datapoint from the point on the curve beiing fitted, scaled to lie in the range between 0 nd 1.\n",
    "\n",
    "***The LOWESS model is very computationally expensive thus we should not use it in all of our regression problems but for specific problems.***"
   ]
  },
  {
   "cell_type": "code",
   "execution_count": 11,
   "metadata": {},
   "outputs": [],
   "source": [
    "import pandas as pd\n",
    "import numpy as np\n",
    "from sklearn.linear_model import LinearRegression\n",
    "import plotly.graph_objects as go \n",
    "import plotly.express as px\n",
    "import statsmodels.api as sm\n",
    "from scipy.interpolate import interp1d\n",
    "from statsmodels.nonparametric.smoothers_lowess import lowess"
   ]
  },
  {
   "cell_type": "code",
   "execution_count": 7,
   "metadata": {},
   "outputs": [],
   "source": [
    "df = pd.read_csv('../data/Real_estate.csv', encoding='utf-8')"
   ]
  },
  {
   "cell_type": "code",
   "execution_count": 8,
   "metadata": {},
   "outputs": [
    {
     "data": {
      "application/vnd.plotly.v1+json": {
       "config": {
        "plotlyServerURL": "https://plot.ly"
       },
       "data": [
        {
         "hovertemplate": "X3 distance to the nearest MRT station=%{x}<br>Y house price of unit area=%{y}<extra></extra>",
         "legendgroup": "",
         "marker": {
          "color": "black",
          "opacity": 0.8,
          "size": 3,
          "symbol": "circle"
         },
         "mode": "markers",
         "name": "",
         "orientation": "v",
         "showlegend": false,
         "type": "scatter",
         "x": [
          84.87881999999999,
          306.5947,
          561.9845,
          561.9845,
          390.5684,
          2175.03,
          623.4731,
          287.6025,
          5512.0380000000005,
          1783.18,
          405.2134,
          90.45606,
          492.2313,
          2469.645,
          1164.838,
          579.2083,
          292.9978,
          350.8515,
          368.1363,
          23.382839999999998,
          2275.877,
          279.1726,
          1360.139,
          279.1726,
          480.6977,
          1487.868,
          383.8624,
          276.449,
          557.4780000000001,
          451.2438,
          4519.69,
          769.4034,
          488.5727,
          323.655,
          205.36700000000002,
          4079.4179999999997,
          1935.009,
          1360.139,
          577.9615,
          289.3248,
          4082.015,
          4066.587,
          519.4617,
          512.7871,
          533.4762,
          488.8193,
          463.9623,
          640.7391,
          4605.749,
          4510.359,
          512.5487,
          1758.406,
          1438.579,
          492.2313,
          289.3248,
          1160.632,
          371.2495,
          56.47425,
          4510.359,
          336.0532,
          1931.207,
          259.6607,
          2175.877,
          533.4762,
          995.7554,
          123.7429,
          193.5845,
          104.8101,
          464.223,
          561.9845,
          90.45606,
          640.7391,
          424.5442,
          4082.015,
          379.5575,
          1360.139,
          616.4004,
          2185.1279999999997,
          552.4371,
          1414.8370000000002,
          533.4762,
          377.7956,
          150.9347,
          2707.3920000000003,
          383.2805,
          338.9679,
          1455.7979999999998,
          4066.587,
          1406.43,
          3947.945,
          274.0144,
          1402.016,
          2469.645,
          1146.329,
          167.5989,
          104.8101,
          90.45606,
          617.4424,
          289.3248,
          90.45606,
          964.7496,
          170.1289,
          193.5845,
          208.3905,
          392.4459,
          292.9978,
          189.5181,
          1360.139,
          592.5006,
          2147.376,
          104.8101,
          196.6172,
          2102.427,
          393.2606,
          143.8383,
          737.9161,
          6396.283,
          4197.349,
          1583.7220000000002,
          289.3248,
          492.2313,
          492.2313,
          414.9476,
          185.4296,
          279.1726,
          193.5845,
          804.6897,
          383.8624,
          124.9912,
          216.8329,
          535.5269999999999,
          2147.376,
          482.7581,
          373.3937,
          186.9686,
          1009.235,
          390.5684,
          319.0708,
          942.4664,
          492.2313,
          289.3248,
          1559.8270000000002,
          640.6071,
          492.2313,
          1360.139,
          451.2438,
          185.4296,
          489.8821,
          3780.59,
          179.4538,
          170.7311,
          387.7721,
          1360.139,
          376.1709,
          4066.587,
          4082.015,
          1264.73,
          815.9314,
          390.5684,
          815.9314,
          49.66105,
          616.4004,
          4066.587,
          104.8101,
          185.4296,
          1236.5639999999999,
          292.9978,
          330.0854,
          515.1122,
          1962.628,
          4527.687,
          383.8624,
          90.45606,
          401.8807,
          432.0385,
          472.1745,
          4573.779,
          181.0766,
          1144.4360000000001,
          438.8513,
          4449.27,
          201.8939,
          2147.376,
          4082.015,
          2615.465,
          1447.286,
          2185.1279999999997,
          3078.176,
          190.0392,
          4066.587,
          616.5735,
          750.0704,
          57.58945,
          421.47900000000004,
          3771.895,
          461.1016,
          707.9067,
          126.7286,
          157.6052,
          451.6419,
          995.7554,
          561.9845,
          642.6985,
          289.3248,
          1414.8370000000002,
          1449.7220000000002,
          379.5575,
          665.0636,
          1360.139,
          175.6294,
          390.5684,
          274.0144,
          1805.665,
          90.45606,
          1783.18,
          383.7129,
          590.9292,
          372.6242,
          492.2313,
          529.7771,
          186.5101,
          1402.016,
          431.1114,
          1402.016,
          324.9419,
          193.5845,
          4082.015,
          265.0609,
          3171.329,
          1156.412,
          2147.376,
          4074.736,
          4412.765,
          333.3679,
          2216.612,
          250.63099999999997,
          373.8389,
          732.8528,
          732.8528,
          837.7233,
          1712.632,
          250.63099999999997,
          2077.39,
          204.1705,
          1559.8270000000002,
          639.6198,
          389.8219,
          1055.067,
          1009.235,
          6306.153,
          424.7132,
          1159.454,
          90.45606,
          1735.595,
          329.9747,
          5512.0380000000005,
          339.2289,
          444.1334,
          292.9978,
          837.7233,
          1485.0970000000002,
          2288.011,
          289.3248,
          2147.376,
          493.657,
          815.9314,
          1783.18,
          482.7581,
          390.5684,
          837.7233,
          252.5822,
          451.6419,
          492.2313,
          170.1289,
          394.0173,
          23.382839999999998,
          461.1016,
          2185.1279999999997,
          208.3905,
          1554.25,
          184.3302,
          387.7721,
          1455.7979999999998,
          1978.671,
          383.2805,
          718.2937,
          90.45606,
          461.1016,
          323.6912,
          289.3248,
          490.3446,
          56.47425,
          395.6747,
          383.2805,
          335.5273,
          2179.59,
          1144.4360000000001,
          567.0349,
          4082.015,
          121.7262,
          156.2442,
          461.7848,
          2288.011,
          439.7105,
          1626.0829999999999,
          289.3248,
          169.9803,
          3079.89,
          289.3248,
          1264.73,
          1643.499,
          537.7971,
          318.5292,
          104.8101,
          577.9615,
          1756.411,
          250.63099999999997,
          752.7669,
          379.5575,
          272.6783,
          4197.349,
          964.7496,
          187.4823,
          197.1338,
          1712.632,
          488.8193,
          56.47425,
          757.3377,
          1497.713,
          4197.349,
          1156.777,
          4519.69,
          617.7134,
          104.8101,
          1013.341,
          337.6016,
          1867.233,
          600.8604,
          258.186,
          329.9747,
          270.8895,
          750.0704,
          90.45606,
          563.2854,
          3085.17,
          185.4296,
          1712.632,
          6488.021,
          259.6607,
          104.8101,
          492.2313,
          2180.245,
          2674.961,
          2147.376,
          1360.139,
          383.8624,
          211.4473,
          338.9679,
          193.5845,
          2408.993,
          87.30221999999999,
          281.205,
          967.4,
          109.9455,
          614.1394,
          2261.4320000000002,
          1801.5439999999999,
          1828.319,
          350.8515,
          2185.1279999999997,
          289.3248,
          312.8963,
          157.6052,
          274.0144,
          390.5684,
          1157.988,
          1717.193,
          49.66105,
          587.8877,
          292.9978,
          289.3248,
          132.5469,
          3529.5640000000003,
          506.1144,
          4066.587,
          82.88643,
          185.4296,
          2103.555,
          2251.938,
          122.3619,
          377.8302,
          1939.749,
          443.80199999999996,
          967.4,
          4136.271,
          512.5487,
          918.6357,
          1164.838,
          1717.193,
          170.1289,
          482.7581,
          2175.03,
          187.4823,
          161.942,
          289.3248,
          130.9945,
          372.1386,
          2408.993,
          2175.744,
          4082.015,
          90.45606,
          390.9696,
          104.8101,
          90.45606
         ],
         "xaxis": "x",
         "y": [
          37.9,
          42.2,
          47.3,
          54.8,
          43.1,
          32.1,
          40.3,
          46.7,
          18.8,
          22.1,
          41.4,
          58.1,
          39.3,
          23.8,
          34.3,
          50.5,
          70.1,
          37.4,
          42.3,
          47.7,
          29.3,
          51.6,
          24.6,
          47.9,
          38.8,
          27,
          56.2,
          33.6,
          47,
          57.1,
          22.1,
          25,
          34.2,
          49.3,
          55.1,
          27.3,
          22.9,
          25.3,
          47.7,
          46.2,
          15.9,
          18.2,
          34.7,
          34.1,
          53.9,
          38.3,
          42,
          61.5,
          13.4,
          13.2,
          44.2,
          20.7,
          27,
          38.9,
          51.7,
          13.7,
          41.9,
          53.5,
          22.6,
          42.4,
          21.3,
          63.2,
          27.7,
          55,
          25.3,
          44.3,
          50.7,
          56.8,
          36.2,
          42,
          59,
          40.8,
          36.3,
          20,
          54.4,
          29.5,
          36.8,
          25.6,
          29.8,
          26.5,
          40.3,
          36.8,
          48.1,
          17.7,
          43.7,
          50.8,
          27,
          18.3,
          48,
          25.3,
          45.4,
          43.2,
          21.8,
          16.1,
          41,
          51.8,
          59.5,
          34.6,
          51,
          62.2,
          38.2,
          32.9,
          54.4,
          45.7,
          30.5,
          71,
          47.1,
          26.6,
          34.1,
          28.4,
          51.6,
          39.4,
          23.1,
          7.6,
          53.3,
          46.4,
          12.2,
          13,
          30.6,
          59.6,
          31.3,
          48,
          32.5,
          45.5,
          57.4,
          48.6,
          62.9,
          55,
          60.7,
          41,
          37.5,
          30.7,
          37.5,
          39.5,
          42.2,
          20.8,
          46.8,
          47.4,
          43.5,
          42.5,
          51.4,
          28.9,
          37.5,
          40.1,
          28.4,
          45.5,
          52.2,
          43.2,
          45.1,
          39.7,
          48.5,
          44.7,
          28.9,
          40.9,
          20.7,
          15.6,
          18.3,
          35.6,
          39.4,
          37.4,
          57.8,
          39.6,
          11.6,
          55.5,
          55.2,
          30.6,
          73.6,
          43.4,
          37.4,
          23.5,
          14.4,
          58.8,
          58.1,
          35.1,
          45.2,
          36.5,
          19.2,
          42,
          36.7,
          42.6,
          15.5,
          55.9,
          23.6,
          18.8,
          21.8,
          21.5,
          25.7,
          22,
          44.3,
          20.5,
          42.3,
          37.8,
          42.7,
          49.3,
          29.3,
          34.6,
          36.6,
          48.2,
          39.1,
          31.6,
          25.5,
          45.9,
          31.5,
          46.1,
          26.6,
          21.4,
          44,
          34.2,
          26.2,
          40.9,
          52.2,
          43.5,
          31.1,
          58,
          20.9,
          48.1,
          39.7,
          40.8,
          43.8,
          40.2,
          78.3,
          38.5,
          48.5,
          42.3,
          46,
          49,
          12.8,
          40.2,
          46.6,
          19,
          33.4,
          14.7,
          17.4,
          32.4,
          23.9,
          39.3,
          61.9,
          39,
          40.6,
          29.7,
          28.8,
          41.4,
          33.4,
          48.2,
          21.7,
          40.8,
          40.6,
          23.1,
          22.3,
          15,
          30,
          13.8,
          52.7,
          25.9,
          51.8,
          17.4,
          26.5,
          43.9,
          63.3,
          28.8,
          30.7,
          24.4,
          53,
          31.7,
          40.6,
          38.1,
          23.7,
          41.1,
          40.1,
          23,
          117.5,
          26.5,
          40.5,
          29.3,
          41,
          49.7,
          34,
          27.7,
          44,
          31.1,
          45.4,
          44.8,
          25.6,
          23.5,
          34.4,
          55.3,
          56.3,
          32.9,
          51,
          44.5,
          37,
          54.4,
          24.5,
          42.5,
          38.1,
          21.8,
          34.1,
          28.5,
          16.7,
          46.1,
          36.9,
          35.7,
          23.2,
          38.4,
          29.4,
          55,
          50.2,
          24.7,
          53,
          19.1,
          24.7,
          42.2,
          78,
          42.8,
          41.6,
          27.3,
          42,
          37.5,
          49.8,
          26.9,
          18.6,
          37.7,
          33.1,
          42.5,
          31.3,
          38.1,
          62.1,
          36.7,
          23.6,
          19.2,
          12.8,
          15.6,
          39.6,
          38.4,
          22.8,
          36.5,
          35.6,
          30.9,
          36.3,
          50.4,
          42.9,
          37,
          53.5,
          46.6,
          41.2,
          37.9,
          30.8,
          11.2,
          53.7,
          47,
          42.3,
          28.6,
          25.7,
          31.3,
          30.1,
          60.7,
          45.3,
          44.9,
          45.1,
          24.7,
          47.1,
          63.3,
          40,
          48,
          33.1,
          29.5,
          24.8,
          20.9,
          43.1,
          22.8,
          42.1,
          51.7,
          41.5,
          52.2,
          49.5,
          23.8,
          30.5,
          56.8,
          37.4,
          69.7,
          53.3,
          47.3,
          29.3,
          40.3,
          12.9,
          46.6,
          55.3,
          25.6,
          27.3,
          67.7,
          38.6,
          31.3,
          35.3,
          40.3,
          24.7,
          42.5,
          31.9,
          32.2,
          23,
          37.3,
          35.5,
          27.7,
          28.5,
          39.7,
          41.2,
          37.2,
          40.5,
          22.3,
          28.1,
          15.4,
          50,
          40.6,
          52.5,
          63.9
         ],
         "yaxis": "y"
        }
       ],
       "layout": {
        "legend": {
         "tracegroupgap": 0
        },
        "margin": {
         "t": 60
        },
        "plot_bgcolor": "white",
        "template": {
         "data": {
          "bar": [
           {
            "error_x": {
             "color": "#2a3f5f"
            },
            "error_y": {
             "color": "#2a3f5f"
            },
            "marker": {
             "line": {
              "color": "#E5ECF6",
              "width": 0.5
             },
             "pattern": {
              "fillmode": "overlay",
              "size": 10,
              "solidity": 0.2
             }
            },
            "type": "bar"
           }
          ],
          "barpolar": [
           {
            "marker": {
             "line": {
              "color": "#E5ECF6",
              "width": 0.5
             },
             "pattern": {
              "fillmode": "overlay",
              "size": 10,
              "solidity": 0.2
             }
            },
            "type": "barpolar"
           }
          ],
          "carpet": [
           {
            "aaxis": {
             "endlinecolor": "#2a3f5f",
             "gridcolor": "white",
             "linecolor": "white",
             "minorgridcolor": "white",
             "startlinecolor": "#2a3f5f"
            },
            "baxis": {
             "endlinecolor": "#2a3f5f",
             "gridcolor": "white",
             "linecolor": "white",
             "minorgridcolor": "white",
             "startlinecolor": "#2a3f5f"
            },
            "type": "carpet"
           }
          ],
          "choropleth": [
           {
            "colorbar": {
             "outlinewidth": 0,
             "ticks": ""
            },
            "type": "choropleth"
           }
          ],
          "contour": [
           {
            "colorbar": {
             "outlinewidth": 0,
             "ticks": ""
            },
            "colorscale": [
             [
              0,
              "#0d0887"
             ],
             [
              0.1111111111111111,
              "#46039f"
             ],
             [
              0.2222222222222222,
              "#7201a8"
             ],
             [
              0.3333333333333333,
              "#9c179e"
             ],
             [
              0.4444444444444444,
              "#bd3786"
             ],
             [
              0.5555555555555556,
              "#d8576b"
             ],
             [
              0.6666666666666666,
              "#ed7953"
             ],
             [
              0.7777777777777778,
              "#fb9f3a"
             ],
             [
              0.8888888888888888,
              "#fdca26"
             ],
             [
              1,
              "#f0f921"
             ]
            ],
            "type": "contour"
           }
          ],
          "contourcarpet": [
           {
            "colorbar": {
             "outlinewidth": 0,
             "ticks": ""
            },
            "type": "contourcarpet"
           }
          ],
          "heatmap": [
           {
            "colorbar": {
             "outlinewidth": 0,
             "ticks": ""
            },
            "colorscale": [
             [
              0,
              "#0d0887"
             ],
             [
              0.1111111111111111,
              "#46039f"
             ],
             [
              0.2222222222222222,
              "#7201a8"
             ],
             [
              0.3333333333333333,
              "#9c179e"
             ],
             [
              0.4444444444444444,
              "#bd3786"
             ],
             [
              0.5555555555555556,
              "#d8576b"
             ],
             [
              0.6666666666666666,
              "#ed7953"
             ],
             [
              0.7777777777777778,
              "#fb9f3a"
             ],
             [
              0.8888888888888888,
              "#fdca26"
             ],
             [
              1,
              "#f0f921"
             ]
            ],
            "type": "heatmap"
           }
          ],
          "heatmapgl": [
           {
            "colorbar": {
             "outlinewidth": 0,
             "ticks": ""
            },
            "colorscale": [
             [
              0,
              "#0d0887"
             ],
             [
              0.1111111111111111,
              "#46039f"
             ],
             [
              0.2222222222222222,
              "#7201a8"
             ],
             [
              0.3333333333333333,
              "#9c179e"
             ],
             [
              0.4444444444444444,
              "#bd3786"
             ],
             [
              0.5555555555555556,
              "#d8576b"
             ],
             [
              0.6666666666666666,
              "#ed7953"
             ],
             [
              0.7777777777777778,
              "#fb9f3a"
             ],
             [
              0.8888888888888888,
              "#fdca26"
             ],
             [
              1,
              "#f0f921"
             ]
            ],
            "type": "heatmapgl"
           }
          ],
          "histogram": [
           {
            "marker": {
             "pattern": {
              "fillmode": "overlay",
              "size": 10,
              "solidity": 0.2
             }
            },
            "type": "histogram"
           }
          ],
          "histogram2d": [
           {
            "colorbar": {
             "outlinewidth": 0,
             "ticks": ""
            },
            "colorscale": [
             [
              0,
              "#0d0887"
             ],
             [
              0.1111111111111111,
              "#46039f"
             ],
             [
              0.2222222222222222,
              "#7201a8"
             ],
             [
              0.3333333333333333,
              "#9c179e"
             ],
             [
              0.4444444444444444,
              "#bd3786"
             ],
             [
              0.5555555555555556,
              "#d8576b"
             ],
             [
              0.6666666666666666,
              "#ed7953"
             ],
             [
              0.7777777777777778,
              "#fb9f3a"
             ],
             [
              0.8888888888888888,
              "#fdca26"
             ],
             [
              1,
              "#f0f921"
             ]
            ],
            "type": "histogram2d"
           }
          ],
          "histogram2dcontour": [
           {
            "colorbar": {
             "outlinewidth": 0,
             "ticks": ""
            },
            "colorscale": [
             [
              0,
              "#0d0887"
             ],
             [
              0.1111111111111111,
              "#46039f"
             ],
             [
              0.2222222222222222,
              "#7201a8"
             ],
             [
              0.3333333333333333,
              "#9c179e"
             ],
             [
              0.4444444444444444,
              "#bd3786"
             ],
             [
              0.5555555555555556,
              "#d8576b"
             ],
             [
              0.6666666666666666,
              "#ed7953"
             ],
             [
              0.7777777777777778,
              "#fb9f3a"
             ],
             [
              0.8888888888888888,
              "#fdca26"
             ],
             [
              1,
              "#f0f921"
             ]
            ],
            "type": "histogram2dcontour"
           }
          ],
          "mesh3d": [
           {
            "colorbar": {
             "outlinewidth": 0,
             "ticks": ""
            },
            "type": "mesh3d"
           }
          ],
          "parcoords": [
           {
            "line": {
             "colorbar": {
              "outlinewidth": 0,
              "ticks": ""
             }
            },
            "type": "parcoords"
           }
          ],
          "pie": [
           {
            "automargin": true,
            "type": "pie"
           }
          ],
          "scatter": [
           {
            "marker": {
             "colorbar": {
              "outlinewidth": 0,
              "ticks": ""
             }
            },
            "type": "scatter"
           }
          ],
          "scatter3d": [
           {
            "line": {
             "colorbar": {
              "outlinewidth": 0,
              "ticks": ""
             }
            },
            "marker": {
             "colorbar": {
              "outlinewidth": 0,
              "ticks": ""
             }
            },
            "type": "scatter3d"
           }
          ],
          "scattercarpet": [
           {
            "marker": {
             "colorbar": {
              "outlinewidth": 0,
              "ticks": ""
             }
            },
            "type": "scattercarpet"
           }
          ],
          "scattergeo": [
           {
            "marker": {
             "colorbar": {
              "outlinewidth": 0,
              "ticks": ""
             }
            },
            "type": "scattergeo"
           }
          ],
          "scattergl": [
           {
            "marker": {
             "colorbar": {
              "outlinewidth": 0,
              "ticks": ""
             }
            },
            "type": "scattergl"
           }
          ],
          "scattermapbox": [
           {
            "marker": {
             "colorbar": {
              "outlinewidth": 0,
              "ticks": ""
             }
            },
            "type": "scattermapbox"
           }
          ],
          "scatterpolar": [
           {
            "marker": {
             "colorbar": {
              "outlinewidth": 0,
              "ticks": ""
             }
            },
            "type": "scatterpolar"
           }
          ],
          "scatterpolargl": [
           {
            "marker": {
             "colorbar": {
              "outlinewidth": 0,
              "ticks": ""
             }
            },
            "type": "scatterpolargl"
           }
          ],
          "scatterternary": [
           {
            "marker": {
             "colorbar": {
              "outlinewidth": 0,
              "ticks": ""
             }
            },
            "type": "scatterternary"
           }
          ],
          "surface": [
           {
            "colorbar": {
             "outlinewidth": 0,
             "ticks": ""
            },
            "colorscale": [
             [
              0,
              "#0d0887"
             ],
             [
              0.1111111111111111,
              "#46039f"
             ],
             [
              0.2222222222222222,
              "#7201a8"
             ],
             [
              0.3333333333333333,
              "#9c179e"
             ],
             [
              0.4444444444444444,
              "#bd3786"
             ],
             [
              0.5555555555555556,
              "#d8576b"
             ],
             [
              0.6666666666666666,
              "#ed7953"
             ],
             [
              0.7777777777777778,
              "#fb9f3a"
             ],
             [
              0.8888888888888888,
              "#fdca26"
             ],
             [
              1,
              "#f0f921"
             ]
            ],
            "type": "surface"
           }
          ],
          "table": [
           {
            "cells": {
             "fill": {
              "color": "#EBF0F8"
             },
             "line": {
              "color": "white"
             }
            },
            "header": {
             "fill": {
              "color": "#C8D4E3"
             },
             "line": {
              "color": "white"
             }
            },
            "type": "table"
           }
          ]
         },
         "layout": {
          "annotationdefaults": {
           "arrowcolor": "#2a3f5f",
           "arrowhead": 0,
           "arrowwidth": 1
          },
          "autotypenumbers": "strict",
          "coloraxis": {
           "colorbar": {
            "outlinewidth": 0,
            "ticks": ""
           }
          },
          "colorscale": {
           "diverging": [
            [
             0,
             "#8e0152"
            ],
            [
             0.1,
             "#c51b7d"
            ],
            [
             0.2,
             "#de77ae"
            ],
            [
             0.3,
             "#f1b6da"
            ],
            [
             0.4,
             "#fde0ef"
            ],
            [
             0.5,
             "#f7f7f7"
            ],
            [
             0.6,
             "#e6f5d0"
            ],
            [
             0.7,
             "#b8e186"
            ],
            [
             0.8,
             "#7fbc41"
            ],
            [
             0.9,
             "#4d9221"
            ],
            [
             1,
             "#276419"
            ]
           ],
           "sequential": [
            [
             0,
             "#0d0887"
            ],
            [
             0.1111111111111111,
             "#46039f"
            ],
            [
             0.2222222222222222,
             "#7201a8"
            ],
            [
             0.3333333333333333,
             "#9c179e"
            ],
            [
             0.4444444444444444,
             "#bd3786"
            ],
            [
             0.5555555555555556,
             "#d8576b"
            ],
            [
             0.6666666666666666,
             "#ed7953"
            ],
            [
             0.7777777777777778,
             "#fb9f3a"
            ],
            [
             0.8888888888888888,
             "#fdca26"
            ],
            [
             1,
             "#f0f921"
            ]
           ],
           "sequentialminus": [
            [
             0,
             "#0d0887"
            ],
            [
             0.1111111111111111,
             "#46039f"
            ],
            [
             0.2222222222222222,
             "#7201a8"
            ],
            [
             0.3333333333333333,
             "#9c179e"
            ],
            [
             0.4444444444444444,
             "#bd3786"
            ],
            [
             0.5555555555555556,
             "#d8576b"
            ],
            [
             0.6666666666666666,
             "#ed7953"
            ],
            [
             0.7777777777777778,
             "#fb9f3a"
            ],
            [
             0.8888888888888888,
             "#fdca26"
            ],
            [
             1,
             "#f0f921"
            ]
           ]
          },
          "colorway": [
           "#636efa",
           "#EF553B",
           "#00cc96",
           "#ab63fa",
           "#FFA15A",
           "#19d3f3",
           "#FF6692",
           "#B6E880",
           "#FF97FF",
           "#FECB52"
          ],
          "font": {
           "color": "#2a3f5f"
          },
          "geo": {
           "bgcolor": "white",
           "lakecolor": "white",
           "landcolor": "#E5ECF6",
           "showlakes": true,
           "showland": true,
           "subunitcolor": "white"
          },
          "hoverlabel": {
           "align": "left"
          },
          "hovermode": "closest",
          "mapbox": {
           "style": "light"
          },
          "paper_bgcolor": "white",
          "plot_bgcolor": "#E5ECF6",
          "polar": {
           "angularaxis": {
            "gridcolor": "white",
            "linecolor": "white",
            "ticks": ""
           },
           "bgcolor": "#E5ECF6",
           "radialaxis": {
            "gridcolor": "white",
            "linecolor": "white",
            "ticks": ""
           }
          },
          "scene": {
           "xaxis": {
            "backgroundcolor": "#E5ECF6",
            "gridcolor": "white",
            "gridwidth": 2,
            "linecolor": "white",
            "showbackground": true,
            "ticks": "",
            "zerolinecolor": "white"
           },
           "yaxis": {
            "backgroundcolor": "#E5ECF6",
            "gridcolor": "white",
            "gridwidth": 2,
            "linecolor": "white",
            "showbackground": true,
            "ticks": "",
            "zerolinecolor": "white"
           },
           "zaxis": {
            "backgroundcolor": "#E5ECF6",
            "gridcolor": "white",
            "gridwidth": 2,
            "linecolor": "white",
            "showbackground": true,
            "ticks": "",
            "zerolinecolor": "white"
           }
          },
          "shapedefaults": {
           "line": {
            "color": "#2a3f5f"
           }
          },
          "ternary": {
           "aaxis": {
            "gridcolor": "white",
            "linecolor": "white",
            "ticks": ""
           },
           "baxis": {
            "gridcolor": "white",
            "linecolor": "white",
            "ticks": ""
           },
           "bgcolor": "#E5ECF6",
           "caxis": {
            "gridcolor": "white",
            "linecolor": "white",
            "ticks": ""
           }
          },
          "title": {
           "x": 0.05
          },
          "xaxis": {
           "automargin": true,
           "gridcolor": "white",
           "linecolor": "white",
           "ticks": "",
           "title": {
            "standoff": 15
           },
           "zerolinecolor": "white",
           "zerolinewidth": 2
          },
          "yaxis": {
           "automargin": true,
           "gridcolor": "white",
           "linecolor": "white",
           "ticks": "",
           "title": {
            "standoff": 15
           },
           "zerolinecolor": "white",
           "zerolinewidth": 2
          }
         }
        },
        "title": {
         "font": {
          "color": "black"
         },
         "text": "House Price Based on Distance from the Nearest MRT"
        },
        "xaxis": {
         "anchor": "y",
         "domain": [
          0,
          1
         ],
         "gridcolor": "lightgrey",
         "gridwidth": 1,
         "linecolor": "black",
         "linewidth": 1,
         "showgrid": true,
         "showline": true,
         "title": {
          "text": "X3 distance to the nearest MRT station"
         },
         "zeroline": true,
         "zerolinecolor": "lightgrey",
         "zerolinewidth": 1
        },
        "yaxis": {
         "anchor": "x",
         "domain": [
          0,
          1
         ],
         "gridcolor": "lightgrey",
         "gridwidth": 1,
         "linecolor": "black",
         "linewidth": 1,
         "showgrid": true,
         "showline": true,
         "title": {
          "text": "Y house price of unit area"
         },
         "zeroline": true,
         "zerolinecolor": "lightgrey",
         "zerolinewidth": 1
        }
       }
      }
     },
     "metadata": {},
     "output_type": "display_data"
    }
   ],
   "source": [
    "fig = px.scatter(df, x = df['X3 distance to the nearest MRT station'], y = df['Y house price of unit area'],\n",
    "                    opacity=0.8, color_discrete_sequence=['black'])\n",
    "\n",
    "fig.update_layout(dict(plot_bgcolor = 'white'))\n",
    "\n",
    "fig.update_xaxes(showgrid=True, gridwidth=1, gridcolor='lightgrey', \n",
    "                 zeroline=True, zerolinewidth=1, zerolinecolor='lightgrey', \n",
    "                 showline=True, linewidth=1, linecolor='black')\n",
    "\n",
    "fig.update_yaxes(showgrid=True, gridwidth=1, gridcolor='lightgrey', \n",
    "                 zeroline=True, zerolinewidth=1, zerolinecolor='lightgrey', \n",
    "                 showline=True, linewidth=1, linecolor='black')\n",
    "\n",
    "\n",
    "fig.update_layout(title = dict(text=\"House Price Based on Distance from the Nearest MRT\", \n",
    "                             font=dict(color='black')))\n",
    "\n",
    "fig.update_traces(marker = dict(size = 3))\n",
    "\n",
    "fig.show()"
   ]
  },
  {
   "cell_type": "code",
   "execution_count": 13,
   "metadata": {},
   "outputs": [],
   "source": [
    "X = df['X3 distance to the nearest MRT station'].values.reshape(-1,1)\n",
    "x = df['X3 distance to the nearest MRT station'].values\n",
    "y = df['Y house price of unit area']\n",
    "\n",
    "model1 = LinearRegression()\n",
    "LR = model1.fit(X, y)\n",
    "\n",
    "x_range = np.linspace(X.min(), X.max(), 20)\n",
    "y_range = model1.predict(x_range.reshape(-1,1))\n",
    "\n",
    "y_hat1 = lowess(y, x)\n",
    "y_hat2 = lowess(y, x, frac = 1/5)"
   ]
  },
  {
   "cell_type": "code",
   "execution_count": 14,
   "metadata": {},
   "outputs": [
    {
     "data": {
      "application/vnd.plotly.v1+json": {
       "config": {
        "plotlyServerURL": "https://plot.ly"
       },
       "data": [
        {
         "hovertemplate": "X3 distance to the nearest MRT station=%{x}<br>Y house price of unit area=%{y}<extra></extra>",
         "legendgroup": "",
         "marker": {
          "color": "black",
          "opacity": 0.8,
          "size": 3,
          "symbol": "circle"
         },
         "mode": "markers",
         "name": "",
         "orientation": "v",
         "showlegend": false,
         "type": "scatter",
         "x": [
          84.87881999999999,
          306.5947,
          561.9845,
          561.9845,
          390.5684,
          2175.03,
          623.4731,
          287.6025,
          5512.0380000000005,
          1783.18,
          405.2134,
          90.45606,
          492.2313,
          2469.645,
          1164.838,
          579.2083,
          292.9978,
          350.8515,
          368.1363,
          23.382839999999998,
          2275.877,
          279.1726,
          1360.139,
          279.1726,
          480.6977,
          1487.868,
          383.8624,
          276.449,
          557.4780000000001,
          451.2438,
          4519.69,
          769.4034,
          488.5727,
          323.655,
          205.36700000000002,
          4079.4179999999997,
          1935.009,
          1360.139,
          577.9615,
          289.3248,
          4082.015,
          4066.587,
          519.4617,
          512.7871,
          533.4762,
          488.8193,
          463.9623,
          640.7391,
          4605.749,
          4510.359,
          512.5487,
          1758.406,
          1438.579,
          492.2313,
          289.3248,
          1160.632,
          371.2495,
          56.47425,
          4510.359,
          336.0532,
          1931.207,
          259.6607,
          2175.877,
          533.4762,
          995.7554,
          123.7429,
          193.5845,
          104.8101,
          464.223,
          561.9845,
          90.45606,
          640.7391,
          424.5442,
          4082.015,
          379.5575,
          1360.139,
          616.4004,
          2185.1279999999997,
          552.4371,
          1414.8370000000002,
          533.4762,
          377.7956,
          150.9347,
          2707.3920000000003,
          383.2805,
          338.9679,
          1455.7979999999998,
          4066.587,
          1406.43,
          3947.945,
          274.0144,
          1402.016,
          2469.645,
          1146.329,
          167.5989,
          104.8101,
          90.45606,
          617.4424,
          289.3248,
          90.45606,
          964.7496,
          170.1289,
          193.5845,
          208.3905,
          392.4459,
          292.9978,
          189.5181,
          1360.139,
          592.5006,
          2147.376,
          104.8101,
          196.6172,
          2102.427,
          393.2606,
          143.8383,
          737.9161,
          6396.283,
          4197.349,
          1583.7220000000002,
          289.3248,
          492.2313,
          492.2313,
          414.9476,
          185.4296,
          279.1726,
          193.5845,
          804.6897,
          383.8624,
          124.9912,
          216.8329,
          535.5269999999999,
          2147.376,
          482.7581,
          373.3937,
          186.9686,
          1009.235,
          390.5684,
          319.0708,
          942.4664,
          492.2313,
          289.3248,
          1559.8270000000002,
          640.6071,
          492.2313,
          1360.139,
          451.2438,
          185.4296,
          489.8821,
          3780.59,
          179.4538,
          170.7311,
          387.7721,
          1360.139,
          376.1709,
          4066.587,
          4082.015,
          1264.73,
          815.9314,
          390.5684,
          815.9314,
          49.66105,
          616.4004,
          4066.587,
          104.8101,
          185.4296,
          1236.5639999999999,
          292.9978,
          330.0854,
          515.1122,
          1962.628,
          4527.687,
          383.8624,
          90.45606,
          401.8807,
          432.0385,
          472.1745,
          4573.779,
          181.0766,
          1144.4360000000001,
          438.8513,
          4449.27,
          201.8939,
          2147.376,
          4082.015,
          2615.465,
          1447.286,
          2185.1279999999997,
          3078.176,
          190.0392,
          4066.587,
          616.5735,
          750.0704,
          57.58945,
          421.47900000000004,
          3771.895,
          461.1016,
          707.9067,
          126.7286,
          157.6052,
          451.6419,
          995.7554,
          561.9845,
          642.6985,
          289.3248,
          1414.8370000000002,
          1449.7220000000002,
          379.5575,
          665.0636,
          1360.139,
          175.6294,
          390.5684,
          274.0144,
          1805.665,
          90.45606,
          1783.18,
          383.7129,
          590.9292,
          372.6242,
          492.2313,
          529.7771,
          186.5101,
          1402.016,
          431.1114,
          1402.016,
          324.9419,
          193.5845,
          4082.015,
          265.0609,
          3171.329,
          1156.412,
          2147.376,
          4074.736,
          4412.765,
          333.3679,
          2216.612,
          250.63099999999997,
          373.8389,
          732.8528,
          732.8528,
          837.7233,
          1712.632,
          250.63099999999997,
          2077.39,
          204.1705,
          1559.8270000000002,
          639.6198,
          389.8219,
          1055.067,
          1009.235,
          6306.153,
          424.7132,
          1159.454,
          90.45606,
          1735.595,
          329.9747,
          5512.0380000000005,
          339.2289,
          444.1334,
          292.9978,
          837.7233,
          1485.0970000000002,
          2288.011,
          289.3248,
          2147.376,
          493.657,
          815.9314,
          1783.18,
          482.7581,
          390.5684,
          837.7233,
          252.5822,
          451.6419,
          492.2313,
          170.1289,
          394.0173,
          23.382839999999998,
          461.1016,
          2185.1279999999997,
          208.3905,
          1554.25,
          184.3302,
          387.7721,
          1455.7979999999998,
          1978.671,
          383.2805,
          718.2937,
          90.45606,
          461.1016,
          323.6912,
          289.3248,
          490.3446,
          56.47425,
          395.6747,
          383.2805,
          335.5273,
          2179.59,
          1144.4360000000001,
          567.0349,
          4082.015,
          121.7262,
          156.2442,
          461.7848,
          2288.011,
          439.7105,
          1626.0829999999999,
          289.3248,
          169.9803,
          3079.89,
          289.3248,
          1264.73,
          1643.499,
          537.7971,
          318.5292,
          104.8101,
          577.9615,
          1756.411,
          250.63099999999997,
          752.7669,
          379.5575,
          272.6783,
          4197.349,
          964.7496,
          187.4823,
          197.1338,
          1712.632,
          488.8193,
          56.47425,
          757.3377,
          1497.713,
          4197.349,
          1156.777,
          4519.69,
          617.7134,
          104.8101,
          1013.341,
          337.6016,
          1867.233,
          600.8604,
          258.186,
          329.9747,
          270.8895,
          750.0704,
          90.45606,
          563.2854,
          3085.17,
          185.4296,
          1712.632,
          6488.021,
          259.6607,
          104.8101,
          492.2313,
          2180.245,
          2674.961,
          2147.376,
          1360.139,
          383.8624,
          211.4473,
          338.9679,
          193.5845,
          2408.993,
          87.30221999999999,
          281.205,
          967.4,
          109.9455,
          614.1394,
          2261.4320000000002,
          1801.5439999999999,
          1828.319,
          350.8515,
          2185.1279999999997,
          289.3248,
          312.8963,
          157.6052,
          274.0144,
          390.5684,
          1157.988,
          1717.193,
          49.66105,
          587.8877,
          292.9978,
          289.3248,
          132.5469,
          3529.5640000000003,
          506.1144,
          4066.587,
          82.88643,
          185.4296,
          2103.555,
          2251.938,
          122.3619,
          377.8302,
          1939.749,
          443.80199999999996,
          967.4,
          4136.271,
          512.5487,
          918.6357,
          1164.838,
          1717.193,
          170.1289,
          482.7581,
          2175.03,
          187.4823,
          161.942,
          289.3248,
          130.9945,
          372.1386,
          2408.993,
          2175.744,
          4082.015,
          90.45606,
          390.9696,
          104.8101,
          90.45606
         ],
         "xaxis": "x",
         "y": [
          37.9,
          42.2,
          47.3,
          54.8,
          43.1,
          32.1,
          40.3,
          46.7,
          18.8,
          22.1,
          41.4,
          58.1,
          39.3,
          23.8,
          34.3,
          50.5,
          70.1,
          37.4,
          42.3,
          47.7,
          29.3,
          51.6,
          24.6,
          47.9,
          38.8,
          27,
          56.2,
          33.6,
          47,
          57.1,
          22.1,
          25,
          34.2,
          49.3,
          55.1,
          27.3,
          22.9,
          25.3,
          47.7,
          46.2,
          15.9,
          18.2,
          34.7,
          34.1,
          53.9,
          38.3,
          42,
          61.5,
          13.4,
          13.2,
          44.2,
          20.7,
          27,
          38.9,
          51.7,
          13.7,
          41.9,
          53.5,
          22.6,
          42.4,
          21.3,
          63.2,
          27.7,
          55,
          25.3,
          44.3,
          50.7,
          56.8,
          36.2,
          42,
          59,
          40.8,
          36.3,
          20,
          54.4,
          29.5,
          36.8,
          25.6,
          29.8,
          26.5,
          40.3,
          36.8,
          48.1,
          17.7,
          43.7,
          50.8,
          27,
          18.3,
          48,
          25.3,
          45.4,
          43.2,
          21.8,
          16.1,
          41,
          51.8,
          59.5,
          34.6,
          51,
          62.2,
          38.2,
          32.9,
          54.4,
          45.7,
          30.5,
          71,
          47.1,
          26.6,
          34.1,
          28.4,
          51.6,
          39.4,
          23.1,
          7.6,
          53.3,
          46.4,
          12.2,
          13,
          30.6,
          59.6,
          31.3,
          48,
          32.5,
          45.5,
          57.4,
          48.6,
          62.9,
          55,
          60.7,
          41,
          37.5,
          30.7,
          37.5,
          39.5,
          42.2,
          20.8,
          46.8,
          47.4,
          43.5,
          42.5,
          51.4,
          28.9,
          37.5,
          40.1,
          28.4,
          45.5,
          52.2,
          43.2,
          45.1,
          39.7,
          48.5,
          44.7,
          28.9,
          40.9,
          20.7,
          15.6,
          18.3,
          35.6,
          39.4,
          37.4,
          57.8,
          39.6,
          11.6,
          55.5,
          55.2,
          30.6,
          73.6,
          43.4,
          37.4,
          23.5,
          14.4,
          58.8,
          58.1,
          35.1,
          45.2,
          36.5,
          19.2,
          42,
          36.7,
          42.6,
          15.5,
          55.9,
          23.6,
          18.8,
          21.8,
          21.5,
          25.7,
          22,
          44.3,
          20.5,
          42.3,
          37.8,
          42.7,
          49.3,
          29.3,
          34.6,
          36.6,
          48.2,
          39.1,
          31.6,
          25.5,
          45.9,
          31.5,
          46.1,
          26.6,
          21.4,
          44,
          34.2,
          26.2,
          40.9,
          52.2,
          43.5,
          31.1,
          58,
          20.9,
          48.1,
          39.7,
          40.8,
          43.8,
          40.2,
          78.3,
          38.5,
          48.5,
          42.3,
          46,
          49,
          12.8,
          40.2,
          46.6,
          19,
          33.4,
          14.7,
          17.4,
          32.4,
          23.9,
          39.3,
          61.9,
          39,
          40.6,
          29.7,
          28.8,
          41.4,
          33.4,
          48.2,
          21.7,
          40.8,
          40.6,
          23.1,
          22.3,
          15,
          30,
          13.8,
          52.7,
          25.9,
          51.8,
          17.4,
          26.5,
          43.9,
          63.3,
          28.8,
          30.7,
          24.4,
          53,
          31.7,
          40.6,
          38.1,
          23.7,
          41.1,
          40.1,
          23,
          117.5,
          26.5,
          40.5,
          29.3,
          41,
          49.7,
          34,
          27.7,
          44,
          31.1,
          45.4,
          44.8,
          25.6,
          23.5,
          34.4,
          55.3,
          56.3,
          32.9,
          51,
          44.5,
          37,
          54.4,
          24.5,
          42.5,
          38.1,
          21.8,
          34.1,
          28.5,
          16.7,
          46.1,
          36.9,
          35.7,
          23.2,
          38.4,
          29.4,
          55,
          50.2,
          24.7,
          53,
          19.1,
          24.7,
          42.2,
          78,
          42.8,
          41.6,
          27.3,
          42,
          37.5,
          49.8,
          26.9,
          18.6,
          37.7,
          33.1,
          42.5,
          31.3,
          38.1,
          62.1,
          36.7,
          23.6,
          19.2,
          12.8,
          15.6,
          39.6,
          38.4,
          22.8,
          36.5,
          35.6,
          30.9,
          36.3,
          50.4,
          42.9,
          37,
          53.5,
          46.6,
          41.2,
          37.9,
          30.8,
          11.2,
          53.7,
          47,
          42.3,
          28.6,
          25.7,
          31.3,
          30.1,
          60.7,
          45.3,
          44.9,
          45.1,
          24.7,
          47.1,
          63.3,
          40,
          48,
          33.1,
          29.5,
          24.8,
          20.9,
          43.1,
          22.8,
          42.1,
          51.7,
          41.5,
          52.2,
          49.5,
          23.8,
          30.5,
          56.8,
          37.4,
          69.7,
          53.3,
          47.3,
          29.3,
          40.3,
          12.9,
          46.6,
          55.3,
          25.6,
          27.3,
          67.7,
          38.6,
          31.3,
          35.3,
          40.3,
          24.7,
          42.5,
          31.9,
          32.2,
          23,
          37.3,
          35.5,
          27.7,
          28.5,
          39.7,
          41.2,
          37.2,
          40.5,
          22.3,
          28.1,
          15.4,
          50,
          40.6,
          52.5,
          63.9
         ],
         "yaxis": "y"
        },
        {
         "line": {
          "color": "limegreen"
         },
         "marker": {
          "size": 3
         },
         "name": "Linear Regression",
         "type": "scatter",
         "x": [
          23.382839999999998,
          363.6269536842105,
          703.871067368421,
          1044.1151810526314,
          1384.359294736842,
          1724.6034084210526,
          2064.847522105263,
          2405.091635789474,
          2745.3357494736842,
          3085.5798631578946,
          3425.8239768421054,
          3766.0680905263157,
          4106.312204210526,
          4446.556317894737,
          4786.800431578948,
          5127.0445452631575,
          5467.288658947368,
          5807.532772631579,
          6147.776886315789,
          6488.021
         ],
         "y": [
          45.681619666716045,
          43.2107493503698,
          40.73987903402355,
          38.2690087176773,
          35.79813840133106,
          33.32726808498481,
          30.85639776863856,
          28.385527452292312,
          25.914657135946065,
          23.44378681959982,
          20.97291650325357,
          18.50204618690732,
          16.031175870561075,
          13.560305554214828,
          11.089435237868578,
          8.618564921522335,
          6.147694605176085,
          3.6768242888298346,
          1.2059539724835915,
          -1.2649163438626587
         ]
        },
        {
         "line": {
          "color": "red"
         },
         "marker": {
          "size": 3
         },
         "name": "LOWESS, frac=2/3",
         "type": "scatter",
         "x": [
          23.382839999999998,
          23.382839999999998,
          49.66105,
          49.66105,
          56.47425,
          56.47425,
          56.47425,
          57.58945,
          82.88643,
          84.87881999999999,
          87.30221999999999,
          90.45606,
          90.45606,
          90.45606,
          90.45606,
          90.45606,
          90.45606,
          90.45606,
          90.45606,
          90.45606,
          90.45606,
          90.45606,
          104.8101,
          104.8101,
          104.8101,
          104.8101,
          104.8101,
          104.8101,
          104.8101,
          104.8101,
          109.9455,
          121.7262,
          122.3619,
          123.7429,
          124.9912,
          126.7286,
          130.9945,
          132.5469,
          143.8383,
          150.9347,
          156.2442,
          157.6052,
          157.6052,
          161.942,
          167.5989,
          169.9803,
          170.1289,
          170.1289,
          170.1289,
          170.7311,
          175.6294,
          179.4538,
          181.0766,
          184.3302,
          185.4296,
          185.4296,
          185.4296,
          185.4296,
          185.4296,
          186.5101,
          186.9686,
          187.4823,
          187.4823,
          189.5181,
          190.0392,
          193.5845,
          193.5845,
          193.5845,
          193.5845,
          193.5845,
          196.6172,
          197.1338,
          201.8939,
          204.1705,
          205.36700000000002,
          208.3905,
          208.3905,
          211.4473,
          216.8329,
          250.63099999999997,
          250.63099999999997,
          250.63099999999997,
          252.5822,
          258.186,
          259.6607,
          259.6607,
          265.0609,
          270.8895,
          272.6783,
          274.0144,
          274.0144,
          274.0144,
          276.449,
          279.1726,
          279.1726,
          279.1726,
          281.205,
          287.6025,
          289.3248,
          289.3248,
          289.3248,
          289.3248,
          289.3248,
          289.3248,
          289.3248,
          289.3248,
          289.3248,
          289.3248,
          289.3248,
          289.3248,
          289.3248,
          292.9978,
          292.9978,
          292.9978,
          292.9978,
          292.9978,
          306.5947,
          312.8963,
          318.5292,
          319.0708,
          323.655,
          323.6912,
          324.9419,
          329.9747,
          329.9747,
          330.0854,
          333.3679,
          335.5273,
          336.0532,
          337.6016,
          338.9679,
          338.9679,
          339.2289,
          350.8515,
          350.8515,
          368.1363,
          371.2495,
          372.1386,
          372.6242,
          373.3937,
          373.8389,
          376.1709,
          377.7956,
          377.8302,
          379.5575,
          379.5575,
          379.5575,
          383.2805,
          383.2805,
          383.2805,
          383.7129,
          383.8624,
          383.8624,
          383.8624,
          383.8624,
          387.7721,
          387.7721,
          389.8219,
          390.5684,
          390.5684,
          390.5684,
          390.5684,
          390.5684,
          390.5684,
          390.9696,
          392.4459,
          393.2606,
          394.0173,
          395.6747,
          401.8807,
          405.2134,
          414.9476,
          421.47900000000004,
          424.5442,
          424.7132,
          431.1114,
          432.0385,
          438.8513,
          439.7105,
          443.80199999999996,
          444.1334,
          451.2438,
          451.2438,
          451.6419,
          451.6419,
          461.1016,
          461.1016,
          461.1016,
          461.7848,
          463.9623,
          464.223,
          472.1745,
          480.6977,
          482.7581,
          482.7581,
          482.7581,
          488.5727,
          488.8193,
          488.8193,
          489.8821,
          490.3446,
          492.2313,
          492.2313,
          492.2313,
          492.2313,
          492.2313,
          492.2313,
          492.2313,
          492.2313,
          492.2313,
          493.657,
          506.1144,
          512.5487,
          512.5487,
          512.7871,
          515.1122,
          519.4617,
          529.7771,
          533.4762,
          533.4762,
          533.4762,
          535.5269999999999,
          537.7971,
          552.4371,
          557.4780000000001,
          561.9845,
          561.9845,
          561.9845,
          561.9845,
          563.2854,
          567.0349,
          577.9615,
          577.9615,
          579.2083,
          587.8877,
          590.9292,
          592.5006,
          600.8604,
          614.1394,
          616.4004,
          616.4004,
          616.5735,
          617.4424,
          617.7134,
          623.4731,
          639.6198,
          640.6071,
          640.7391,
          640.7391,
          642.6985,
          665.0636,
          707.9067,
          718.2937,
          732.8528,
          732.8528,
          737.9161,
          750.0704,
          750.0704,
          752.7669,
          757.3377,
          769.4034,
          804.6897,
          815.9314,
          815.9314,
          815.9314,
          837.7233,
          837.7233,
          837.7233,
          918.6357,
          942.4664,
          964.7496,
          964.7496,
          967.4,
          967.4,
          995.7554,
          995.7554,
          1009.235,
          1009.235,
          1013.341,
          1055.067,
          1144.4360000000001,
          1144.4360000000001,
          1146.329,
          1156.412,
          1156.777,
          1157.988,
          1159.454,
          1160.632,
          1164.838,
          1164.838,
          1236.5639999999999,
          1264.73,
          1264.73,
          1360.139,
          1360.139,
          1360.139,
          1360.139,
          1360.139,
          1360.139,
          1360.139,
          1360.139,
          1402.016,
          1402.016,
          1402.016,
          1406.43,
          1414.8370000000002,
          1414.8370000000002,
          1438.579,
          1447.286,
          1449.7220000000002,
          1455.7979999999998,
          1455.7979999999998,
          1485.0970000000002,
          1487.868,
          1497.713,
          1554.25,
          1559.8270000000002,
          1559.8270000000002,
          1583.7220000000002,
          1626.0829999999999,
          1643.499,
          1712.632,
          1712.632,
          1712.632,
          1717.193,
          1717.193,
          1735.595,
          1756.411,
          1758.406,
          1783.18,
          1783.18,
          1783.18,
          1801.5439999999999,
          1805.665,
          1828.319,
          1867.233,
          1931.207,
          1935.009,
          1939.749,
          1962.628,
          1978.671,
          2077.39,
          2102.427,
          2103.555,
          2147.376,
          2147.376,
          2147.376,
          2147.376,
          2147.376,
          2147.376,
          2175.03,
          2175.03,
          2175.744,
          2175.877,
          2179.59,
          2180.245,
          2185.1279999999997,
          2185.1279999999997,
          2185.1279999999997,
          2185.1279999999997,
          2216.612,
          2251.938,
          2261.4320000000002,
          2275.877,
          2288.011,
          2288.011,
          2408.993,
          2408.993,
          2469.645,
          2469.645,
          2615.465,
          2674.961,
          2707.3920000000003,
          3078.176,
          3079.89,
          3085.17,
          3171.329,
          3529.5640000000003,
          3771.895,
          3780.59,
          3947.945,
          4066.587,
          4066.587,
          4066.587,
          4066.587,
          4066.587,
          4066.587,
          4074.736,
          4079.4179999999997,
          4082.015,
          4082.015,
          4082.015,
          4082.015,
          4082.015,
          4082.015,
          4082.015,
          4136.271,
          4197.349,
          4197.349,
          4197.349,
          4412.765,
          4449.27,
          4510.359,
          4510.359,
          4519.69,
          4519.69,
          4527.687,
          4573.779,
          4605.749,
          5512.0380000000005,
          5512.0380000000005,
          6306.153,
          6396.283,
          6488.021
         ],
         "y": [
          51.68545548055828,
          51.68545548055828,
          51.05724056882275,
          51.05724056882275,
          50.89477624354883,
          50.89477624354883,
          50.89477624354883,
          50.86820051400638,
          50.26663242846354,
          50.21935628705993,
          50.16187336619634,
          50.08709812661002,
          50.08709812661002,
          50.08709812661002,
          50.08709812661002,
          50.08709812661002,
          50.08709812661002,
          50.08709812661002,
          50.08709812661002,
          50.08709812661002,
          50.08709812661002,
          50.08709812661002,
          49.747241799008066,
          49.747241799008066,
          49.747241799008066,
          49.747241799008066,
          49.747241799008066,
          49.747241799008066,
          49.747241799008066,
          49.747241799008066,
          49.62582577134905,
          49.34760302057778,
          49.332601170309694,
          49.300014808740876,
          49.270564058398385,
          49.22958093760735,
          49.12898607906461,
          49.09238970800466,
          48.82636877478319,
          48.65931340779686,
          48.53438171926605,
          48.5023649756049,
          48.5023649756049,
          48.40036304859422,
          48.267353270214926,
          48.211373076356644,
          48.20788015156631,
          48.20788015156631,
          48.20788015156631,
          48.19372541284466,
          48.078608732402984,
          47.988752578498726,
          47.950630088671275,
          47.874208121755025,
          47.8483882987353,
          47.8483882987353,
          47.8483882987353,
          47.8483882987353,
          47.8483882987353,
          47.82301403173224,
          47.812247208014675,
          47.80018449966149,
          47.80018449966149,
          47.75238362154372,
          47.74014910676442,
          47.6569226949182,
          47.6569226949182,
          47.6569226949182,
          47.6569226949182,
          47.6569226949182,
          47.5857454236271,
          47.57362235070875,
          47.461938214928736,
          47.40853749104227,
          47.38047578396845,
          47.3095771856619,
          47.3095771856619,
          47.23791575973406,
          47.11170590573204,
          46.32130718947644,
          46.32130718947644,
          46.32130718947644,
          46.275781498929426,
          46.14510950569665,
          46.11074157491562,
          46.11074157491562,
          45.98496474389596,
          45.84935053603119,
          45.80776162897911,
          45.776707792121165,
          45.776707792121165,
          45.776707792121165,
          45.72014499071378,
          45.656903501257425,
          45.656903501257425,
          45.656903501257425,
          45.60973695048748,
          45.461417236143404,
          45.421527813560374,
          45.421527813560374,
          45.421527813560374,
          45.421527813560374,
          45.421527813560374,
          45.421527813560374,
          45.421527813560374,
          45.421527813560374,
          45.421527813560374,
          45.421527813560374,
          45.421527813560374,
          45.421527813560374,
          45.421527813560374,
          45.336519103451906,
          45.336519103451906,
          45.336519103451906,
          45.336519103451906,
          45.336519103451906,
          45.022581287062614,
          44.87751353458167,
          44.7480876832395,
          44.73565624554521,
          44.63052690933582,
          44.62969740442761,
          44.60104477937837,
          44.485877614585114,
          44.485877614585114,
          44.48334682181625,
          44.408350961429065,
          44.35906580682042,
          44.347069131035305,
          44.311761801042785,
          44.28062471559498,
          44.28062471559498,
          44.274678623944475,
          44.01054430458199,
          44.01054430458199,
          43.62030111708189,
          43.5503734342319,
          43.530424276022586,
          43.51953273206173,
          43.50227954561374,
          43.49230094275446,
          43.44007275389485,
          43.403726440293816,
          43.402952771199814,
          43.36434956838945,
          43.36434956838945,
          43.36434956838945,
          43.281279760595886,
          43.281279760595886,
          43.281279760595886,
          43.27164398120476,
          43.26831306018948,
          43.26831306018948,
          43.26831306018948,
          43.26831306018948,
          43.181313930390196,
          43.181313930390196,
          43.135788079846016,
          43.119223449624045,
          43.119223449624045,
          43.119223449624045,
          43.119223449624045,
          43.119223449624045,
          43.119223449624045,
          43.110324281991936,
          43.07759822151865,
          43.059552026404965,
          43.04279941425074,
          43.00613617585979,
          42.86922840262466,
          42.79595897161158,
          42.58301548140627,
          42.44107260948675,
          42.374731654685895,
          42.3710791441228,
          42.233207884998755,
          42.213297802821664,
          42.06752926228523,
          42.04921433845471,
          41.96221458222659,
          41.955183584357684,
          41.80490604886303,
          41.80490604886303,
          41.796525117051914,
          41.796525117051914,
          41.59841079060334,
          41.59841079060334,
          41.59841079060334,
          41.584179295311245,
          41.538889022444856,
          41.533473634197314,
          41.369004879441924,
          41.19414412507105,
          41.15207373049762,
          41.15207373049762,
          41.15207373049762,
          41.03370342283618,
          41.02869351075789,
          41.02869351075789,
          41.00710996567203,
          40.997721428764926,
          40.95944518079653,
          40.95944518079653,
          40.95944518079653,
          40.95944518079653,
          40.95944518079653,
          40.95944518079653,
          40.95944518079653,
          40.95944518079653,
          40.95944518079653,
          40.93054300082487,
          40.6782676665619,
          40.549927418234205,
          40.549927418234205,
          40.54529158865133,
          40.500266488099165,
          40.41327626336446,
          40.20296468923593,
          40.13304273725585,
          40.13304273725585,
          40.13304273725585,
          40.094635287899706,
          40.05235920695735,
          39.782764426616545,
          39.68443644515261,
          39.60196529954259,
          39.60196529954259,
          39.60196529954259,
          39.60196529954259,
          39.578093349742616,
          39.50906102806585,
          39.30535031672186,
          39.30535031672186,
          39.28182870678585,
          39.11641085518178,
          39.05775291211058,
          39.027309955672386,
          38.863854869383196,
          38.60265674965668,
          38.558372717083245,
          38.558372717083245,
          38.554984300048375,
          38.53798126044813,
          38.532680335649125,
          38.41981747876807,
          38.096968553119396,
          38.07693769409062,
          38.07425751042241,
          38.07425751042241,
          38.03441588376742,
          37.57346778909752,
          36.67959265328177,
          36.46129994103264,
          36.16521333817801,
          36.16521333817801,
          36.05837556608942,
          35.805285291172446,
          35.805285291172446,
          35.75019869042675,
          35.657965481420916,
          35.423013211072394,
          34.807345297492354,
          34.62033312404385,
          34.62033312404385,
          34.62033312404385,
          34.32576937314626,
          34.32576937314626,
          34.32576937314626,
          33.43419447143047,
          33.195794424794144,
          32.94428627881596,
          32.94428627881596,
          32.91779576583827,
          32.91779576583827,
          32.6255716836111,
          32.6255716836111,
          32.49727061197256,
          32.49727061197256,
          32.459897016869064,
          32.08924571822341,
          31.28018847195196,
          31.28018847195196,
          31.263126808392304,
          31.17198946749502,
          31.168684839785588,
          31.15771916510391,
          31.144441774571806,
          31.1337711287337,
          31.09566559049037,
          31.09566559049037,
          30.288662675717497,
          30.057712508624384,
          30.057712508624384,
          29.573574764237627,
          29.573574764237627,
          29.573574764237627,
          29.573574764237627,
          29.573574764237627,
          29.573574764237627,
          29.573574764237627,
          29.573574764237627,
          29.391525649167264,
          29.391525649167264,
          29.391525649167264,
          29.37292574938194,
          29.336996071470505,
          29.336996071470505,
          29.231772769593654,
          29.19177778456887,
          29.180455797260294,
          29.151970475171716,
          29.151970475171716,
          29.00240367619481,
          28.98868632374491,
          28.915966962663347,
          28.627229246012554,
          28.598018937250252,
          28.598018937250252,
          28.47175839244834,
          28.24461190689649,
          28.150424646330418,
          27.772485545657368,
          27.772485545657368,
          27.772485545657368,
          27.74796985943535,
          27.74796985943535,
          27.649680928679373,
          27.539955126469597,
          27.529530272619944,
          27.401504612750863,
          27.401504612750863,
          27.401504612750863,
          27.30837281311644,
          27.287684164348157,
          27.175332327077935,
          26.987654774021294,
          26.69268424430439,
          26.675696546720943,
          26.654619357866366,
          26.554570585288804,
          26.486179327917785,
          26.099481828458657,
          26.01213159586453,
          26.008311859870954,
          25.86779405163792,
          25.86779405163792,
          25.86779405163792,
          25.86779405163792,
          25.86779405163792,
          25.86779405163792,
          25.787605113891885,
          25.787605113891885,
          25.785624986835273,
          25.7852566395601,
          25.779619445783148,
          25.7784056669122,
          25.765256680465892,
          25.765256680465892,
          25.765256680465892,
          25.765256680465892,
          25.731459812469808,
          25.65226068560706,
          25.634132201034543,
          25.609170650990404,
          25.58112596254401,
          25.58112596254401,
          25.225808656156687,
          25.225808656156687,
          25.003098033559322,
          25.003098033559322,
          24.409673044263492,
          24.162147708375468,
          24.028715332254315,
          22.568242719844154,
          22.56179439243153,
          22.541954553493643,
          22.223158787042713,
          20.96980242132886,
          20.179448416608704,
          20.15160090711702,
          19.61716568405113,
          19.237251134510423,
          19.237251134510423,
          19.237251134510423,
          19.237251134510423,
          19.237251134510423,
          19.237251134510423,
          19.211063218134434,
          19.19601052661191,
          19.18765908676312,
          19.18765908676312,
          19.18765908676312,
          19.18765908676312,
          19.18765908676312,
          19.18765908676312,
          19.18765908676312,
          19.01284126718275,
          18.815248049199287,
          18.815248049199287,
          18.815248049199287,
          18.1117719076662,
          17.99162853244298,
          17.790050004965316,
          17.790050004965316,
          17.759205657395924,
          17.759205657395924,
          17.732760041875927,
          17.580148341169785,
          17.474118000683692,
          14.449698524721157,
          14.449698524721157,
          11.844987579853896,
          11.553947472876237,
          11.258695974784224
         ]
        },
        {
         "line": {
          "color": "orange"
         },
         "marker": {
          "size": 3
         },
         "name": "LOWESS, frac=1/5",
         "type": "scatter",
         "x": [
          23.382839999999998,
          23.382839999999998,
          49.66105,
          49.66105,
          56.47425,
          56.47425,
          56.47425,
          57.58945,
          82.88643,
          84.87881999999999,
          87.30221999999999,
          90.45606,
          90.45606,
          90.45606,
          90.45606,
          90.45606,
          90.45606,
          90.45606,
          90.45606,
          90.45606,
          90.45606,
          90.45606,
          104.8101,
          104.8101,
          104.8101,
          104.8101,
          104.8101,
          104.8101,
          104.8101,
          104.8101,
          109.9455,
          121.7262,
          122.3619,
          123.7429,
          124.9912,
          126.7286,
          130.9945,
          132.5469,
          143.8383,
          150.9347,
          156.2442,
          157.6052,
          157.6052,
          161.942,
          167.5989,
          169.9803,
          170.1289,
          170.1289,
          170.1289,
          170.7311,
          175.6294,
          179.4538,
          181.0766,
          184.3302,
          185.4296,
          185.4296,
          185.4296,
          185.4296,
          185.4296,
          186.5101,
          186.9686,
          187.4823,
          187.4823,
          189.5181,
          190.0392,
          193.5845,
          193.5845,
          193.5845,
          193.5845,
          193.5845,
          196.6172,
          197.1338,
          201.8939,
          204.1705,
          205.36700000000002,
          208.3905,
          208.3905,
          211.4473,
          216.8329,
          250.63099999999997,
          250.63099999999997,
          250.63099999999997,
          252.5822,
          258.186,
          259.6607,
          259.6607,
          265.0609,
          270.8895,
          272.6783,
          274.0144,
          274.0144,
          274.0144,
          276.449,
          279.1726,
          279.1726,
          279.1726,
          281.205,
          287.6025,
          289.3248,
          289.3248,
          289.3248,
          289.3248,
          289.3248,
          289.3248,
          289.3248,
          289.3248,
          289.3248,
          289.3248,
          289.3248,
          289.3248,
          289.3248,
          292.9978,
          292.9978,
          292.9978,
          292.9978,
          292.9978,
          306.5947,
          312.8963,
          318.5292,
          319.0708,
          323.655,
          323.6912,
          324.9419,
          329.9747,
          329.9747,
          330.0854,
          333.3679,
          335.5273,
          336.0532,
          337.6016,
          338.9679,
          338.9679,
          339.2289,
          350.8515,
          350.8515,
          368.1363,
          371.2495,
          372.1386,
          372.6242,
          373.3937,
          373.8389,
          376.1709,
          377.7956,
          377.8302,
          379.5575,
          379.5575,
          379.5575,
          383.2805,
          383.2805,
          383.2805,
          383.7129,
          383.8624,
          383.8624,
          383.8624,
          383.8624,
          387.7721,
          387.7721,
          389.8219,
          390.5684,
          390.5684,
          390.5684,
          390.5684,
          390.5684,
          390.5684,
          390.9696,
          392.4459,
          393.2606,
          394.0173,
          395.6747,
          401.8807,
          405.2134,
          414.9476,
          421.47900000000004,
          424.5442,
          424.7132,
          431.1114,
          432.0385,
          438.8513,
          439.7105,
          443.80199999999996,
          444.1334,
          451.2438,
          451.2438,
          451.6419,
          451.6419,
          461.1016,
          461.1016,
          461.1016,
          461.7848,
          463.9623,
          464.223,
          472.1745,
          480.6977,
          482.7581,
          482.7581,
          482.7581,
          488.5727,
          488.8193,
          488.8193,
          489.8821,
          490.3446,
          492.2313,
          492.2313,
          492.2313,
          492.2313,
          492.2313,
          492.2313,
          492.2313,
          492.2313,
          492.2313,
          493.657,
          506.1144,
          512.5487,
          512.5487,
          512.7871,
          515.1122,
          519.4617,
          529.7771,
          533.4762,
          533.4762,
          533.4762,
          535.5269999999999,
          537.7971,
          552.4371,
          557.4780000000001,
          561.9845,
          561.9845,
          561.9845,
          561.9845,
          563.2854,
          567.0349,
          577.9615,
          577.9615,
          579.2083,
          587.8877,
          590.9292,
          592.5006,
          600.8604,
          614.1394,
          616.4004,
          616.4004,
          616.5735,
          617.4424,
          617.7134,
          623.4731,
          639.6198,
          640.6071,
          640.7391,
          640.7391,
          642.6985,
          665.0636,
          707.9067,
          718.2937,
          732.8528,
          732.8528,
          737.9161,
          750.0704,
          750.0704,
          752.7669,
          757.3377,
          769.4034,
          804.6897,
          815.9314,
          815.9314,
          815.9314,
          837.7233,
          837.7233,
          837.7233,
          918.6357,
          942.4664,
          964.7496,
          964.7496,
          967.4,
          967.4,
          995.7554,
          995.7554,
          1009.235,
          1009.235,
          1013.341,
          1055.067,
          1144.4360000000001,
          1144.4360000000001,
          1146.329,
          1156.412,
          1156.777,
          1157.988,
          1159.454,
          1160.632,
          1164.838,
          1164.838,
          1236.5639999999999,
          1264.73,
          1264.73,
          1360.139,
          1360.139,
          1360.139,
          1360.139,
          1360.139,
          1360.139,
          1360.139,
          1360.139,
          1402.016,
          1402.016,
          1402.016,
          1406.43,
          1414.8370000000002,
          1414.8370000000002,
          1438.579,
          1447.286,
          1449.7220000000002,
          1455.7979999999998,
          1455.7979999999998,
          1485.0970000000002,
          1487.868,
          1497.713,
          1554.25,
          1559.8270000000002,
          1559.8270000000002,
          1583.7220000000002,
          1626.0829999999999,
          1643.499,
          1712.632,
          1712.632,
          1712.632,
          1717.193,
          1717.193,
          1735.595,
          1756.411,
          1758.406,
          1783.18,
          1783.18,
          1783.18,
          1801.5439999999999,
          1805.665,
          1828.319,
          1867.233,
          1931.207,
          1935.009,
          1939.749,
          1962.628,
          1978.671,
          2077.39,
          2102.427,
          2103.555,
          2147.376,
          2147.376,
          2147.376,
          2147.376,
          2147.376,
          2147.376,
          2175.03,
          2175.03,
          2175.744,
          2175.877,
          2179.59,
          2180.245,
          2185.1279999999997,
          2185.1279999999997,
          2185.1279999999997,
          2185.1279999999997,
          2216.612,
          2251.938,
          2261.4320000000002,
          2275.877,
          2288.011,
          2288.011,
          2408.993,
          2408.993,
          2469.645,
          2469.645,
          2615.465,
          2674.961,
          2707.3920000000003,
          3078.176,
          3079.89,
          3085.17,
          3171.329,
          3529.5640000000003,
          3771.895,
          3780.59,
          3947.945,
          4066.587,
          4066.587,
          4066.587,
          4066.587,
          4066.587,
          4066.587,
          4074.736,
          4079.4179999999997,
          4082.015,
          4082.015,
          4082.015,
          4082.015,
          4082.015,
          4082.015,
          4082.015,
          4136.271,
          4197.349,
          4197.349,
          4197.349,
          4412.765,
          4449.27,
          4510.359,
          4510.359,
          4519.69,
          4519.69,
          4527.687,
          4573.779,
          4605.749,
          5512.0380000000005,
          5512.0380000000005,
          6306.153,
          6396.283,
          6488.021
         ],
         "y": [
          56.8941538902941,
          56.8941538902941,
          54.944290937604826,
          54.944290937604826,
          54.42934809147961,
          54.42934809147961,
          54.42934809147961,
          54.34493951778369,
          52.43970918928509,
          52.29185066470498,
          52.11274300398602,
          51.8810396419868,
          51.8810396419868,
          51.8810396419868,
          51.8810396419868,
          51.8810396419868,
          51.8810396419868,
          51.8810396419868,
          51.8810396419868,
          51.8810396419868,
          51.8810396419868,
          51.8810396419868,
          50.84645810625413,
          50.84645810625413,
          50.84645810625413,
          50.84645810625413,
          50.84645810625413,
          50.84645810625413,
          50.84645810625413,
          50.84645810625413,
          50.48067320371556,
          49.62822975972862,
          49.58085791068447,
          49.47715652952539,
          49.38239138003768,
          49.24866956902981,
          48.90986249340765,
          48.78256140477085,
          47.89443713312396,
          47.291800034424504,
          46.84712711629392,
          46.72507945631141,
          46.72507945631141,
          46.461653233457056,
          46.085725172676106,
          45.884178575280465,
          45.87156968069192,
          45.87156968069192,
          45.87156968069192,
          45.82047787717237,
          45.41671358034557,
          45.16230371286736,
          45.09811113157848,
          45.02219762743421,
          45.01075069761546,
          45.01075069761546,
          45.01075069761546,
          45.01075069761546,
          45.01075069761546,
          45.00043865551281,
          44.99664558999296,
          44.99296369181634,
          44.99296369181634,
          44.985676317799715,
          44.98289499758638,
          44.94386061597124,
          44.94386061597124,
          44.94386061597124,
          44.94386061597124,
          44.94386061597124,
          44.95319544919287,
          44.957666351152476,
          45.018031669315484,
          45.06210961665451,
          45.08840767716991,
          45.15884776642716,
          45.15884776642716,
          45.2584086253178,
          45.55286237952642,
          47.055157668517275,
          47.055157668517275,
          47.055157668517275,
          47.0897213895891,
          47.08935518022055,
          47.05276871626193,
          47.05276871626193,
          47.27146122146223,
          47.36133913187048,
          47.40489556082431,
          47.427192629117236,
          47.427192629117236,
          47.427192629117236,
          47.450485123014175,
          47.45713418408237,
          47.45713418408237,
          47.45713418408237,
          47.457166449975226,
          47.46297145861015,
          47.435178892225444,
          47.435178892225444,
          47.435178892225444,
          47.435178892225444,
          47.435178892225444,
          47.435178892225444,
          47.435178892225444,
          47.435178892225444,
          47.435178892225444,
          47.435178892225444,
          47.435178892225444,
          47.435178892225444,
          47.435178892225444,
          47.44244923904794,
          47.44244923904794,
          47.44244923904794,
          47.44244923904794,
          47.44244923904794,
          47.00278405793025,
          46.71787641055051,
          46.35715699143414,
          46.316725903149795,
          45.9601677456193,
          45.957178878118754,
          45.87463472687792,
          45.582184909845736,
          45.582184909845736,
          45.583096089436204,
          45.315713878615796,
          45.32427487436229,
          45.320289174363,
          45.214192437617484,
          45.18128090188822,
          45.18128090188822,
          45.15134350218976,
          44.5032230209914,
          44.5032230209914,
          43.46445360443575,
          43.31501760044586,
          43.27312257696352,
          43.25035012131958,
          43.21438042423622,
          43.1936196784792,
          43.085093358593454,
          43.007891633062684,
          43.006212723054475,
          42.92002278884717,
          42.92002278884717,
          42.92002278884717,
          42.71783812381127,
          42.71783812381127,
          42.71783812381127,
          42.693045788546314,
          42.68442047209605,
          42.68442047209605,
          42.68442047209605,
          42.68442047209605,
          42.47069719991222,
          42.47069719991222,
          42.345336662182326,
          42.29918772963316,
          42.29918772963316,
          42.29918772963316,
          42.29918772963316,
          42.29918772963316,
          42.29918772963316,
          42.27503688285907,
          42.2012540655567,
          42.16105299699332,
          42.1240548630959,
          42.04418616441147,
          41.74248656353433,
          41.56255698844514,
          40.9472431581366,
          40.64990288233026,
          40.56343499323063,
          40.560539689903024,
          40.2266467470958,
          40.17940402646917,
          39.9018367482307,
          39.83981930586717,
          39.49694577144231,
          39.49417126278475,
          39.29946142437807,
          39.29946142437807,
          39.295796373117405,
          39.295796373117405,
          39.07863746546185,
          39.07863746546185,
          39.07863746546185,
          39.079521271412176,
          39.08610158707696,
          39.08728182074794,
          39.04889040857492,
          39.22243787022926,
          39.28045055330309,
          39.28045055330309,
          39.28045055330309,
          39.48293614780644,
          39.48737079075746,
          39.48737079075746,
          39.50850122411607,
          39.52270045946387,
          39.602323936047156,
          39.602323936047156,
          39.602323936047156,
          39.602323936047156,
          39.602323936047156,
          39.602323936047156,
          39.602323936047156,
          39.602323936047156,
          39.602323936047156,
          39.66198093415642,
          40.0724282428317,
          40.147727738410126,
          40.147727738410126,
          40.14827619997268,
          40.14842130298193,
          40.1950689959402,
          40.080448282935926,
          40.108955642915795,
          40.108955642915795,
          40.108955642915795,
          40.078902976169644,
          40.046376102696684,
          39.85379181122986,
          39.81834850601068,
          39.767966679376364,
          39.767966679376364,
          39.767966679376364,
          39.767966679376364,
          39.76918720426941,
          39.7653985680597,
          39.65962560344337,
          39.65962560344337,
          39.64845400945459,
          39.53850257780972,
          39.50649198426599,
          39.48949865724243,
          39.39907918290382,
          39.33339857939104,
          39.32274534956406,
          39.32274534956406,
          39.321774596584675,
          39.31656385441676,
          39.314823589603066,
          39.26563638451282,
          39.04652700393743,
          39.03121109054529,
          39.02915228508868,
          39.02915228508868,
          38.998333934123835,
          38.545112978296864,
          37.17509655078352,
          36.87791898866638,
          36.51214529416052,
          36.51214529416052,
          36.434385010516756,
          36.28249239603378,
          36.28249239603378,
          36.26934660798159,
          36.24630487574073,
          36.10632473522862,
          35.180476968901644,
          34.82758282609067,
          34.82758282609067,
          34.82758282609067,
          34.15811060612133,
          34.15811060612133,
          34.15811060612133,
          31.923207498050346,
          31.31847502902532,
          30.78442148702419,
          30.78442148702419,
          30.73118059142389,
          30.73118059142389,
          30.16071442342129,
          30.16071442342129,
          30.026642167891474,
          30.026642167891474,
          29.962872354814166,
          29.661068192847203,
          28.81451653475326,
          28.81451653475326,
          28.801120514817544,
          28.72972204341587,
          28.72713679924571,
          28.71855944959537,
          28.70817626033645,
          28.699833452478057,
          28.666366221194135,
          28.666366221194135,
          27.956396208988004,
          27.642802960486463,
          27.642802960486463,
          27.298975009377834,
          27.298975009377834,
          27.298975009377834,
          27.298975009377834,
          27.298975009377834,
          27.298975009377834,
          27.298975009377834,
          27.298975009377834,
          27.188290296021886,
          27.188290296021886,
          27.188290296021886,
          27.17721046931438,
          27.15593447773497,
          27.15593447773497,
          27.079643297381708,
          27.04645144407004,
          27.038024218340528,
          27.019084082696164,
          27.019084082696164,
          26.95321924141993,
          26.94664264395208,
          26.92645911751803,
          26.870437343965133,
          26.870410787381907,
          26.870410787381907,
          26.858084938340166,
          26.80664856433133,
          26.79387771288895,
          26.766315403203766,
          26.766315403203766,
          26.766315403203766,
          26.77925250095749,
          26.77925250095749,
          26.807325708217192,
          26.851365727281713,
          26.854648126041255,
          26.883354431190416,
          26.883354431190416,
          26.883354431190416,
          26.892547940371124,
          26.893918754911102,
          26.89190545331591,
          26.868586770518046,
          26.78117849054283,
          26.77547088223731,
          26.768164192003905,
          26.7300714492043,
          26.70156633803655,
          26.45019719258168,
          26.366987282773025,
          26.3631472125817,
          26.21050715098884,
          26.21050715098884,
          26.21050715098884,
          26.21050715098884,
          26.21050715098884,
          26.21050715098884,
          26.11580247742128,
          26.11580247742128,
          26.11411275055422,
          26.113797753373905,
          26.104970741252924,
          26.103406507025372,
          26.09166932988618,
          26.09166932988618,
          26.09166932988618,
          26.09166932988618,
          26.011122799873924,
          25.87431701667361,
          25.837925008510965,
          25.78487349115456,
          25.742811666886517,
          25.742811666886517,
          25.426942324104647,
          25.426942324104647,
          25.296636840733132,
          25.296636840733132,
          25.157569914946997,
          25.20151303954521,
          25.24771720201498,
          23.234020870759203,
          23.22735083279046,
          23.206695117279875,
          22.740131818048308,
          21.053679402320633,
          20.048443849189404,
          20.013591388455257,
          19.374995482411357,
          18.951965120785744,
          18.951965120785744,
          18.951965120785744,
          18.951965120785744,
          18.951965120785744,
          18.951965120785744,
          18.923560841868344,
          18.90728577377227,
          18.898272994039328,
          18.898272994039328,
          18.898272994039328,
          18.898272994039328,
          18.898272994039328,
          18.898272994039328,
          18.898272994039328,
          18.712551545029292,
          18.507627863099522,
          18.507627863099522,
          18.507627863099522,
          17.8730163223995,
          17.771779076530255,
          17.603283453620552,
          17.603283453620552,
          17.577582544377705,
          17.577582544377705,
          17.55555610339534,
          17.428532845325527,
          17.34028894444324,
          14.849985481788165,
          14.849985481788165,
          12.842552566113035,
          12.623969271884212,
          12.402690702463751
         ]
        }
       ],
       "layout": {
        "legend": {
         "tracegroupgap": 0
        },
        "margin": {
         "t": 60
        },
        "plot_bgcolor": "white",
        "template": {
         "data": {
          "bar": [
           {
            "error_x": {
             "color": "#2a3f5f"
            },
            "error_y": {
             "color": "#2a3f5f"
            },
            "marker": {
             "line": {
              "color": "#E5ECF6",
              "width": 0.5
             },
             "pattern": {
              "fillmode": "overlay",
              "size": 10,
              "solidity": 0.2
             }
            },
            "type": "bar"
           }
          ],
          "barpolar": [
           {
            "marker": {
             "line": {
              "color": "#E5ECF6",
              "width": 0.5
             },
             "pattern": {
              "fillmode": "overlay",
              "size": 10,
              "solidity": 0.2
             }
            },
            "type": "barpolar"
           }
          ],
          "carpet": [
           {
            "aaxis": {
             "endlinecolor": "#2a3f5f",
             "gridcolor": "white",
             "linecolor": "white",
             "minorgridcolor": "white",
             "startlinecolor": "#2a3f5f"
            },
            "baxis": {
             "endlinecolor": "#2a3f5f",
             "gridcolor": "white",
             "linecolor": "white",
             "minorgridcolor": "white",
             "startlinecolor": "#2a3f5f"
            },
            "type": "carpet"
           }
          ],
          "choropleth": [
           {
            "colorbar": {
             "outlinewidth": 0,
             "ticks": ""
            },
            "type": "choropleth"
           }
          ],
          "contour": [
           {
            "colorbar": {
             "outlinewidth": 0,
             "ticks": ""
            },
            "colorscale": [
             [
              0,
              "#0d0887"
             ],
             [
              0.1111111111111111,
              "#46039f"
             ],
             [
              0.2222222222222222,
              "#7201a8"
             ],
             [
              0.3333333333333333,
              "#9c179e"
             ],
             [
              0.4444444444444444,
              "#bd3786"
             ],
             [
              0.5555555555555556,
              "#d8576b"
             ],
             [
              0.6666666666666666,
              "#ed7953"
             ],
             [
              0.7777777777777778,
              "#fb9f3a"
             ],
             [
              0.8888888888888888,
              "#fdca26"
             ],
             [
              1,
              "#f0f921"
             ]
            ],
            "type": "contour"
           }
          ],
          "contourcarpet": [
           {
            "colorbar": {
             "outlinewidth": 0,
             "ticks": ""
            },
            "type": "contourcarpet"
           }
          ],
          "heatmap": [
           {
            "colorbar": {
             "outlinewidth": 0,
             "ticks": ""
            },
            "colorscale": [
             [
              0,
              "#0d0887"
             ],
             [
              0.1111111111111111,
              "#46039f"
             ],
             [
              0.2222222222222222,
              "#7201a8"
             ],
             [
              0.3333333333333333,
              "#9c179e"
             ],
             [
              0.4444444444444444,
              "#bd3786"
             ],
             [
              0.5555555555555556,
              "#d8576b"
             ],
             [
              0.6666666666666666,
              "#ed7953"
             ],
             [
              0.7777777777777778,
              "#fb9f3a"
             ],
             [
              0.8888888888888888,
              "#fdca26"
             ],
             [
              1,
              "#f0f921"
             ]
            ],
            "type": "heatmap"
           }
          ],
          "heatmapgl": [
           {
            "colorbar": {
             "outlinewidth": 0,
             "ticks": ""
            },
            "colorscale": [
             [
              0,
              "#0d0887"
             ],
             [
              0.1111111111111111,
              "#46039f"
             ],
             [
              0.2222222222222222,
              "#7201a8"
             ],
             [
              0.3333333333333333,
              "#9c179e"
             ],
             [
              0.4444444444444444,
              "#bd3786"
             ],
             [
              0.5555555555555556,
              "#d8576b"
             ],
             [
              0.6666666666666666,
              "#ed7953"
             ],
             [
              0.7777777777777778,
              "#fb9f3a"
             ],
             [
              0.8888888888888888,
              "#fdca26"
             ],
             [
              1,
              "#f0f921"
             ]
            ],
            "type": "heatmapgl"
           }
          ],
          "histogram": [
           {
            "marker": {
             "pattern": {
              "fillmode": "overlay",
              "size": 10,
              "solidity": 0.2
             }
            },
            "type": "histogram"
           }
          ],
          "histogram2d": [
           {
            "colorbar": {
             "outlinewidth": 0,
             "ticks": ""
            },
            "colorscale": [
             [
              0,
              "#0d0887"
             ],
             [
              0.1111111111111111,
              "#46039f"
             ],
             [
              0.2222222222222222,
              "#7201a8"
             ],
             [
              0.3333333333333333,
              "#9c179e"
             ],
             [
              0.4444444444444444,
              "#bd3786"
             ],
             [
              0.5555555555555556,
              "#d8576b"
             ],
             [
              0.6666666666666666,
              "#ed7953"
             ],
             [
              0.7777777777777778,
              "#fb9f3a"
             ],
             [
              0.8888888888888888,
              "#fdca26"
             ],
             [
              1,
              "#f0f921"
             ]
            ],
            "type": "histogram2d"
           }
          ],
          "histogram2dcontour": [
           {
            "colorbar": {
             "outlinewidth": 0,
             "ticks": ""
            },
            "colorscale": [
             [
              0,
              "#0d0887"
             ],
             [
              0.1111111111111111,
              "#46039f"
             ],
             [
              0.2222222222222222,
              "#7201a8"
             ],
             [
              0.3333333333333333,
              "#9c179e"
             ],
             [
              0.4444444444444444,
              "#bd3786"
             ],
             [
              0.5555555555555556,
              "#d8576b"
             ],
             [
              0.6666666666666666,
              "#ed7953"
             ],
             [
              0.7777777777777778,
              "#fb9f3a"
             ],
             [
              0.8888888888888888,
              "#fdca26"
             ],
             [
              1,
              "#f0f921"
             ]
            ],
            "type": "histogram2dcontour"
           }
          ],
          "mesh3d": [
           {
            "colorbar": {
             "outlinewidth": 0,
             "ticks": ""
            },
            "type": "mesh3d"
           }
          ],
          "parcoords": [
           {
            "line": {
             "colorbar": {
              "outlinewidth": 0,
              "ticks": ""
             }
            },
            "type": "parcoords"
           }
          ],
          "pie": [
           {
            "automargin": true,
            "type": "pie"
           }
          ],
          "scatter": [
           {
            "marker": {
             "colorbar": {
              "outlinewidth": 0,
              "ticks": ""
             }
            },
            "type": "scatter"
           }
          ],
          "scatter3d": [
           {
            "line": {
             "colorbar": {
              "outlinewidth": 0,
              "ticks": ""
             }
            },
            "marker": {
             "colorbar": {
              "outlinewidth": 0,
              "ticks": ""
             }
            },
            "type": "scatter3d"
           }
          ],
          "scattercarpet": [
           {
            "marker": {
             "colorbar": {
              "outlinewidth": 0,
              "ticks": ""
             }
            },
            "type": "scattercarpet"
           }
          ],
          "scattergeo": [
           {
            "marker": {
             "colorbar": {
              "outlinewidth": 0,
              "ticks": ""
             }
            },
            "type": "scattergeo"
           }
          ],
          "scattergl": [
           {
            "marker": {
             "colorbar": {
              "outlinewidth": 0,
              "ticks": ""
             }
            },
            "type": "scattergl"
           }
          ],
          "scattermapbox": [
           {
            "marker": {
             "colorbar": {
              "outlinewidth": 0,
              "ticks": ""
             }
            },
            "type": "scattermapbox"
           }
          ],
          "scatterpolar": [
           {
            "marker": {
             "colorbar": {
              "outlinewidth": 0,
              "ticks": ""
             }
            },
            "type": "scatterpolar"
           }
          ],
          "scatterpolargl": [
           {
            "marker": {
             "colorbar": {
              "outlinewidth": 0,
              "ticks": ""
             }
            },
            "type": "scatterpolargl"
           }
          ],
          "scatterternary": [
           {
            "marker": {
             "colorbar": {
              "outlinewidth": 0,
              "ticks": ""
             }
            },
            "type": "scatterternary"
           }
          ],
          "surface": [
           {
            "colorbar": {
             "outlinewidth": 0,
             "ticks": ""
            },
            "colorscale": [
             [
              0,
              "#0d0887"
             ],
             [
              0.1111111111111111,
              "#46039f"
             ],
             [
              0.2222222222222222,
              "#7201a8"
             ],
             [
              0.3333333333333333,
              "#9c179e"
             ],
             [
              0.4444444444444444,
              "#bd3786"
             ],
             [
              0.5555555555555556,
              "#d8576b"
             ],
             [
              0.6666666666666666,
              "#ed7953"
             ],
             [
              0.7777777777777778,
              "#fb9f3a"
             ],
             [
              0.8888888888888888,
              "#fdca26"
             ],
             [
              1,
              "#f0f921"
             ]
            ],
            "type": "surface"
           }
          ],
          "table": [
           {
            "cells": {
             "fill": {
              "color": "#EBF0F8"
             },
             "line": {
              "color": "white"
             }
            },
            "header": {
             "fill": {
              "color": "#C8D4E3"
             },
             "line": {
              "color": "white"
             }
            },
            "type": "table"
           }
          ]
         },
         "layout": {
          "annotationdefaults": {
           "arrowcolor": "#2a3f5f",
           "arrowhead": 0,
           "arrowwidth": 1
          },
          "autotypenumbers": "strict",
          "coloraxis": {
           "colorbar": {
            "outlinewidth": 0,
            "ticks": ""
           }
          },
          "colorscale": {
           "diverging": [
            [
             0,
             "#8e0152"
            ],
            [
             0.1,
             "#c51b7d"
            ],
            [
             0.2,
             "#de77ae"
            ],
            [
             0.3,
             "#f1b6da"
            ],
            [
             0.4,
             "#fde0ef"
            ],
            [
             0.5,
             "#f7f7f7"
            ],
            [
             0.6,
             "#e6f5d0"
            ],
            [
             0.7,
             "#b8e186"
            ],
            [
             0.8,
             "#7fbc41"
            ],
            [
             0.9,
             "#4d9221"
            ],
            [
             1,
             "#276419"
            ]
           ],
           "sequential": [
            [
             0,
             "#0d0887"
            ],
            [
             0.1111111111111111,
             "#46039f"
            ],
            [
             0.2222222222222222,
             "#7201a8"
            ],
            [
             0.3333333333333333,
             "#9c179e"
            ],
            [
             0.4444444444444444,
             "#bd3786"
            ],
            [
             0.5555555555555556,
             "#d8576b"
            ],
            [
             0.6666666666666666,
             "#ed7953"
            ],
            [
             0.7777777777777778,
             "#fb9f3a"
            ],
            [
             0.8888888888888888,
             "#fdca26"
            ],
            [
             1,
             "#f0f921"
            ]
           ],
           "sequentialminus": [
            [
             0,
             "#0d0887"
            ],
            [
             0.1111111111111111,
             "#46039f"
            ],
            [
             0.2222222222222222,
             "#7201a8"
            ],
            [
             0.3333333333333333,
             "#9c179e"
            ],
            [
             0.4444444444444444,
             "#bd3786"
            ],
            [
             0.5555555555555556,
             "#d8576b"
            ],
            [
             0.6666666666666666,
             "#ed7953"
            ],
            [
             0.7777777777777778,
             "#fb9f3a"
            ],
            [
             0.8888888888888888,
             "#fdca26"
            ],
            [
             1,
             "#f0f921"
            ]
           ]
          },
          "colorway": [
           "#636efa",
           "#EF553B",
           "#00cc96",
           "#ab63fa",
           "#FFA15A",
           "#19d3f3",
           "#FF6692",
           "#B6E880",
           "#FF97FF",
           "#FECB52"
          ],
          "font": {
           "color": "#2a3f5f"
          },
          "geo": {
           "bgcolor": "white",
           "lakecolor": "white",
           "landcolor": "#E5ECF6",
           "showlakes": true,
           "showland": true,
           "subunitcolor": "white"
          },
          "hoverlabel": {
           "align": "left"
          },
          "hovermode": "closest",
          "mapbox": {
           "style": "light"
          },
          "paper_bgcolor": "white",
          "plot_bgcolor": "#E5ECF6",
          "polar": {
           "angularaxis": {
            "gridcolor": "white",
            "linecolor": "white",
            "ticks": ""
           },
           "bgcolor": "#E5ECF6",
           "radialaxis": {
            "gridcolor": "white",
            "linecolor": "white",
            "ticks": ""
           }
          },
          "scene": {
           "xaxis": {
            "backgroundcolor": "#E5ECF6",
            "gridcolor": "white",
            "gridwidth": 2,
            "linecolor": "white",
            "showbackground": true,
            "ticks": "",
            "zerolinecolor": "white"
           },
           "yaxis": {
            "backgroundcolor": "#E5ECF6",
            "gridcolor": "white",
            "gridwidth": 2,
            "linecolor": "white",
            "showbackground": true,
            "ticks": "",
            "zerolinecolor": "white"
           },
           "zaxis": {
            "backgroundcolor": "#E5ECF6",
            "gridcolor": "white",
            "gridwidth": 2,
            "linecolor": "white",
            "showbackground": true,
            "ticks": "",
            "zerolinecolor": "white"
           }
          },
          "shapedefaults": {
           "line": {
            "color": "#2a3f5f"
           }
          },
          "ternary": {
           "aaxis": {
            "gridcolor": "white",
            "linecolor": "white",
            "ticks": ""
           },
           "baxis": {
            "gridcolor": "white",
            "linecolor": "white",
            "ticks": ""
           },
           "bgcolor": "#E5ECF6",
           "caxis": {
            "gridcolor": "white",
            "linecolor": "white",
            "ticks": ""
           }
          },
          "title": {
           "x": 0.05
          },
          "xaxis": {
           "automargin": true,
           "gridcolor": "white",
           "linecolor": "white",
           "ticks": "",
           "title": {
            "standoff": 15
           },
           "zerolinecolor": "white",
           "zerolinewidth": 2
          },
          "yaxis": {
           "automargin": true,
           "gridcolor": "white",
           "linecolor": "white",
           "ticks": "",
           "title": {
            "standoff": 15
           },
           "zerolinecolor": "white",
           "zerolinewidth": 2
          }
         }
        },
        "title": {
         "font": {
          "color": "black"
         },
         "text": "House Price Based on Distance from the Nearest MRT with Model Predictions"
        },
        "xaxis": {
         "anchor": "y",
         "domain": [
          0,
          1
         ],
         "gridcolor": "lightgrey",
         "gridwidth": 1,
         "linecolor": "black",
         "linewidth": 1,
         "showgrid": true,
         "showline": true,
         "title": {
          "text": "X3 distance to the nearest MRT station"
         },
         "zeroline": true,
         "zerolinecolor": "lightgrey",
         "zerolinewidth": 1
        },
        "yaxis": {
         "anchor": "x",
         "domain": [
          0,
          1
         ],
         "gridcolor": "lightgrey",
         "gridwidth": 1,
         "linecolor": "black",
         "linewidth": 1,
         "showgrid": true,
         "showline": true,
         "title": {
          "text": "Y house price of unit area"
         },
         "zeroline": true,
         "zerolinecolor": "lightgrey",
         "zerolinewidth": 1
        }
       }
      }
     },
     "metadata": {},
     "output_type": "display_data"
    }
   ],
   "source": [
    "# Create a scatter plot\n",
    "fig = px.scatter(df, x=df['X3 distance to the nearest MRT station'], y=df['Y house price of unit area'], \n",
    "                 opacity=0.8, color_discrete_sequence=['black'])\n",
    "\n",
    "# Add the prediction line\n",
    "fig.add_traces(go.Scatter(x=x_range, y=y_range, name='Linear Regression', line=dict(color='limegreen')))\n",
    "fig.add_traces(go.Scatter(x=y_hat1[:,0], y=y_hat1[:,1], name='LOWESS, frac=2/3', line=dict(color='red')))\n",
    "fig.add_traces(go.Scatter(x=y_hat2[:,0], y=y_hat2[:,1], name='LOWESS, frac=1/5', line=dict(color='orange')))\n",
    "\n",
    "# Change chart background color\n",
    "fig.update_layout(dict(plot_bgcolor = 'white'))\n",
    "\n",
    "# Update axes lines\n",
    "fig.update_xaxes(showgrid=True, gridwidth=1, gridcolor='lightgrey', \n",
    "                 zeroline=True, zerolinewidth=1, zerolinecolor='lightgrey', \n",
    "                 showline=True, linewidth=1, linecolor='black')\n",
    "\n",
    "fig.update_yaxes(showgrid=True, gridwidth=1, gridcolor='lightgrey', \n",
    "                 zeroline=True, zerolinewidth=1, zerolinecolor='lightgrey', \n",
    "                 showline=True, linewidth=1, linecolor='black')\n",
    "\n",
    "# Set figure title\n",
    "fig.update_layout(title=dict(text=\"House Price Based on Distance from the Nearest MRT with Model Predictions\", \n",
    "                             font=dict(color='black')))\n",
    "\n",
    "# Update marker size\n",
    "fig.update_traces(marker=dict(size=3))\n",
    "\n",
    "fig.show()"
   ]
  },
  {
   "cell_type": "markdown",
   "metadata": {},
   "source": [
    "## Predicting new values\n",
    "---\n",
    "the lowess algorithm from statsmodels does not provide us with a predict() method. \n",
    "Fortunately we can use scipy library as a workaround nu using interpolation."
   ]
  },
  {
   "cell_type": "code",
   "execution_count": 15,
   "metadata": {},
   "outputs": [
    {
     "name": "stdout",
     "output_type": "stream",
     "text": [
      "[45.17484583 38.88067785 33.63954152 30.70005122 28.90428712 27.31620311\n",
      " 26.02059902 11.5419846 ]\n",
      "[45.02258129 38.86385487 33.43419447 31.09566559 28.91596696 27.30837281\n",
      " 26.0121316  11.55394747]\n"
     ]
    }
   ],
   "source": [
    "f_linear = interp1d(y_hat1[:,0], y=y_hat1[:,1], bounds_error=False, kind='linear', fill_value='extrapolate') \n",
    "f_nearest = interp1d(y_hat1[:,0], y=y_hat1[:,1], bounds_error=False, kind='nearest', fill_value='extrapolate') \n",
    "\n",
    "xnew = [300, 600, 900, 1200, 1500, 1800, 2100, 6400]\n",
    "ynew_linear = f_linear(xnew)\n",
    "ynew_nearest = f_nearest(xnew)\n",
    "print(ynew_linear)\n",
    "print(ynew_nearest)"
   ]
  },
  {
   "cell_type": "code",
   "execution_count": null,
   "metadata": {},
   "outputs": [],
   "source": []
  }
 ],
 "metadata": {
  "interpreter": {
   "hash": "ae1140af140338a4ac7f59ecaec629984b550fb1d67e11ebb3090ffc1bf53e72"
  },
  "kernelspec": {
   "display_name": "Python 3.8.3 ('base')",
   "language": "python",
   "name": "python3"
  },
  "language_info": {
   "codemirror_mode": {
    "name": "ipython",
    "version": 3
   },
   "file_extension": ".py",
   "mimetype": "text/x-python",
   "name": "python",
   "nbconvert_exporter": "python",
   "pygments_lexer": "ipython3",
   "version": "3.8.3"
  },
  "orig_nbformat": 4
 },
 "nbformat": 4,
 "nbformat_minor": 2
}
