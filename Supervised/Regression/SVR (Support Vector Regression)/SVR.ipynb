{
 "cells": [
  {
   "cell_type": "markdown",
   "metadata": {},
   "source": [
    "# SVM - Support Vector Regression\n",
    "---\n",
    "SVR is quite similar to SVM with some differences:\n",
    "1. SVR has an additional turntable parameter ε(epsilon) which defines the width of tube around the estimation function.\n",
    "2. The support vectors are the points that falls outside the tube rather than just the ones at the margin.\n",
    "3. The slack measures the distance to points outside the tube."
   ]
  },
  {
   "cell_type": "code",
   "execution_count": 1,
   "metadata": {},
   "outputs": [
    {
     "name": "stderr",
     "output_type": "stream",
     "text": [
      "<frozen importlib._bootstrap>:219: RuntimeWarning:\n",
      "\n",
      "numpy.ufunc size changed, may indicate binary incompatibility. Expected 192 from C header, got 216 from PyObject\n",
      "\n"
     ]
    }
   ],
   "source": [
    "import pandas as pd\n",
    "import numpy as np\n",
    "\n",
    "from sklearn.linear_model import LinearRegression\n",
    "from sklearn.svm import SVR\n",
    "from sklearn.preprocessing import MinMaxScaler\n",
    "\n",
    "import plotly.graph_objects as go\n",
    "import plotly.express as px"
   ]
  },
  {
   "cell_type": "code",
   "execution_count": 3,
   "metadata": {},
   "outputs": [],
   "source": [
    "df = pd.read_csv('../data/Real_estate.csv', encoding='utf-8')\n",
    "\n",
    "scaler = MinMaxScaler()\n",
    "df['X2 house age (scaled)'] = scaler.fit_transform(df[['X2 house age']])\n",
    "df['X3 distance to the nearest MRT station (scaled)'] = scaler.fit_transform(df[['X3 distance to the nearest MRT station']])"
   ]
  },
  {
   "cell_type": "code",
   "execution_count": 4,
   "metadata": {},
   "outputs": [
    {
     "data": {
      "application/vnd.plotly.v1+json": {
       "config": {
        "plotlyServerURL": "https://plot.ly"
       },
       "data": [
        {
         "hovertemplate": "X3 distance to the nearest MRT station=%{x}<br>Y house price of unit area=%{y}<extra></extra>",
         "legendgroup": "",
         "marker": {
          "color": "black",
          "opacity": 0.8,
          "size": 3,
          "symbol": "circle"
         },
         "mode": "markers",
         "name": "",
         "orientation": "v",
         "showlegend": false,
         "type": "scatter",
         "x": [
          84.87881999999999,
          306.5947,
          561.9845,
          561.9845,
          390.5684,
          2175.03,
          623.4731,
          287.6025,
          5512.0380000000005,
          1783.18,
          405.2134,
          90.45606,
          492.2313,
          2469.645,
          1164.838,
          579.2083,
          292.9978,
          350.8515,
          368.1363,
          23.382839999999998,
          2275.877,
          279.1726,
          1360.139,
          279.1726,
          480.6977,
          1487.868,
          383.8624,
          276.449,
          557.4780000000001,
          451.2438,
          4519.69,
          769.4034,
          488.5727,
          323.655,
          205.36700000000002,
          4079.4179999999997,
          1935.009,
          1360.139,
          577.9615,
          289.3248,
          4082.015,
          4066.587,
          519.4617,
          512.7871,
          533.4762,
          488.8193,
          463.9623,
          640.7391,
          4605.749,
          4510.359,
          512.5487,
          1758.406,
          1438.579,
          492.2313,
          289.3248,
          1160.632,
          371.2495,
          56.47425,
          4510.359,
          336.0532,
          1931.207,
          259.6607,
          2175.877,
          533.4762,
          995.7554,
          123.7429,
          193.5845,
          104.8101,
          464.223,
          561.9845,
          90.45606,
          640.7391,
          424.5442,
          4082.015,
          379.5575,
          1360.139,
          616.4004,
          2185.1279999999997,
          552.4371,
          1414.8370000000002,
          533.4762,
          377.7956,
          150.9347,
          2707.3920000000003,
          383.2805,
          338.9679,
          1455.7979999999998,
          4066.587,
          1406.43,
          3947.945,
          274.0144,
          1402.016,
          2469.645,
          1146.329,
          167.5989,
          104.8101,
          90.45606,
          617.4424,
          289.3248,
          90.45606,
          964.7496,
          170.1289,
          193.5845,
          208.3905,
          392.4459,
          292.9978,
          189.5181,
          1360.139,
          592.5006,
          2147.376,
          104.8101,
          196.6172,
          2102.427,
          393.2606,
          143.8383,
          737.9161,
          6396.283,
          4197.349,
          1583.7220000000002,
          289.3248,
          492.2313,
          492.2313,
          414.9476,
          185.4296,
          279.1726,
          193.5845,
          804.6897,
          383.8624,
          124.9912,
          216.8329,
          535.5269999999999,
          2147.376,
          482.7581,
          373.3937,
          186.9686,
          1009.235,
          390.5684,
          319.0708,
          942.4664,
          492.2313,
          289.3248,
          1559.8270000000002,
          640.6071,
          492.2313,
          1360.139,
          451.2438,
          185.4296,
          489.8821,
          3780.59,
          179.4538,
          170.7311,
          387.7721,
          1360.139,
          376.1709,
          4066.587,
          4082.015,
          1264.73,
          815.9314,
          390.5684,
          815.9314,
          49.66105,
          616.4004,
          4066.587,
          104.8101,
          185.4296,
          1236.5639999999999,
          292.9978,
          330.0854,
          515.1122,
          1962.628,
          4527.687,
          383.8624,
          90.45606,
          401.8807,
          432.0385,
          472.1745,
          4573.779,
          181.0766,
          1144.4360000000001,
          438.8513,
          4449.27,
          201.8939,
          2147.376,
          4082.015,
          2615.465,
          1447.286,
          2185.1279999999997,
          3078.176,
          190.0392,
          4066.587,
          616.5735,
          750.0704,
          57.58945,
          421.47900000000004,
          3771.895,
          461.1016,
          707.9067,
          126.7286,
          157.6052,
          451.6419,
          995.7554,
          561.9845,
          642.6985,
          289.3248,
          1414.8370000000002,
          1449.7220000000002,
          379.5575,
          665.0636,
          1360.139,
          175.6294,
          390.5684,
          274.0144,
          1805.665,
          90.45606,
          1783.18,
          383.7129,
          590.9292,
          372.6242,
          492.2313,
          529.7771,
          186.5101,
          1402.016,
          431.1114,
          1402.016,
          324.9419,
          193.5845,
          4082.015,
          265.0609,
          3171.329,
          1156.412,
          2147.376,
          4074.736,
          4412.765,
          333.3679,
          2216.612,
          250.63099999999997,
          373.8389,
          732.8528,
          732.8528,
          837.7233,
          1712.632,
          250.63099999999997,
          2077.39,
          204.1705,
          1559.8270000000002,
          639.6198,
          389.8219,
          1055.067,
          1009.235,
          6306.153,
          424.7132,
          1159.454,
          90.45606,
          1735.595,
          329.9747,
          5512.0380000000005,
          339.2289,
          444.1334,
          292.9978,
          837.7233,
          1485.0970000000002,
          2288.011,
          289.3248,
          2147.376,
          493.657,
          815.9314,
          1783.18,
          482.7581,
          390.5684,
          837.7233,
          252.5822,
          451.6419,
          492.2313,
          170.1289,
          394.0173,
          23.382839999999998,
          461.1016,
          2185.1279999999997,
          208.3905,
          1554.25,
          184.3302,
          387.7721,
          1455.7979999999998,
          1978.671,
          383.2805,
          718.2937,
          90.45606,
          461.1016,
          323.6912,
          289.3248,
          490.3446,
          56.47425,
          395.6747,
          383.2805,
          335.5273,
          2179.59,
          1144.4360000000001,
          567.0349,
          4082.015,
          121.7262,
          156.2442,
          461.7848,
          2288.011,
          439.7105,
          1626.0829999999999,
          289.3248,
          169.9803,
          3079.89,
          289.3248,
          1264.73,
          1643.499,
          537.7971,
          318.5292,
          104.8101,
          577.9615,
          1756.411,
          250.63099999999997,
          752.7669,
          379.5575,
          272.6783,
          4197.349,
          964.7496,
          187.4823,
          197.1338,
          1712.632,
          488.8193,
          56.47425,
          757.3377,
          1497.713,
          4197.349,
          1156.777,
          4519.69,
          617.7134,
          104.8101,
          1013.341,
          337.6016,
          1867.233,
          600.8604,
          258.186,
          329.9747,
          270.8895,
          750.0704,
          90.45606,
          563.2854,
          3085.17,
          185.4296,
          1712.632,
          6488.021,
          259.6607,
          104.8101,
          492.2313,
          2180.245,
          2674.961,
          2147.376,
          1360.139,
          383.8624,
          211.4473,
          338.9679,
          193.5845,
          2408.993,
          87.30221999999999,
          281.205,
          967.4,
          109.9455,
          614.1394,
          2261.4320000000002,
          1801.5439999999999,
          1828.319,
          350.8515,
          2185.1279999999997,
          289.3248,
          312.8963,
          157.6052,
          274.0144,
          390.5684,
          1157.988,
          1717.193,
          49.66105,
          587.8877,
          292.9978,
          289.3248,
          132.5469,
          3529.5640000000003,
          506.1144,
          4066.587,
          82.88643,
          185.4296,
          2103.555,
          2251.938,
          122.3619,
          377.8302,
          1939.749,
          443.80199999999996,
          967.4,
          4136.271,
          512.5487,
          918.6357,
          1164.838,
          1717.193,
          170.1289,
          482.7581,
          2175.03,
          187.4823,
          161.942,
          289.3248,
          130.9945,
          372.1386,
          2408.993,
          2175.744,
          4082.015,
          90.45606,
          390.9696,
          104.8101,
          90.45606
         ],
         "xaxis": "x",
         "y": [
          37.9,
          42.2,
          47.3,
          54.8,
          43.1,
          32.1,
          40.3,
          46.7,
          18.8,
          22.1,
          41.4,
          58.1,
          39.3,
          23.8,
          34.3,
          50.5,
          70.1,
          37.4,
          42.3,
          47.7,
          29.3,
          51.6,
          24.6,
          47.9,
          38.8,
          27,
          56.2,
          33.6,
          47,
          57.1,
          22.1,
          25,
          34.2,
          49.3,
          55.1,
          27.3,
          22.9,
          25.3,
          47.7,
          46.2,
          15.9,
          18.2,
          34.7,
          34.1,
          53.9,
          38.3,
          42,
          61.5,
          13.4,
          13.2,
          44.2,
          20.7,
          27,
          38.9,
          51.7,
          13.7,
          41.9,
          53.5,
          22.6,
          42.4,
          21.3,
          63.2,
          27.7,
          55,
          25.3,
          44.3,
          50.7,
          56.8,
          36.2,
          42,
          59,
          40.8,
          36.3,
          20,
          54.4,
          29.5,
          36.8,
          25.6,
          29.8,
          26.5,
          40.3,
          36.8,
          48.1,
          17.7,
          43.7,
          50.8,
          27,
          18.3,
          48,
          25.3,
          45.4,
          43.2,
          21.8,
          16.1,
          41,
          51.8,
          59.5,
          34.6,
          51,
          62.2,
          38.2,
          32.9,
          54.4,
          45.7,
          30.5,
          71,
          47.1,
          26.6,
          34.1,
          28.4,
          51.6,
          39.4,
          23.1,
          7.6,
          53.3,
          46.4,
          12.2,
          13,
          30.6,
          59.6,
          31.3,
          48,
          32.5,
          45.5,
          57.4,
          48.6,
          62.9,
          55,
          60.7,
          41,
          37.5,
          30.7,
          37.5,
          39.5,
          42.2,
          20.8,
          46.8,
          47.4,
          43.5,
          42.5,
          51.4,
          28.9,
          37.5,
          40.1,
          28.4,
          45.5,
          52.2,
          43.2,
          45.1,
          39.7,
          48.5,
          44.7,
          28.9,
          40.9,
          20.7,
          15.6,
          18.3,
          35.6,
          39.4,
          37.4,
          57.8,
          39.6,
          11.6,
          55.5,
          55.2,
          30.6,
          73.6,
          43.4,
          37.4,
          23.5,
          14.4,
          58.8,
          58.1,
          35.1,
          45.2,
          36.5,
          19.2,
          42,
          36.7,
          42.6,
          15.5,
          55.9,
          23.6,
          18.8,
          21.8,
          21.5,
          25.7,
          22,
          44.3,
          20.5,
          42.3,
          37.8,
          42.7,
          49.3,
          29.3,
          34.6,
          36.6,
          48.2,
          39.1,
          31.6,
          25.5,
          45.9,
          31.5,
          46.1,
          26.6,
          21.4,
          44,
          34.2,
          26.2,
          40.9,
          52.2,
          43.5,
          31.1,
          58,
          20.9,
          48.1,
          39.7,
          40.8,
          43.8,
          40.2,
          78.3,
          38.5,
          48.5,
          42.3,
          46,
          49,
          12.8,
          40.2,
          46.6,
          19,
          33.4,
          14.7,
          17.4,
          32.4,
          23.9,
          39.3,
          61.9,
          39,
          40.6,
          29.7,
          28.8,
          41.4,
          33.4,
          48.2,
          21.7,
          40.8,
          40.6,
          23.1,
          22.3,
          15,
          30,
          13.8,
          52.7,
          25.9,
          51.8,
          17.4,
          26.5,
          43.9,
          63.3,
          28.8,
          30.7,
          24.4,
          53,
          31.7,
          40.6,
          38.1,
          23.7,
          41.1,
          40.1,
          23,
          117.5,
          26.5,
          40.5,
          29.3,
          41,
          49.7,
          34,
          27.7,
          44,
          31.1,
          45.4,
          44.8,
          25.6,
          23.5,
          34.4,
          55.3,
          56.3,
          32.9,
          51,
          44.5,
          37,
          54.4,
          24.5,
          42.5,
          38.1,
          21.8,
          34.1,
          28.5,
          16.7,
          46.1,
          36.9,
          35.7,
          23.2,
          38.4,
          29.4,
          55,
          50.2,
          24.7,
          53,
          19.1,
          24.7,
          42.2,
          78,
          42.8,
          41.6,
          27.3,
          42,
          37.5,
          49.8,
          26.9,
          18.6,
          37.7,
          33.1,
          42.5,
          31.3,
          38.1,
          62.1,
          36.7,
          23.6,
          19.2,
          12.8,
          15.6,
          39.6,
          38.4,
          22.8,
          36.5,
          35.6,
          30.9,
          36.3,
          50.4,
          42.9,
          37,
          53.5,
          46.6,
          41.2,
          37.9,
          30.8,
          11.2,
          53.7,
          47,
          42.3,
          28.6,
          25.7,
          31.3,
          30.1,
          60.7,
          45.3,
          44.9,
          45.1,
          24.7,
          47.1,
          63.3,
          40,
          48,
          33.1,
          29.5,
          24.8,
          20.9,
          43.1,
          22.8,
          42.1,
          51.7,
          41.5,
          52.2,
          49.5,
          23.8,
          30.5,
          56.8,
          37.4,
          69.7,
          53.3,
          47.3,
          29.3,
          40.3,
          12.9,
          46.6,
          55.3,
          25.6,
          27.3,
          67.7,
          38.6,
          31.3,
          35.3,
          40.3,
          24.7,
          42.5,
          31.9,
          32.2,
          23,
          37.3,
          35.5,
          27.7,
          28.5,
          39.7,
          41.2,
          37.2,
          40.5,
          22.3,
          28.1,
          15.4,
          50,
          40.6,
          52.5,
          63.9
         ],
         "yaxis": "y"
        }
       ],
       "layout": {
        "legend": {
         "tracegroupgap": 0
        },
        "margin": {
         "t": 60
        },
        "plot_bgcolor": "white",
        "template": {
         "data": {
          "bar": [
           {
            "error_x": {
             "color": "#2a3f5f"
            },
            "error_y": {
             "color": "#2a3f5f"
            },
            "marker": {
             "line": {
              "color": "#E5ECF6",
              "width": 0.5
             },
             "pattern": {
              "fillmode": "overlay",
              "size": 10,
              "solidity": 0.2
             }
            },
            "type": "bar"
           }
          ],
          "barpolar": [
           {
            "marker": {
             "line": {
              "color": "#E5ECF6",
              "width": 0.5
             },
             "pattern": {
              "fillmode": "overlay",
              "size": 10,
              "solidity": 0.2
             }
            },
            "type": "barpolar"
           }
          ],
          "carpet": [
           {
            "aaxis": {
             "endlinecolor": "#2a3f5f",
             "gridcolor": "white",
             "linecolor": "white",
             "minorgridcolor": "white",
             "startlinecolor": "#2a3f5f"
            },
            "baxis": {
             "endlinecolor": "#2a3f5f",
             "gridcolor": "white",
             "linecolor": "white",
             "minorgridcolor": "white",
             "startlinecolor": "#2a3f5f"
            },
            "type": "carpet"
           }
          ],
          "choropleth": [
           {
            "colorbar": {
             "outlinewidth": 0,
             "ticks": ""
            },
            "type": "choropleth"
           }
          ],
          "contour": [
           {
            "colorbar": {
             "outlinewidth": 0,
             "ticks": ""
            },
            "colorscale": [
             [
              0,
              "#0d0887"
             ],
             [
              0.1111111111111111,
              "#46039f"
             ],
             [
              0.2222222222222222,
              "#7201a8"
             ],
             [
              0.3333333333333333,
              "#9c179e"
             ],
             [
              0.4444444444444444,
              "#bd3786"
             ],
             [
              0.5555555555555556,
              "#d8576b"
             ],
             [
              0.6666666666666666,
              "#ed7953"
             ],
             [
              0.7777777777777778,
              "#fb9f3a"
             ],
             [
              0.8888888888888888,
              "#fdca26"
             ],
             [
              1,
              "#f0f921"
             ]
            ],
            "type": "contour"
           }
          ],
          "contourcarpet": [
           {
            "colorbar": {
             "outlinewidth": 0,
             "ticks": ""
            },
            "type": "contourcarpet"
           }
          ],
          "heatmap": [
           {
            "colorbar": {
             "outlinewidth": 0,
             "ticks": ""
            },
            "colorscale": [
             [
              0,
              "#0d0887"
             ],
             [
              0.1111111111111111,
              "#46039f"
             ],
             [
              0.2222222222222222,
              "#7201a8"
             ],
             [
              0.3333333333333333,
              "#9c179e"
             ],
             [
              0.4444444444444444,
              "#bd3786"
             ],
             [
              0.5555555555555556,
              "#d8576b"
             ],
             [
              0.6666666666666666,
              "#ed7953"
             ],
             [
              0.7777777777777778,
              "#fb9f3a"
             ],
             [
              0.8888888888888888,
              "#fdca26"
             ],
             [
              1,
              "#f0f921"
             ]
            ],
            "type": "heatmap"
           }
          ],
          "heatmapgl": [
           {
            "colorbar": {
             "outlinewidth": 0,
             "ticks": ""
            },
            "colorscale": [
             [
              0,
              "#0d0887"
             ],
             [
              0.1111111111111111,
              "#46039f"
             ],
             [
              0.2222222222222222,
              "#7201a8"
             ],
             [
              0.3333333333333333,
              "#9c179e"
             ],
             [
              0.4444444444444444,
              "#bd3786"
             ],
             [
              0.5555555555555556,
              "#d8576b"
             ],
             [
              0.6666666666666666,
              "#ed7953"
             ],
             [
              0.7777777777777778,
              "#fb9f3a"
             ],
             [
              0.8888888888888888,
              "#fdca26"
             ],
             [
              1,
              "#f0f921"
             ]
            ],
            "type": "heatmapgl"
           }
          ],
          "histogram": [
           {
            "marker": {
             "pattern": {
              "fillmode": "overlay",
              "size": 10,
              "solidity": 0.2
             }
            },
            "type": "histogram"
           }
          ],
          "histogram2d": [
           {
            "colorbar": {
             "outlinewidth": 0,
             "ticks": ""
            },
            "colorscale": [
             [
              0,
              "#0d0887"
             ],
             [
              0.1111111111111111,
              "#46039f"
             ],
             [
              0.2222222222222222,
              "#7201a8"
             ],
             [
              0.3333333333333333,
              "#9c179e"
             ],
             [
              0.4444444444444444,
              "#bd3786"
             ],
             [
              0.5555555555555556,
              "#d8576b"
             ],
             [
              0.6666666666666666,
              "#ed7953"
             ],
             [
              0.7777777777777778,
              "#fb9f3a"
             ],
             [
              0.8888888888888888,
              "#fdca26"
             ],
             [
              1,
              "#f0f921"
             ]
            ],
            "type": "histogram2d"
           }
          ],
          "histogram2dcontour": [
           {
            "colorbar": {
             "outlinewidth": 0,
             "ticks": ""
            },
            "colorscale": [
             [
              0,
              "#0d0887"
             ],
             [
              0.1111111111111111,
              "#46039f"
             ],
             [
              0.2222222222222222,
              "#7201a8"
             ],
             [
              0.3333333333333333,
              "#9c179e"
             ],
             [
              0.4444444444444444,
              "#bd3786"
             ],
             [
              0.5555555555555556,
              "#d8576b"
             ],
             [
              0.6666666666666666,
              "#ed7953"
             ],
             [
              0.7777777777777778,
              "#fb9f3a"
             ],
             [
              0.8888888888888888,
              "#fdca26"
             ],
             [
              1,
              "#f0f921"
             ]
            ],
            "type": "histogram2dcontour"
           }
          ],
          "mesh3d": [
           {
            "colorbar": {
             "outlinewidth": 0,
             "ticks": ""
            },
            "type": "mesh3d"
           }
          ],
          "parcoords": [
           {
            "line": {
             "colorbar": {
              "outlinewidth": 0,
              "ticks": ""
             }
            },
            "type": "parcoords"
           }
          ],
          "pie": [
           {
            "automargin": true,
            "type": "pie"
           }
          ],
          "scatter": [
           {
            "marker": {
             "colorbar": {
              "outlinewidth": 0,
              "ticks": ""
             }
            },
            "type": "scatter"
           }
          ],
          "scatter3d": [
           {
            "line": {
             "colorbar": {
              "outlinewidth": 0,
              "ticks": ""
             }
            },
            "marker": {
             "colorbar": {
              "outlinewidth": 0,
              "ticks": ""
             }
            },
            "type": "scatter3d"
           }
          ],
          "scattercarpet": [
           {
            "marker": {
             "colorbar": {
              "outlinewidth": 0,
              "ticks": ""
             }
            },
            "type": "scattercarpet"
           }
          ],
          "scattergeo": [
           {
            "marker": {
             "colorbar": {
              "outlinewidth": 0,
              "ticks": ""
             }
            },
            "type": "scattergeo"
           }
          ],
          "scattergl": [
           {
            "marker": {
             "colorbar": {
              "outlinewidth": 0,
              "ticks": ""
             }
            },
            "type": "scattergl"
           }
          ],
          "scattermapbox": [
           {
            "marker": {
             "colorbar": {
              "outlinewidth": 0,
              "ticks": ""
             }
            },
            "type": "scattermapbox"
           }
          ],
          "scatterpolar": [
           {
            "marker": {
             "colorbar": {
              "outlinewidth": 0,
              "ticks": ""
             }
            },
            "type": "scatterpolar"
           }
          ],
          "scatterpolargl": [
           {
            "marker": {
             "colorbar": {
              "outlinewidth": 0,
              "ticks": ""
             }
            },
            "type": "scatterpolargl"
           }
          ],
          "scatterternary": [
           {
            "marker": {
             "colorbar": {
              "outlinewidth": 0,
              "ticks": ""
             }
            },
            "type": "scatterternary"
           }
          ],
          "surface": [
           {
            "colorbar": {
             "outlinewidth": 0,
             "ticks": ""
            },
            "colorscale": [
             [
              0,
              "#0d0887"
             ],
             [
              0.1111111111111111,
              "#46039f"
             ],
             [
              0.2222222222222222,
              "#7201a8"
             ],
             [
              0.3333333333333333,
              "#9c179e"
             ],
             [
              0.4444444444444444,
              "#bd3786"
             ],
             [
              0.5555555555555556,
              "#d8576b"
             ],
             [
              0.6666666666666666,
              "#ed7953"
             ],
             [
              0.7777777777777778,
              "#fb9f3a"
             ],
             [
              0.8888888888888888,
              "#fdca26"
             ],
             [
              1,
              "#f0f921"
             ]
            ],
            "type": "surface"
           }
          ],
          "table": [
           {
            "cells": {
             "fill": {
              "color": "#EBF0F8"
             },
             "line": {
              "color": "white"
             }
            },
            "header": {
             "fill": {
              "color": "#C8D4E3"
             },
             "line": {
              "color": "white"
             }
            },
            "type": "table"
           }
          ]
         },
         "layout": {
          "annotationdefaults": {
           "arrowcolor": "#2a3f5f",
           "arrowhead": 0,
           "arrowwidth": 1
          },
          "autotypenumbers": "strict",
          "coloraxis": {
           "colorbar": {
            "outlinewidth": 0,
            "ticks": ""
           }
          },
          "colorscale": {
           "diverging": [
            [
             0,
             "#8e0152"
            ],
            [
             0.1,
             "#c51b7d"
            ],
            [
             0.2,
             "#de77ae"
            ],
            [
             0.3,
             "#f1b6da"
            ],
            [
             0.4,
             "#fde0ef"
            ],
            [
             0.5,
             "#f7f7f7"
            ],
            [
             0.6,
             "#e6f5d0"
            ],
            [
             0.7,
             "#b8e186"
            ],
            [
             0.8,
             "#7fbc41"
            ],
            [
             0.9,
             "#4d9221"
            ],
            [
             1,
             "#276419"
            ]
           ],
           "sequential": [
            [
             0,
             "#0d0887"
            ],
            [
             0.1111111111111111,
             "#46039f"
            ],
            [
             0.2222222222222222,
             "#7201a8"
            ],
            [
             0.3333333333333333,
             "#9c179e"
            ],
            [
             0.4444444444444444,
             "#bd3786"
            ],
            [
             0.5555555555555556,
             "#d8576b"
            ],
            [
             0.6666666666666666,
             "#ed7953"
            ],
            [
             0.7777777777777778,
             "#fb9f3a"
            ],
            [
             0.8888888888888888,
             "#fdca26"
            ],
            [
             1,
             "#f0f921"
            ]
           ],
           "sequentialminus": [
            [
             0,
             "#0d0887"
            ],
            [
             0.1111111111111111,
             "#46039f"
            ],
            [
             0.2222222222222222,
             "#7201a8"
            ],
            [
             0.3333333333333333,
             "#9c179e"
            ],
            [
             0.4444444444444444,
             "#bd3786"
            ],
            [
             0.5555555555555556,
             "#d8576b"
            ],
            [
             0.6666666666666666,
             "#ed7953"
            ],
            [
             0.7777777777777778,
             "#fb9f3a"
            ],
            [
             0.8888888888888888,
             "#fdca26"
            ],
            [
             1,
             "#f0f921"
            ]
           ]
          },
          "colorway": [
           "#636efa",
           "#EF553B",
           "#00cc96",
           "#ab63fa",
           "#FFA15A",
           "#19d3f3",
           "#FF6692",
           "#B6E880",
           "#FF97FF",
           "#FECB52"
          ],
          "font": {
           "color": "#2a3f5f"
          },
          "geo": {
           "bgcolor": "white",
           "lakecolor": "white",
           "landcolor": "#E5ECF6",
           "showlakes": true,
           "showland": true,
           "subunitcolor": "white"
          },
          "hoverlabel": {
           "align": "left"
          },
          "hovermode": "closest",
          "mapbox": {
           "style": "light"
          },
          "paper_bgcolor": "white",
          "plot_bgcolor": "#E5ECF6",
          "polar": {
           "angularaxis": {
            "gridcolor": "white",
            "linecolor": "white",
            "ticks": ""
           },
           "bgcolor": "#E5ECF6",
           "radialaxis": {
            "gridcolor": "white",
            "linecolor": "white",
            "ticks": ""
           }
          },
          "scene": {
           "xaxis": {
            "backgroundcolor": "#E5ECF6",
            "gridcolor": "white",
            "gridwidth": 2,
            "linecolor": "white",
            "showbackground": true,
            "ticks": "",
            "zerolinecolor": "white"
           },
           "yaxis": {
            "backgroundcolor": "#E5ECF6",
            "gridcolor": "white",
            "gridwidth": 2,
            "linecolor": "white",
            "showbackground": true,
            "ticks": "",
            "zerolinecolor": "white"
           },
           "zaxis": {
            "backgroundcolor": "#E5ECF6",
            "gridcolor": "white",
            "gridwidth": 2,
            "linecolor": "white",
            "showbackground": true,
            "ticks": "",
            "zerolinecolor": "white"
           }
          },
          "shapedefaults": {
           "line": {
            "color": "#2a3f5f"
           }
          },
          "ternary": {
           "aaxis": {
            "gridcolor": "white",
            "linecolor": "white",
            "ticks": ""
           },
           "baxis": {
            "gridcolor": "white",
            "linecolor": "white",
            "ticks": ""
           },
           "bgcolor": "#E5ECF6",
           "caxis": {
            "gridcolor": "white",
            "linecolor": "white",
            "ticks": ""
           }
          },
          "title": {
           "x": 0.05
          },
          "xaxis": {
           "automargin": true,
           "gridcolor": "white",
           "linecolor": "white",
           "ticks": "",
           "title": {
            "standoff": 15
           },
           "zerolinecolor": "white",
           "zerolinewidth": 2
          },
          "yaxis": {
           "automargin": true,
           "gridcolor": "white",
           "linecolor": "white",
           "ticks": "",
           "title": {
            "standoff": 15
           },
           "zerolinecolor": "white",
           "zerolinewidth": 2
          }
         }
        },
        "title": {
         "font": {
          "color": "black"
         },
         "text": "House Price Based on Distance from the Nearest MRT"
        },
        "xaxis": {
         "anchor": "y",
         "domain": [
          0,
          1
         ],
         "gridcolor": "lightgrey",
         "gridwidth": 1,
         "linecolor": "black",
         "linewidth": 1,
         "showgrid": true,
         "showline": true,
         "title": {
          "text": "X3 distance to the nearest MRT station"
         },
         "zeroline": true,
         "zerolinecolor": "lightgrey",
         "zerolinewidth": 1
        },
        "yaxis": {
         "anchor": "x",
         "domain": [
          0,
          1
         ],
         "gridcolor": "lightgrey",
         "gridwidth": 1,
         "linecolor": "black",
         "linewidth": 1,
         "showgrid": true,
         "showline": true,
         "title": {
          "text": "Y house price of unit area"
         },
         "zeroline": true,
         "zerolinecolor": "lightgrey",
         "zerolinewidth": 1
        }
       }
      }
     },
     "metadata": {},
     "output_type": "display_data"
    }
   ],
   "source": [
    "fig = px.scatter(df, x = df['X3 distance to the nearest MRT station'], y = df['Y house price of unit area'],\n",
    "                    opacity=0.8, color_discrete_sequence=['black'])\n",
    "\n",
    "fig.update_layout(dict(plot_bgcolor = 'white'))\n",
    "\n",
    "fig.update_xaxes(showgrid=True, gridwidth=1, gridcolor='lightgrey', \n",
    "                 zeroline=True, zerolinewidth=1, zerolinecolor='lightgrey', \n",
    "                 showline=True, linewidth=1, linecolor='black')\n",
    "\n",
    "fig.update_yaxes(showgrid=True, gridwidth=1, gridcolor='lightgrey', \n",
    "                 zeroline=True, zerolinewidth=1, zerolinecolor='lightgrey', \n",
    "                 showline=True, linewidth=1, linecolor='black')\n",
    "\n",
    "\n",
    "fig.update_layout(title = dict(text=\"House Price Based on Distance from the Nearest MRT\", \n",
    "                             font=dict(color='black')))\n",
    "\n",
    "fig.update_traces(marker = dict(size = 3))\n",
    "\n",
    "fig.show()"
   ]
  },
  {
   "cell_type": "code",
   "execution_count": null,
   "metadata": {},
   "outputs": [],
   "source": [
    "X=df['X3 distance to the nearest MRT station'].values.reshape(-1,1)\n",
    "y=df['Y house price of unit area'].values\n",
    "\n",
    "model1 = LinearRegression()\n",
    "lr = model1.fit(X, y)\n",
    "\n",
    "model2 = SVR(kernel='rbf', C=1, epsilon=10) # set kernel and hyperparameters\n",
    "svr = model2.fit(X, y)\n",
    "\n",
    "x_range = np.linspace(X.min(), X.max(), 100)\n",
    "\n",
    "y_lr = model1.predict(x_range.reshape(-1, 1)) # Linear regression\n",
    "y_svr = model2.predict(x_range.reshape(-1, 1)) # SVR"
   ]
  },
  {
   "cell_type": "code",
   "execution_count": 14,
   "metadata": {},
   "outputs": [],
   "source": [
    "X=df['X3 distance to the nearest MRT station'].values.reshape(-1,1)\n",
    "y=df['Y house price of unit area'].values\n",
    "\n",
    "model1 = LinearRegression()\n",
    "lr = model1.fit(X, y)\n",
    "\n",
    "model2 = SVR(kernel='rbf', C=1, epsilon=10) \n",
    "svr = model2.fit(X, y)\n",
    "\n",
    "x_range = np.linspace(X.min(), X.max(), 100)\n",
    "\n",
    "y_lr = model1.predict(x_range.reshape(-1, 1)) \n",
    "y_svr = model2.predict(x_range.reshape(-1, 1))"
   ]
  },
  {
   "cell_type": "code",
   "execution_count": 15,
   "metadata": {},
   "outputs": [
    {
     "data": {
      "application/vnd.plotly.v1+json": {
       "config": {
        "plotlyServerURL": "https://plot.ly"
       },
       "data": [
        {
         "hovertemplate": "X3 distance to the nearest MRT station=%{x}<br>Y house price of unit area=%{y}<extra></extra>",
         "legendgroup": "",
         "marker": {
          "color": "black",
          "opacity": 0.8,
          "size": 3,
          "symbol": "circle"
         },
         "mode": "markers",
         "name": "",
         "orientation": "v",
         "showlegend": false,
         "type": "scatter",
         "x": [
          84.87881999999999,
          306.5947,
          561.9845,
          561.9845,
          390.5684,
          2175.03,
          623.4731,
          287.6025,
          5512.0380000000005,
          1783.18,
          405.2134,
          90.45606,
          492.2313,
          2469.645,
          1164.838,
          579.2083,
          292.9978,
          350.8515,
          368.1363,
          23.382839999999998,
          2275.877,
          279.1726,
          1360.139,
          279.1726,
          480.6977,
          1487.868,
          383.8624,
          276.449,
          557.4780000000001,
          451.2438,
          4519.69,
          769.4034,
          488.5727,
          323.655,
          205.36700000000002,
          4079.4179999999997,
          1935.009,
          1360.139,
          577.9615,
          289.3248,
          4082.015,
          4066.587,
          519.4617,
          512.7871,
          533.4762,
          488.8193,
          463.9623,
          640.7391,
          4605.749,
          4510.359,
          512.5487,
          1758.406,
          1438.579,
          492.2313,
          289.3248,
          1160.632,
          371.2495,
          56.47425,
          4510.359,
          336.0532,
          1931.207,
          259.6607,
          2175.877,
          533.4762,
          995.7554,
          123.7429,
          193.5845,
          104.8101,
          464.223,
          561.9845,
          90.45606,
          640.7391,
          424.5442,
          4082.015,
          379.5575,
          1360.139,
          616.4004,
          2185.1279999999997,
          552.4371,
          1414.8370000000002,
          533.4762,
          377.7956,
          150.9347,
          2707.3920000000003,
          383.2805,
          338.9679,
          1455.7979999999998,
          4066.587,
          1406.43,
          3947.945,
          274.0144,
          1402.016,
          2469.645,
          1146.329,
          167.5989,
          104.8101,
          90.45606,
          617.4424,
          289.3248,
          90.45606,
          964.7496,
          170.1289,
          193.5845,
          208.3905,
          392.4459,
          292.9978,
          189.5181,
          1360.139,
          592.5006,
          2147.376,
          104.8101,
          196.6172,
          2102.427,
          393.2606,
          143.8383,
          737.9161,
          6396.283,
          4197.349,
          1583.7220000000002,
          289.3248,
          492.2313,
          492.2313,
          414.9476,
          185.4296,
          279.1726,
          193.5845,
          804.6897,
          383.8624,
          124.9912,
          216.8329,
          535.5269999999999,
          2147.376,
          482.7581,
          373.3937,
          186.9686,
          1009.235,
          390.5684,
          319.0708,
          942.4664,
          492.2313,
          289.3248,
          1559.8270000000002,
          640.6071,
          492.2313,
          1360.139,
          451.2438,
          185.4296,
          489.8821,
          3780.59,
          179.4538,
          170.7311,
          387.7721,
          1360.139,
          376.1709,
          4066.587,
          4082.015,
          1264.73,
          815.9314,
          390.5684,
          815.9314,
          49.66105,
          616.4004,
          4066.587,
          104.8101,
          185.4296,
          1236.5639999999999,
          292.9978,
          330.0854,
          515.1122,
          1962.628,
          4527.687,
          383.8624,
          90.45606,
          401.8807,
          432.0385,
          472.1745,
          4573.779,
          181.0766,
          1144.4360000000001,
          438.8513,
          4449.27,
          201.8939,
          2147.376,
          4082.015,
          2615.465,
          1447.286,
          2185.1279999999997,
          3078.176,
          190.0392,
          4066.587,
          616.5735,
          750.0704,
          57.58945,
          421.47900000000004,
          3771.895,
          461.1016,
          707.9067,
          126.7286,
          157.6052,
          451.6419,
          995.7554,
          561.9845,
          642.6985,
          289.3248,
          1414.8370000000002,
          1449.7220000000002,
          379.5575,
          665.0636,
          1360.139,
          175.6294,
          390.5684,
          274.0144,
          1805.665,
          90.45606,
          1783.18,
          383.7129,
          590.9292,
          372.6242,
          492.2313,
          529.7771,
          186.5101,
          1402.016,
          431.1114,
          1402.016,
          324.9419,
          193.5845,
          4082.015,
          265.0609,
          3171.329,
          1156.412,
          2147.376,
          4074.736,
          4412.765,
          333.3679,
          2216.612,
          250.63099999999997,
          373.8389,
          732.8528,
          732.8528,
          837.7233,
          1712.632,
          250.63099999999997,
          2077.39,
          204.1705,
          1559.8270000000002,
          639.6198,
          389.8219,
          1055.067,
          1009.235,
          6306.153,
          424.7132,
          1159.454,
          90.45606,
          1735.595,
          329.9747,
          5512.0380000000005,
          339.2289,
          444.1334,
          292.9978,
          837.7233,
          1485.0970000000002,
          2288.011,
          289.3248,
          2147.376,
          493.657,
          815.9314,
          1783.18,
          482.7581,
          390.5684,
          837.7233,
          252.5822,
          451.6419,
          492.2313,
          170.1289,
          394.0173,
          23.382839999999998,
          461.1016,
          2185.1279999999997,
          208.3905,
          1554.25,
          184.3302,
          387.7721,
          1455.7979999999998,
          1978.671,
          383.2805,
          718.2937,
          90.45606,
          461.1016,
          323.6912,
          289.3248,
          490.3446,
          56.47425,
          395.6747,
          383.2805,
          335.5273,
          2179.59,
          1144.4360000000001,
          567.0349,
          4082.015,
          121.7262,
          156.2442,
          461.7848,
          2288.011,
          439.7105,
          1626.0829999999999,
          289.3248,
          169.9803,
          3079.89,
          289.3248,
          1264.73,
          1643.499,
          537.7971,
          318.5292,
          104.8101,
          577.9615,
          1756.411,
          250.63099999999997,
          752.7669,
          379.5575,
          272.6783,
          4197.349,
          964.7496,
          187.4823,
          197.1338,
          1712.632,
          488.8193,
          56.47425,
          757.3377,
          1497.713,
          4197.349,
          1156.777,
          4519.69,
          617.7134,
          104.8101,
          1013.341,
          337.6016,
          1867.233,
          600.8604,
          258.186,
          329.9747,
          270.8895,
          750.0704,
          90.45606,
          563.2854,
          3085.17,
          185.4296,
          1712.632,
          6488.021,
          259.6607,
          104.8101,
          492.2313,
          2180.245,
          2674.961,
          2147.376,
          1360.139,
          383.8624,
          211.4473,
          338.9679,
          193.5845,
          2408.993,
          87.30221999999999,
          281.205,
          967.4,
          109.9455,
          614.1394,
          2261.4320000000002,
          1801.5439999999999,
          1828.319,
          350.8515,
          2185.1279999999997,
          289.3248,
          312.8963,
          157.6052,
          274.0144,
          390.5684,
          1157.988,
          1717.193,
          49.66105,
          587.8877,
          292.9978,
          289.3248,
          132.5469,
          3529.5640000000003,
          506.1144,
          4066.587,
          82.88643,
          185.4296,
          2103.555,
          2251.938,
          122.3619,
          377.8302,
          1939.749,
          443.80199999999996,
          967.4,
          4136.271,
          512.5487,
          918.6357,
          1164.838,
          1717.193,
          170.1289,
          482.7581,
          2175.03,
          187.4823,
          161.942,
          289.3248,
          130.9945,
          372.1386,
          2408.993,
          2175.744,
          4082.015,
          90.45606,
          390.9696,
          104.8101,
          90.45606
         ],
         "xaxis": "x",
         "y": [
          37.9,
          42.2,
          47.3,
          54.8,
          43.1,
          32.1,
          40.3,
          46.7,
          18.8,
          22.1,
          41.4,
          58.1,
          39.3,
          23.8,
          34.3,
          50.5,
          70.1,
          37.4,
          42.3,
          47.7,
          29.3,
          51.6,
          24.6,
          47.9,
          38.8,
          27,
          56.2,
          33.6,
          47,
          57.1,
          22.1,
          25,
          34.2,
          49.3,
          55.1,
          27.3,
          22.9,
          25.3,
          47.7,
          46.2,
          15.9,
          18.2,
          34.7,
          34.1,
          53.9,
          38.3,
          42,
          61.5,
          13.4,
          13.2,
          44.2,
          20.7,
          27,
          38.9,
          51.7,
          13.7,
          41.9,
          53.5,
          22.6,
          42.4,
          21.3,
          63.2,
          27.7,
          55,
          25.3,
          44.3,
          50.7,
          56.8,
          36.2,
          42,
          59,
          40.8,
          36.3,
          20,
          54.4,
          29.5,
          36.8,
          25.6,
          29.8,
          26.5,
          40.3,
          36.8,
          48.1,
          17.7,
          43.7,
          50.8,
          27,
          18.3,
          48,
          25.3,
          45.4,
          43.2,
          21.8,
          16.1,
          41,
          51.8,
          59.5,
          34.6,
          51,
          62.2,
          38.2,
          32.9,
          54.4,
          45.7,
          30.5,
          71,
          47.1,
          26.6,
          34.1,
          28.4,
          51.6,
          39.4,
          23.1,
          7.6,
          53.3,
          46.4,
          12.2,
          13,
          30.6,
          59.6,
          31.3,
          48,
          32.5,
          45.5,
          57.4,
          48.6,
          62.9,
          55,
          60.7,
          41,
          37.5,
          30.7,
          37.5,
          39.5,
          42.2,
          20.8,
          46.8,
          47.4,
          43.5,
          42.5,
          51.4,
          28.9,
          37.5,
          40.1,
          28.4,
          45.5,
          52.2,
          43.2,
          45.1,
          39.7,
          48.5,
          44.7,
          28.9,
          40.9,
          20.7,
          15.6,
          18.3,
          35.6,
          39.4,
          37.4,
          57.8,
          39.6,
          11.6,
          55.5,
          55.2,
          30.6,
          73.6,
          43.4,
          37.4,
          23.5,
          14.4,
          58.8,
          58.1,
          35.1,
          45.2,
          36.5,
          19.2,
          42,
          36.7,
          42.6,
          15.5,
          55.9,
          23.6,
          18.8,
          21.8,
          21.5,
          25.7,
          22,
          44.3,
          20.5,
          42.3,
          37.8,
          42.7,
          49.3,
          29.3,
          34.6,
          36.6,
          48.2,
          39.1,
          31.6,
          25.5,
          45.9,
          31.5,
          46.1,
          26.6,
          21.4,
          44,
          34.2,
          26.2,
          40.9,
          52.2,
          43.5,
          31.1,
          58,
          20.9,
          48.1,
          39.7,
          40.8,
          43.8,
          40.2,
          78.3,
          38.5,
          48.5,
          42.3,
          46,
          49,
          12.8,
          40.2,
          46.6,
          19,
          33.4,
          14.7,
          17.4,
          32.4,
          23.9,
          39.3,
          61.9,
          39,
          40.6,
          29.7,
          28.8,
          41.4,
          33.4,
          48.2,
          21.7,
          40.8,
          40.6,
          23.1,
          22.3,
          15,
          30,
          13.8,
          52.7,
          25.9,
          51.8,
          17.4,
          26.5,
          43.9,
          63.3,
          28.8,
          30.7,
          24.4,
          53,
          31.7,
          40.6,
          38.1,
          23.7,
          41.1,
          40.1,
          23,
          117.5,
          26.5,
          40.5,
          29.3,
          41,
          49.7,
          34,
          27.7,
          44,
          31.1,
          45.4,
          44.8,
          25.6,
          23.5,
          34.4,
          55.3,
          56.3,
          32.9,
          51,
          44.5,
          37,
          54.4,
          24.5,
          42.5,
          38.1,
          21.8,
          34.1,
          28.5,
          16.7,
          46.1,
          36.9,
          35.7,
          23.2,
          38.4,
          29.4,
          55,
          50.2,
          24.7,
          53,
          19.1,
          24.7,
          42.2,
          78,
          42.8,
          41.6,
          27.3,
          42,
          37.5,
          49.8,
          26.9,
          18.6,
          37.7,
          33.1,
          42.5,
          31.3,
          38.1,
          62.1,
          36.7,
          23.6,
          19.2,
          12.8,
          15.6,
          39.6,
          38.4,
          22.8,
          36.5,
          35.6,
          30.9,
          36.3,
          50.4,
          42.9,
          37,
          53.5,
          46.6,
          41.2,
          37.9,
          30.8,
          11.2,
          53.7,
          47,
          42.3,
          28.6,
          25.7,
          31.3,
          30.1,
          60.7,
          45.3,
          44.9,
          45.1,
          24.7,
          47.1,
          63.3,
          40,
          48,
          33.1,
          29.5,
          24.8,
          20.9,
          43.1,
          22.8,
          42.1,
          51.7,
          41.5,
          52.2,
          49.5,
          23.8,
          30.5,
          56.8,
          37.4,
          69.7,
          53.3,
          47.3,
          29.3,
          40.3,
          12.9,
          46.6,
          55.3,
          25.6,
          27.3,
          67.7,
          38.6,
          31.3,
          35.3,
          40.3,
          24.7,
          42.5,
          31.9,
          32.2,
          23,
          37.3,
          35.5,
          27.7,
          28.5,
          39.7,
          41.2,
          37.2,
          40.5,
          22.3,
          28.1,
          15.4,
          50,
          40.6,
          52.5,
          63.9
         ],
         "yaxis": "y"
        },
        {
         "line": {
          "color": "limegreen"
         },
         "marker": {
          "size": 3
         },
         "name": "Linear Regression",
         "type": "scatter",
         "x": [
          23.382839999999998,
          88.68221535353536,
          153.9815907070707,
          219.28096606060603,
          284.5803414141414,
          349.87971676767677,
          415.1790921212121,
          480.47846747474745,
          545.7778428282828,
          611.0772181818181,
          676.3765935353535,
          741.6759688888889,
          806.9753442424242,
          872.2747195959596,
          937.5740949494949,
          1002.8734703030303,
          1068.1728456565656,
          1133.472221010101,
          1198.7715963636363,
          1264.0709717171717,
          1329.370347070707,
          1394.6697224242423,
          1459.9690977777777,
          1525.2684731313132,
          1590.5678484848484,
          1655.8672238383838,
          1721.1665991919192,
          1786.4659745454546,
          1851.7653498989898,
          1917.0647252525252,
          1982.3641006060607,
          2047.6634759595959,
          2112.9628513131315,
          2178.2622266666667,
          2243.5616020202024,
          2308.8609773737376,
          2374.1603527272728,
          2439.4597280808084,
          2504.7591034343436,
          2570.058478787879,
          2635.3578541414145,
          2700.6572294949497,
          2765.956604848485,
          2831.2559802020205,
          2896.5553555555557,
          2961.854730909091,
          3027.1541062626266,
          3092.4534816161618,
          3157.752856969697,
          3223.0522323232326,
          3288.351607676768,
          3353.6509830303035,
          3418.9503583838386,
          3484.249733737374,
          3549.5491090909095,
          3614.8484844444447,
          3680.14785979798,
          3745.4472351515155,
          3810.7466105050507,
          3876.045985858586,
          3941.3453612121216,
          4006.644736565657,
          4071.944111919192,
          4137.243487272727,
          4202.542862626263,
          4267.8422379797985,
          4333.141613333333,
          4398.440988686869,
          4463.7403640404045,
          4529.039739393939,
          4594.339114747475,
          4659.638490101011,
          4724.937865454545,
          4790.237240808081,
          4855.536616161617,
          4920.835991515151,
          4986.135366868687,
          5051.434742222223,
          5116.734117575757,
          5182.033492929293,
          5247.332868282829,
          5312.6322436363635,
          5377.931618989899,
          5443.230994343435,
          5508.5303696969695,
          5573.829745050505,
          5639.129120404041,
          5704.428495757576,
          5769.727871111111,
          5835.027246464647,
          5900.326621818182,
          5965.625997171717,
          6030.925372525253,
          6096.224747878788,
          6161.524123232323,
          6226.823498585859,
          6292.122873939394,
          6357.422249292929,
          6422.721624646465,
          6488.021
         ],
         "y": [
          45.681619666716045,
          45.20741223226576,
          44.73320479781547,
          44.258997363365175,
          43.78478992891489,
          43.3105824944646,
          42.836375060014305,
          42.36216762556402,
          41.88796019111373,
          41.41375275666344,
          40.93954532221315,
          40.46533788776286,
          39.991130453312564,
          39.51692301886228,
          39.04271558441199,
          38.5685081499617,
          38.09430071551141,
          37.620093281061116,
          37.14588584661083,
          36.67167841216054,
          36.197470977710246,
          35.72326354325996,
          35.24905610880967,
          34.774848674359376,
          34.30064123990909,
          33.8264338054588,
          33.352226371008506,
          32.87801893655822,
          32.40381150210793,
          31.929604067657635,
          31.45539663320735,
          30.981189198757058,
          30.506981764306765,
          30.03277432985648,
          29.558566895406184,
          29.0843594609559,
          28.61015202650561,
          28.135944592055317,
          27.661737157605028,
          27.18752972315474,
          26.713322288704447,
          26.239114854254158,
          25.76490741980387,
          25.290699985353577,
          24.816492550903288,
          24.342285116453,
          23.868077682002706,
          23.393870247552417,
          22.91966281310213,
          22.445455378651836,
          21.971247944201547,
          21.497040509751255,
          21.022833075300966,
          20.548625640850677,
          20.074418206400384,
          19.600210771950096,
          19.126003337499807,
          18.651795903049514,
          18.177588468599225,
          17.70338103414894,
          17.229173599698647,
          16.75496616524836,
          16.28075873079807,
          15.80655129634778,
          15.332343861897488,
          14.858136427447196,
          14.38392899299691,
          13.909721558546618,
          13.435514124096322,
          12.961306689646037,
          12.487099255195744,
          12.012891820745459,
          11.538684386295174,
          11.064476951844881,
          10.590269517394589,
          10.116062082944303,
          9.64185464849401,
          9.167647214043718,
          8.693439779593433,
          8.21923234514314,
          7.745024910692848,
          7.270817476242563,
          6.79661004179227,
          6.322402607341978,
          5.8481951728916926,
          5.3739877384414,
          4.899780303991108,
          4.425572869540822,
          3.95136543509053,
          3.4771580006402374,
          3.002950566189952,
          2.5287431317396596,
          2.054535697289367,
          1.5803282628390818,
          1.1061208283887893,
          0.6319133939384969,
          0.15770595948821153,
          -0.3165014749620809,
          -0.7907089094123734,
          -1.2649163438626587
         ]
        },
        {
         "line": {
          "color": "red"
         },
         "marker": {
          "size": 3
         },
         "name": "Support Vector Regression",
         "type": "scatter",
         "x": [
          23.382839999999998,
          88.68221535353536,
          153.9815907070707,
          219.28096606060603,
          284.5803414141414,
          349.87971676767677,
          415.1790921212121,
          480.47846747474745,
          545.7778428282828,
          611.0772181818181,
          676.3765935353535,
          741.6759688888889,
          806.9753442424242,
          872.2747195959596,
          937.5740949494949,
          1002.8734703030303,
          1068.1728456565656,
          1133.472221010101,
          1198.7715963636363,
          1264.0709717171717,
          1329.370347070707,
          1394.6697224242423,
          1459.9690977777777,
          1525.2684731313132,
          1590.5678484848484,
          1655.8672238383838,
          1721.1665991919192,
          1786.4659745454546,
          1851.7653498989898,
          1917.0647252525252,
          1982.3641006060607,
          2047.6634759595959,
          2112.9628513131315,
          2178.2622266666667,
          2243.5616020202024,
          2308.8609773737376,
          2374.1603527272728,
          2439.4597280808084,
          2504.7591034343436,
          2570.058478787879,
          2635.3578541414145,
          2700.6572294949497,
          2765.956604848485,
          2831.2559802020205,
          2896.5553555555557,
          2961.854730909091,
          3027.1541062626266,
          3092.4534816161618,
          3157.752856969697,
          3223.0522323232326,
          3288.351607676768,
          3353.6509830303035,
          3418.9503583838386,
          3484.249733737374,
          3549.5491090909095,
          3614.8484844444447,
          3680.14785979798,
          3745.4472351515155,
          3810.7466105050507,
          3876.045985858586,
          3941.3453612121216,
          4006.644736565657,
          4071.944111919192,
          4137.243487272727,
          4202.542862626263,
          4267.8422379797985,
          4333.141613333333,
          4398.440988686869,
          4463.7403640404045,
          4529.039739393939,
          4594.339114747475,
          4659.638490101011,
          4724.937865454545,
          4790.237240808081,
          4855.536616161617,
          4920.835991515151,
          4986.135366868687,
          5051.434742222223,
          5116.734117575757,
          5182.033492929293,
          5247.332868282829,
          5312.6322436363635,
          5377.931618989899,
          5443.230994343435,
          5508.5303696969695,
          5573.829745050505,
          5639.129120404041,
          5704.428495757576,
          5769.727871111111,
          5835.027246464647,
          5900.326621818182,
          5965.625997171717,
          6030.925372525253,
          6096.224747878788,
          6161.524123232323,
          6226.823498585859,
          6292.122873939394,
          6357.422249292929,
          6422.721624646465,
          6488.021
         ],
         "y": [
          46.58141675480992,
          46.30843262670433,
          45.92996677633798,
          45.449773486000325,
          44.87356553535595,
          44.20890705506075,
          43.46505147545481,
          42.652729342357105,
          41.783892753803954,
          40.8714248748563,
          39.92882432774381,
          38.96987516590116,
          38.008313579973915,
          37.05750243403566,
          36.13012419971855,
          35.23790187892149,
          34.39135613968438,
          33.59960521172771,
          32.87021218977553,
          32.2090823748615,
          31.620411250043453,
          31.10668173782311,
          30.668707613670744,
          30.305718431081782,
          30.015480108408898,
          29.794444475685065,
          29.63792059836864,
          29.540260580336966,
          29.49505277628304,
          29.495315872141486,
          29.533688065544382,
          29.60260653114671,
          29.694473417435123,
          29.801805721366684,
          29.917367457832707,
          30.0342835232511,
          30.146135498199705,
          30.247040307672744,
          30.33171313839064,
          30.39551629434753,
          30.43449576208306,
          30.445407176037854,
          30.425732651978656,
          30.373689630475088,
          30.288232484798836,
          30.169047241706217,
          30.01653938093873,
          29.831814357062534,
          29.61665025585812,
          29.373461878793087,
          29.10525555552857,
          28.815574118301853,
          28.508431726013114,
          28.18823858362861,
          27.859716040262562,
          27.527803037439632,
          27.197555384345634,
          26.87403982471801,
          26.56222529663529,
          26.26687414104382,
          25.992436261475106,
          25.7429493565,
          25.52194832593989,
          25.33238678767422,
          25.17657333817191,
          25.056124758529347,
          24.971937827655807,
          24.92418077987984,
          24.912304764470896,
          24.935074960755625,
          24.99062030684708,
          25.076500143775156,
          25.189785488779094,
          25.327152156585118,
          25.484982565542026,
          25.659472810659217,
          25.846741465818717,
          26.042936594357784,
          26.244337596426025,
          26.447448793042962,
          26.649082025853474,
          26.846426019543404,
          27.03710078922672,
          27.219195954558696,
          27.391292421873494,
          27.5524674916117,
          27.702284018263782,
          27.84076477363592,
          27.968353623803306,
          28.085865511262448,
          28.19442752576611,
          28.29541354320256,
          28.390375008669253,
          28.48097043845117,
          28.568896120475763,
          28.6558203118674,
          28.743322976294625,
          28.83284278615547,
          28.925632750387635,
          29.022725434128233
         ]
        },
        {
         "line": {
          "color": "red",
          "dash": "dot"
         },
         "marker": {
          "size": 3
         },
         "name": "+epsilon",
         "type": "scatter",
         "x": [
          23.382839999999998,
          88.68221535353536,
          153.9815907070707,
          219.28096606060603,
          284.5803414141414,
          349.87971676767677,
          415.1790921212121,
          480.47846747474745,
          545.7778428282828,
          611.0772181818181,
          676.3765935353535,
          741.6759688888889,
          806.9753442424242,
          872.2747195959596,
          937.5740949494949,
          1002.8734703030303,
          1068.1728456565656,
          1133.472221010101,
          1198.7715963636363,
          1264.0709717171717,
          1329.370347070707,
          1394.6697224242423,
          1459.9690977777777,
          1525.2684731313132,
          1590.5678484848484,
          1655.8672238383838,
          1721.1665991919192,
          1786.4659745454546,
          1851.7653498989898,
          1917.0647252525252,
          1982.3641006060607,
          2047.6634759595959,
          2112.9628513131315,
          2178.2622266666667,
          2243.5616020202024,
          2308.8609773737376,
          2374.1603527272728,
          2439.4597280808084,
          2504.7591034343436,
          2570.058478787879,
          2635.3578541414145,
          2700.6572294949497,
          2765.956604848485,
          2831.2559802020205,
          2896.5553555555557,
          2961.854730909091,
          3027.1541062626266,
          3092.4534816161618,
          3157.752856969697,
          3223.0522323232326,
          3288.351607676768,
          3353.6509830303035,
          3418.9503583838386,
          3484.249733737374,
          3549.5491090909095,
          3614.8484844444447,
          3680.14785979798,
          3745.4472351515155,
          3810.7466105050507,
          3876.045985858586,
          3941.3453612121216,
          4006.644736565657,
          4071.944111919192,
          4137.243487272727,
          4202.542862626263,
          4267.8422379797985,
          4333.141613333333,
          4398.440988686869,
          4463.7403640404045,
          4529.039739393939,
          4594.339114747475,
          4659.638490101011,
          4724.937865454545,
          4790.237240808081,
          4855.536616161617,
          4920.835991515151,
          4986.135366868687,
          5051.434742222223,
          5116.734117575757,
          5182.033492929293,
          5247.332868282829,
          5312.6322436363635,
          5377.931618989899,
          5443.230994343435,
          5508.5303696969695,
          5573.829745050505,
          5639.129120404041,
          5704.428495757576,
          5769.727871111111,
          5835.027246464647,
          5900.326621818182,
          5965.625997171717,
          6030.925372525253,
          6096.224747878788,
          6161.524123232323,
          6226.823498585859,
          6292.122873939394,
          6357.422249292929,
          6422.721624646465,
          6488.021
         ],
         "y": [
          56.58141675480992,
          56.30843262670433,
          55.92996677633798,
          55.449773486000325,
          54.87356553535595,
          54.20890705506075,
          53.46505147545481,
          52.652729342357105,
          51.783892753803954,
          50.8714248748563,
          49.92882432774381,
          48.96987516590116,
          48.008313579973915,
          47.05750243403566,
          46.13012419971855,
          45.23790187892149,
          44.39135613968438,
          43.59960521172771,
          42.87021218977553,
          42.2090823748615,
          41.62041125004345,
          41.10668173782311,
          40.66870761367075,
          40.305718431081786,
          40.015480108408894,
          39.79444447568507,
          39.63792059836864,
          39.54026058033696,
          39.49505277628304,
          39.49531587214149,
          39.53368806554438,
          39.602606531146705,
          39.69447341743512,
          39.801805721366684,
          39.91736745783271,
          40.034283523251105,
          40.146135498199705,
          40.24704030767275,
          40.33171313839064,
          40.39551629434753,
          40.43449576208306,
          40.445407176037854,
          40.425732651978656,
          40.373689630475084,
          40.28823248479884,
          40.16904724170622,
          40.01653938093873,
          39.831814357062534,
          39.61665025585812,
          39.37346187879309,
          39.10525555552857,
          38.81557411830185,
          38.508431726013114,
          38.18823858362861,
          37.85971604026256,
          37.52780303743963,
          37.197555384345634,
          36.87403982471801,
          36.56222529663529,
          36.26687414104382,
          35.992436261475106,
          35.7429493565,
          35.52194832593989,
          35.332386787674224,
          35.176573338171906,
          35.05612475852935,
          34.97193782765581,
          34.92418077987984,
          34.912304764470896,
          34.93507496075563,
          34.99062030684708,
          35.07650014377516,
          35.189785488779094,
          35.327152156585115,
          35.484982565542026,
          35.65947281065922,
          35.84674146581872,
          36.04293659435778,
          36.24433759642602,
          36.447448793042966,
          36.649082025853474,
          36.8464260195434,
          37.03710078922672,
          37.2191959545587,
          37.391292421873494,
          37.5524674916117,
          37.70228401826378,
          37.840764773635925,
          37.96835362380331,
          38.08586551126245,
          38.19442752576611,
          38.29541354320256,
          38.39037500866925,
          38.480970438451166,
          38.56889612047576,
          38.6558203118674,
          38.74332297629462,
          38.83284278615547,
          38.925632750387635,
          39.02272543412823
         ]
        },
        {
         "line": {
          "color": "red",
          "dash": "dot"
         },
         "marker": {
          "size": 3
         },
         "name": "-epsilon",
         "type": "scatter",
         "x": [
          23.382839999999998,
          88.68221535353536,
          153.9815907070707,
          219.28096606060603,
          284.5803414141414,
          349.87971676767677,
          415.1790921212121,
          480.47846747474745,
          545.7778428282828,
          611.0772181818181,
          676.3765935353535,
          741.6759688888889,
          806.9753442424242,
          872.2747195959596,
          937.5740949494949,
          1002.8734703030303,
          1068.1728456565656,
          1133.472221010101,
          1198.7715963636363,
          1264.0709717171717,
          1329.370347070707,
          1394.6697224242423,
          1459.9690977777777,
          1525.2684731313132,
          1590.5678484848484,
          1655.8672238383838,
          1721.1665991919192,
          1786.4659745454546,
          1851.7653498989898,
          1917.0647252525252,
          1982.3641006060607,
          2047.6634759595959,
          2112.9628513131315,
          2178.2622266666667,
          2243.5616020202024,
          2308.8609773737376,
          2374.1603527272728,
          2439.4597280808084,
          2504.7591034343436,
          2570.058478787879,
          2635.3578541414145,
          2700.6572294949497,
          2765.956604848485,
          2831.2559802020205,
          2896.5553555555557,
          2961.854730909091,
          3027.1541062626266,
          3092.4534816161618,
          3157.752856969697,
          3223.0522323232326,
          3288.351607676768,
          3353.6509830303035,
          3418.9503583838386,
          3484.249733737374,
          3549.5491090909095,
          3614.8484844444447,
          3680.14785979798,
          3745.4472351515155,
          3810.7466105050507,
          3876.045985858586,
          3941.3453612121216,
          4006.644736565657,
          4071.944111919192,
          4137.243487272727,
          4202.542862626263,
          4267.8422379797985,
          4333.141613333333,
          4398.440988686869,
          4463.7403640404045,
          4529.039739393939,
          4594.339114747475,
          4659.638490101011,
          4724.937865454545,
          4790.237240808081,
          4855.536616161617,
          4920.835991515151,
          4986.135366868687,
          5051.434742222223,
          5116.734117575757,
          5182.033492929293,
          5247.332868282829,
          5312.6322436363635,
          5377.931618989899,
          5443.230994343435,
          5508.5303696969695,
          5573.829745050505,
          5639.129120404041,
          5704.428495757576,
          5769.727871111111,
          5835.027246464647,
          5900.326621818182,
          5965.625997171717,
          6030.925372525253,
          6096.224747878788,
          6161.524123232323,
          6226.823498585859,
          6292.122873939394,
          6357.422249292929,
          6422.721624646465,
          6488.021
         ],
         "y": [
          36.58141675480992,
          36.30843262670433,
          35.92996677633798,
          35.449773486000325,
          34.87356553535595,
          34.20890705506075,
          33.46505147545481,
          32.652729342357105,
          31.783892753803954,
          30.871424874856302,
          29.92882432774381,
          28.969875165901158,
          28.008313579973915,
          27.057502434035662,
          26.13012419971855,
          25.23790187892149,
          24.391356139684383,
          23.599605211727713,
          22.87021218977553,
          22.209082374861502,
          21.620411250043453,
          21.10668173782311,
          20.668707613670744,
          20.305718431081782,
          20.015480108408898,
          19.794444475685065,
          19.63792059836864,
          19.540260580336966,
          19.49505277628304,
          19.495315872141486,
          19.533688065544382,
          19.60260653114671,
          19.694473417435123,
          19.801805721366684,
          19.917367457832707,
          20.0342835232511,
          20.146135498199705,
          20.247040307672744,
          20.33171313839064,
          20.39551629434753,
          20.43449576208306,
          20.445407176037854,
          20.425732651978656,
          20.373689630475088,
          20.288232484798836,
          20.169047241706217,
          20.01653938093873,
          19.831814357062534,
          19.61665025585812,
          19.373461878793087,
          19.10525555552857,
          18.815574118301853,
          18.508431726013114,
          18.18823858362861,
          17.859716040262562,
          17.527803037439632,
          17.197555384345634,
          16.87403982471801,
          16.56222529663529,
          16.26687414104382,
          15.992436261475106,
          15.742949356499999,
          15.521948325939888,
          15.33238678767422,
          15.17657333817191,
          15.056124758529347,
          14.971937827655807,
          14.92418077987984,
          14.912304764470896,
          14.935074960755625,
          14.990620306847081,
          15.076500143775156,
          15.189785488779094,
          15.327152156585118,
          15.484982565542026,
          15.659472810659217,
          15.846741465818717,
          16.042936594357784,
          16.244337596426025,
          16.447448793042962,
          16.649082025853474,
          16.846426019543404,
          17.03710078922672,
          17.219195954558696,
          17.391292421873494,
          17.5524674916117,
          17.702284018263782,
          17.84076477363592,
          17.968353623803306,
          18.085865511262448,
          18.19442752576611,
          18.29541354320256,
          18.390375008669253,
          18.48097043845117,
          18.568896120475763,
          18.6558203118674,
          18.743322976294625,
          18.83284278615547,
          18.925632750387635,
          19.022725434128233
         ]
        }
       ],
       "layout": {
        "legend": {
         "tracegroupgap": 0
        },
        "margin": {
         "t": 60
        },
        "plot_bgcolor": "white",
        "template": {
         "data": {
          "bar": [
           {
            "error_x": {
             "color": "#2a3f5f"
            },
            "error_y": {
             "color": "#2a3f5f"
            },
            "marker": {
             "line": {
              "color": "#E5ECF6",
              "width": 0.5
             },
             "pattern": {
              "fillmode": "overlay",
              "size": 10,
              "solidity": 0.2
             }
            },
            "type": "bar"
           }
          ],
          "barpolar": [
           {
            "marker": {
             "line": {
              "color": "#E5ECF6",
              "width": 0.5
             },
             "pattern": {
              "fillmode": "overlay",
              "size": 10,
              "solidity": 0.2
             }
            },
            "type": "barpolar"
           }
          ],
          "carpet": [
           {
            "aaxis": {
             "endlinecolor": "#2a3f5f",
             "gridcolor": "white",
             "linecolor": "white",
             "minorgridcolor": "white",
             "startlinecolor": "#2a3f5f"
            },
            "baxis": {
             "endlinecolor": "#2a3f5f",
             "gridcolor": "white",
             "linecolor": "white",
             "minorgridcolor": "white",
             "startlinecolor": "#2a3f5f"
            },
            "type": "carpet"
           }
          ],
          "choropleth": [
           {
            "colorbar": {
             "outlinewidth": 0,
             "ticks": ""
            },
            "type": "choropleth"
           }
          ],
          "contour": [
           {
            "colorbar": {
             "outlinewidth": 0,
             "ticks": ""
            },
            "colorscale": [
             [
              0,
              "#0d0887"
             ],
             [
              0.1111111111111111,
              "#46039f"
             ],
             [
              0.2222222222222222,
              "#7201a8"
             ],
             [
              0.3333333333333333,
              "#9c179e"
             ],
             [
              0.4444444444444444,
              "#bd3786"
             ],
             [
              0.5555555555555556,
              "#d8576b"
             ],
             [
              0.6666666666666666,
              "#ed7953"
             ],
             [
              0.7777777777777778,
              "#fb9f3a"
             ],
             [
              0.8888888888888888,
              "#fdca26"
             ],
             [
              1,
              "#f0f921"
             ]
            ],
            "type": "contour"
           }
          ],
          "contourcarpet": [
           {
            "colorbar": {
             "outlinewidth": 0,
             "ticks": ""
            },
            "type": "contourcarpet"
           }
          ],
          "heatmap": [
           {
            "colorbar": {
             "outlinewidth": 0,
             "ticks": ""
            },
            "colorscale": [
             [
              0,
              "#0d0887"
             ],
             [
              0.1111111111111111,
              "#46039f"
             ],
             [
              0.2222222222222222,
              "#7201a8"
             ],
             [
              0.3333333333333333,
              "#9c179e"
             ],
             [
              0.4444444444444444,
              "#bd3786"
             ],
             [
              0.5555555555555556,
              "#d8576b"
             ],
             [
              0.6666666666666666,
              "#ed7953"
             ],
             [
              0.7777777777777778,
              "#fb9f3a"
             ],
             [
              0.8888888888888888,
              "#fdca26"
             ],
             [
              1,
              "#f0f921"
             ]
            ],
            "type": "heatmap"
           }
          ],
          "heatmapgl": [
           {
            "colorbar": {
             "outlinewidth": 0,
             "ticks": ""
            },
            "colorscale": [
             [
              0,
              "#0d0887"
             ],
             [
              0.1111111111111111,
              "#46039f"
             ],
             [
              0.2222222222222222,
              "#7201a8"
             ],
             [
              0.3333333333333333,
              "#9c179e"
             ],
             [
              0.4444444444444444,
              "#bd3786"
             ],
             [
              0.5555555555555556,
              "#d8576b"
             ],
             [
              0.6666666666666666,
              "#ed7953"
             ],
             [
              0.7777777777777778,
              "#fb9f3a"
             ],
             [
              0.8888888888888888,
              "#fdca26"
             ],
             [
              1,
              "#f0f921"
             ]
            ],
            "type": "heatmapgl"
           }
          ],
          "histogram": [
           {
            "marker": {
             "pattern": {
              "fillmode": "overlay",
              "size": 10,
              "solidity": 0.2
             }
            },
            "type": "histogram"
           }
          ],
          "histogram2d": [
           {
            "colorbar": {
             "outlinewidth": 0,
             "ticks": ""
            },
            "colorscale": [
             [
              0,
              "#0d0887"
             ],
             [
              0.1111111111111111,
              "#46039f"
             ],
             [
              0.2222222222222222,
              "#7201a8"
             ],
             [
              0.3333333333333333,
              "#9c179e"
             ],
             [
              0.4444444444444444,
              "#bd3786"
             ],
             [
              0.5555555555555556,
              "#d8576b"
             ],
             [
              0.6666666666666666,
              "#ed7953"
             ],
             [
              0.7777777777777778,
              "#fb9f3a"
             ],
             [
              0.8888888888888888,
              "#fdca26"
             ],
             [
              1,
              "#f0f921"
             ]
            ],
            "type": "histogram2d"
           }
          ],
          "histogram2dcontour": [
           {
            "colorbar": {
             "outlinewidth": 0,
             "ticks": ""
            },
            "colorscale": [
             [
              0,
              "#0d0887"
             ],
             [
              0.1111111111111111,
              "#46039f"
             ],
             [
              0.2222222222222222,
              "#7201a8"
             ],
             [
              0.3333333333333333,
              "#9c179e"
             ],
             [
              0.4444444444444444,
              "#bd3786"
             ],
             [
              0.5555555555555556,
              "#d8576b"
             ],
             [
              0.6666666666666666,
              "#ed7953"
             ],
             [
              0.7777777777777778,
              "#fb9f3a"
             ],
             [
              0.8888888888888888,
              "#fdca26"
             ],
             [
              1,
              "#f0f921"
             ]
            ],
            "type": "histogram2dcontour"
           }
          ],
          "mesh3d": [
           {
            "colorbar": {
             "outlinewidth": 0,
             "ticks": ""
            },
            "type": "mesh3d"
           }
          ],
          "parcoords": [
           {
            "line": {
             "colorbar": {
              "outlinewidth": 0,
              "ticks": ""
             }
            },
            "type": "parcoords"
           }
          ],
          "pie": [
           {
            "automargin": true,
            "type": "pie"
           }
          ],
          "scatter": [
           {
            "marker": {
             "colorbar": {
              "outlinewidth": 0,
              "ticks": ""
             }
            },
            "type": "scatter"
           }
          ],
          "scatter3d": [
           {
            "line": {
             "colorbar": {
              "outlinewidth": 0,
              "ticks": ""
             }
            },
            "marker": {
             "colorbar": {
              "outlinewidth": 0,
              "ticks": ""
             }
            },
            "type": "scatter3d"
           }
          ],
          "scattercarpet": [
           {
            "marker": {
             "colorbar": {
              "outlinewidth": 0,
              "ticks": ""
             }
            },
            "type": "scattercarpet"
           }
          ],
          "scattergeo": [
           {
            "marker": {
             "colorbar": {
              "outlinewidth": 0,
              "ticks": ""
             }
            },
            "type": "scattergeo"
           }
          ],
          "scattergl": [
           {
            "marker": {
             "colorbar": {
              "outlinewidth": 0,
              "ticks": ""
             }
            },
            "type": "scattergl"
           }
          ],
          "scattermapbox": [
           {
            "marker": {
             "colorbar": {
              "outlinewidth": 0,
              "ticks": ""
             }
            },
            "type": "scattermapbox"
           }
          ],
          "scatterpolar": [
           {
            "marker": {
             "colorbar": {
              "outlinewidth": 0,
              "ticks": ""
             }
            },
            "type": "scatterpolar"
           }
          ],
          "scatterpolargl": [
           {
            "marker": {
             "colorbar": {
              "outlinewidth": 0,
              "ticks": ""
             }
            },
            "type": "scatterpolargl"
           }
          ],
          "scatterternary": [
           {
            "marker": {
             "colorbar": {
              "outlinewidth": 0,
              "ticks": ""
             }
            },
            "type": "scatterternary"
           }
          ],
          "surface": [
           {
            "colorbar": {
             "outlinewidth": 0,
             "ticks": ""
            },
            "colorscale": [
             [
              0,
              "#0d0887"
             ],
             [
              0.1111111111111111,
              "#46039f"
             ],
             [
              0.2222222222222222,
              "#7201a8"
             ],
             [
              0.3333333333333333,
              "#9c179e"
             ],
             [
              0.4444444444444444,
              "#bd3786"
             ],
             [
              0.5555555555555556,
              "#d8576b"
             ],
             [
              0.6666666666666666,
              "#ed7953"
             ],
             [
              0.7777777777777778,
              "#fb9f3a"
             ],
             [
              0.8888888888888888,
              "#fdca26"
             ],
             [
              1,
              "#f0f921"
             ]
            ],
            "type": "surface"
           }
          ],
          "table": [
           {
            "cells": {
             "fill": {
              "color": "#EBF0F8"
             },
             "line": {
              "color": "white"
             }
            },
            "header": {
             "fill": {
              "color": "#C8D4E3"
             },
             "line": {
              "color": "white"
             }
            },
            "type": "table"
           }
          ]
         },
         "layout": {
          "annotationdefaults": {
           "arrowcolor": "#2a3f5f",
           "arrowhead": 0,
           "arrowwidth": 1
          },
          "autotypenumbers": "strict",
          "coloraxis": {
           "colorbar": {
            "outlinewidth": 0,
            "ticks": ""
           }
          },
          "colorscale": {
           "diverging": [
            [
             0,
             "#8e0152"
            ],
            [
             0.1,
             "#c51b7d"
            ],
            [
             0.2,
             "#de77ae"
            ],
            [
             0.3,
             "#f1b6da"
            ],
            [
             0.4,
             "#fde0ef"
            ],
            [
             0.5,
             "#f7f7f7"
            ],
            [
             0.6,
             "#e6f5d0"
            ],
            [
             0.7,
             "#b8e186"
            ],
            [
             0.8,
             "#7fbc41"
            ],
            [
             0.9,
             "#4d9221"
            ],
            [
             1,
             "#276419"
            ]
           ],
           "sequential": [
            [
             0,
             "#0d0887"
            ],
            [
             0.1111111111111111,
             "#46039f"
            ],
            [
             0.2222222222222222,
             "#7201a8"
            ],
            [
             0.3333333333333333,
             "#9c179e"
            ],
            [
             0.4444444444444444,
             "#bd3786"
            ],
            [
             0.5555555555555556,
             "#d8576b"
            ],
            [
             0.6666666666666666,
             "#ed7953"
            ],
            [
             0.7777777777777778,
             "#fb9f3a"
            ],
            [
             0.8888888888888888,
             "#fdca26"
            ],
            [
             1,
             "#f0f921"
            ]
           ],
           "sequentialminus": [
            [
             0,
             "#0d0887"
            ],
            [
             0.1111111111111111,
             "#46039f"
            ],
            [
             0.2222222222222222,
             "#7201a8"
            ],
            [
             0.3333333333333333,
             "#9c179e"
            ],
            [
             0.4444444444444444,
             "#bd3786"
            ],
            [
             0.5555555555555556,
             "#d8576b"
            ],
            [
             0.6666666666666666,
             "#ed7953"
            ],
            [
             0.7777777777777778,
             "#fb9f3a"
            ],
            [
             0.8888888888888888,
             "#fdca26"
            ],
            [
             1,
             "#f0f921"
            ]
           ]
          },
          "colorway": [
           "#636efa",
           "#EF553B",
           "#00cc96",
           "#ab63fa",
           "#FFA15A",
           "#19d3f3",
           "#FF6692",
           "#B6E880",
           "#FF97FF",
           "#FECB52"
          ],
          "font": {
           "color": "#2a3f5f"
          },
          "geo": {
           "bgcolor": "white",
           "lakecolor": "white",
           "landcolor": "#E5ECF6",
           "showlakes": true,
           "showland": true,
           "subunitcolor": "white"
          },
          "hoverlabel": {
           "align": "left"
          },
          "hovermode": "closest",
          "mapbox": {
           "style": "light"
          },
          "paper_bgcolor": "white",
          "plot_bgcolor": "#E5ECF6",
          "polar": {
           "angularaxis": {
            "gridcolor": "white",
            "linecolor": "white",
            "ticks": ""
           },
           "bgcolor": "#E5ECF6",
           "radialaxis": {
            "gridcolor": "white",
            "linecolor": "white",
            "ticks": ""
           }
          },
          "scene": {
           "xaxis": {
            "backgroundcolor": "#E5ECF6",
            "gridcolor": "white",
            "gridwidth": 2,
            "linecolor": "white",
            "showbackground": true,
            "ticks": "",
            "zerolinecolor": "white"
           },
           "yaxis": {
            "backgroundcolor": "#E5ECF6",
            "gridcolor": "white",
            "gridwidth": 2,
            "linecolor": "white",
            "showbackground": true,
            "ticks": "",
            "zerolinecolor": "white"
           },
           "zaxis": {
            "backgroundcolor": "#E5ECF6",
            "gridcolor": "white",
            "gridwidth": 2,
            "linecolor": "white",
            "showbackground": true,
            "ticks": "",
            "zerolinecolor": "white"
           }
          },
          "shapedefaults": {
           "line": {
            "color": "#2a3f5f"
           }
          },
          "ternary": {
           "aaxis": {
            "gridcolor": "white",
            "linecolor": "white",
            "ticks": ""
           },
           "baxis": {
            "gridcolor": "white",
            "linecolor": "white",
            "ticks": ""
           },
           "bgcolor": "#E5ECF6",
           "caxis": {
            "gridcolor": "white",
            "linecolor": "white",
            "ticks": ""
           }
          },
          "title": {
           "x": 0.05
          },
          "xaxis": {
           "automargin": true,
           "gridcolor": "white",
           "linecolor": "white",
           "ticks": "",
           "title": {
            "standoff": 15
           },
           "zerolinecolor": "white",
           "zerolinewidth": 2
          },
          "yaxis": {
           "automargin": true,
           "gridcolor": "white",
           "linecolor": "white",
           "ticks": "",
           "title": {
            "standoff": 15
           },
           "zerolinecolor": "white",
           "zerolinewidth": 2
          }
         }
        },
        "title": {
         "font": {
          "color": "black"
         },
         "text": "House Price Based on Distance from the Nearest MRT with Model Predictions (epsilon=10, C=1)"
        },
        "xaxis": {
         "anchor": "y",
         "domain": [
          0,
          1
         ],
         "gridcolor": "lightgrey",
         "gridwidth": 1,
         "linecolor": "black",
         "linewidth": 1,
         "showgrid": true,
         "showline": true,
         "title": {
          "text": "X3 distance to the nearest MRT station"
         },
         "zeroline": true,
         "zerolinecolor": "lightgrey",
         "zerolinewidth": 1
        },
        "yaxis": {
         "anchor": "x",
         "domain": [
          0,
          1
         ],
         "gridcolor": "lightgrey",
         "gridwidth": 1,
         "linecolor": "black",
         "linewidth": 1,
         "showgrid": true,
         "showline": true,
         "title": {
          "text": "Y house price of unit area"
         },
         "zeroline": true,
         "zerolinecolor": "lightgrey",
         "zerolinewidth": 1
        }
       }
      }
     },
     "metadata": {},
     "output_type": "display_data"
    }
   ],
   "source": [
    "fig = px.scatter(df, x=df['X3 distance to the nearest MRT station'], y=df['Y house price of unit area'], \n",
    "                 opacity=0.8, color_discrete_sequence=['black'])\n",
    "\n",
    "fig.add_traces(go.Scatter(x=x_range, y=y_lr, name='Linear Regression', line=dict(color='limegreen')))\n",
    "fig.add_traces(go.Scatter(x=x_range, y=y_svr, name='Support Vector Regression', line=dict(color='red')))\n",
    "fig.add_traces(go.Scatter(x=x_range, y=y_svr+10, name='+epsilon', line=dict(color='red', dash='dot')))\n",
    "fig.add_traces(go.Scatter(x=x_range, y=y_svr-10, name='-epsilon', line=dict(color='red', dash='dot')))\n",
    "\n",
    "fig.update_layout(dict(plot_bgcolor = 'white'))\n",
    "\n",
    "fig.update_xaxes(showgrid=True, gridwidth=1, gridcolor='lightgrey', \n",
    "                 zeroline=True, zerolinewidth=1, zerolinecolor='lightgrey', \n",
    "                 showline=True, linewidth=1, linecolor='black')\n",
    "\n",
    "fig.update_yaxes(showgrid=True, gridwidth=1, gridcolor='lightgrey', \n",
    "                 zeroline=True, zerolinewidth=1, zerolinecolor='lightgrey', \n",
    "                 showline=True, linewidth=1, linecolor='black')\n",
    "\n",
    "fig.update_layout(title=dict(text=\"House Price Based on Distance from the Nearest MRT with Model Predictions (epsilon=10, C=1)\", \n",
    "                             font=dict(color='black')))\n",
    "fig.update_traces(marker=dict(size=3))\n",
    "\n",
    "fig.show()"
   ]
  },
  {
   "cell_type": "code",
   "execution_count": null,
   "metadata": {},
   "outputs": [],
   "source": []
  }
 ],
 "metadata": {
  "interpreter": {
   "hash": "ae1140af140338a4ac7f59ecaec629984b550fb1d67e11ebb3090ffc1bf53e72"
  },
  "kernelspec": {
   "display_name": "Python 3.8.3 ('base')",
   "language": "python",
   "name": "python3"
  },
  "language_info": {
   "codemirror_mode": {
    "name": "ipython",
    "version": 3
   },
   "file_extension": ".py",
   "mimetype": "text/x-python",
   "name": "python",
   "nbconvert_exporter": "python",
   "pygments_lexer": "ipython3",
   "version": "3.8.3"
  },
  "orig_nbformat": 4
 },
 "nbformat": 4,
 "nbformat_minor": 2
}
